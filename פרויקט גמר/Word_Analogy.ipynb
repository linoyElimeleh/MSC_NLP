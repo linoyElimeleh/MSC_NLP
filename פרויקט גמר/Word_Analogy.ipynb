{
  "nbformat": 4,
  "nbformat_minor": 0,
  "metadata": {
    "colab": {
      "provenance": [],
      "gpuType": "T4"
    },
    "kernelspec": {
      "name": "python3",
      "display_name": "Python 3"
    },
    "language_info": {
      "name": "python"
    },
    "accelerator": "GPU"
  },
  "cells": [
    {
      "cell_type": "markdown",
      "source": [
        "# Word Analogy\n",
        "\n",
        "In this section we compare the GloVe embedding analogy scores on the Google Analogy datasett. We then reduce its dimension and compare the anlogy score as a function of the embedding dimension.\n",
        "\n",
        "\n",
        "When given a pair of words $a$ and $a^*$ and a third word $b$,\n",
        "the analogy relationship between $a$ and $a^*$ can be used to\n",
        "find the corresponding word $b^*$ to $b$. Mathematically, it is\n",
        "expressed as\n",
        "\n",
        "$a : a^*$ :: $b : $__\n",
        "\n",
        "where the blank is $b^*$. One example could be\n",
        "write : writing :: read : reading.\n",
        "The 3CosAdd method solves for $b^*$ using the following\n",
        "equation:\n",
        "\n",
        "$b^* = argmax_{b'}(cos(b', a^* - a + b))$\n",
        "\n",
        "Thus, high cosine similarity means that vectors share a\n",
        "similar direction."
      ],
      "metadata": {
        "id": "Xwk-znxe5Z_0"
      }
    },
    {
      "cell_type": "markdown",
      "source": [
        "## 1. Imports"
      ],
      "metadata": {
        "id": "0A1Vf_1OnAXD"
      }
    },
    {
      "cell_type": "code",
      "execution_count": null,
      "metadata": {
        "id": "EZY5s8djm4-G",
        "colab": {
          "base_uri": "https://localhost:8080/"
        },
        "outputId": "c07bd8e2-3a97-4108-bcb8-73a58b67fa11"
      },
      "outputs": [
        {
          "output_type": "stream",
          "name": "stdout",
          "text": [
            "  Preparing metadata (setup.py) ... \u001b[?25l\u001b[?25hdone\n",
            "  Building wheel for wget (setup.py) ... \u001b[?25l\u001b[?25hdone\n"
          ]
        }
      ],
      "source": [
        "!pip install --q wget\n",
        "\n",
        "# general\n",
        "import os\n",
        "import gc\n",
        "import time\n",
        "import warnings\n",
        "\n",
        "# ML\n",
        "import numpy as np\n",
        "import pandas as pd\n",
        "from sklearn.random_projection import SparseRandomProjection\n",
        "\n",
        "# DL\n",
        "import torch\n",
        "\n",
        "# visual\n",
        "import matplotlib\n",
        "import seaborn as sns\n",
        "import matplotlib.pyplot as plt\n",
        "from IPython.display import display\n",
        "\n",
        "# misc\n",
        "import wget\n",
        "import zipfile\n",
        "\n",
        "warnings.filterwarnings('ignore')\n",
        "\n",
        "%matplotlib inline\n",
        "plt.rcParams['figure.figsize'] = (10, 6) # set default size of plots\n",
        "sns.set_style('whitegrid')"
      ]
    },
    {
      "cell_type": "code",
      "source": [
        "DEVICE = 'cuda' if torch.cuda.is_available() else 'cpu'\n",
        "assert DEVICE == 'cuda'"
      ],
      "metadata": {
        "id": "NPmE-_W62_-d"
      },
      "execution_count": null,
      "outputs": []
    },
    {
      "cell_type": "markdown",
      "source": [
        "## 2. Data Preparation"
      ],
      "metadata": {
        "id": "TI75WtOlnHRm"
      }
    },
    {
      "cell_type": "markdown",
      "source": [
        "Importing the Google Analogy dataset"
      ],
      "metadata": {
        "id": "jE1zaLZuuENG"
      }
    },
    {
      "cell_type": "code",
      "source": [
        "if not os.path.exists('questions-words.txt'):\n",
        "  wget.download('https://raw.githubusercontent.com/nicholas-leonard/word2vec/master/questions-words.txt')"
      ],
      "metadata": {
        "id": "f8aoFeLWqha8"
      },
      "execution_count": null,
      "outputs": []
    },
    {
      "cell_type": "code",
      "source": [
        "categories = {'names': [], 'df': []}\n",
        "\n",
        "with open('questions-words.txt', 'r') as f:\n",
        "  lines = f.readlines()\n",
        "\n",
        "for line in lines:\n",
        "  if line.startswith(':'):\n",
        "    categories['names'].append(line.strip(': \\r\\n'))\n",
        "    categories['df'].append({'a1': [], 'a2': [], 'b1': [], 'b2': []})\n",
        "\n",
        "    continue\n",
        "\n",
        "  a1, a2, b1, b2 = line.lower().strip('\\r\\n').split(' ')\n",
        "\n",
        "  categories['df'][-1]['a1'].append(a1)\n",
        "  categories['df'][-1]['a2'].append(a2)\n",
        "  categories['df'][-1]['b1'].append(b1)\n",
        "  categories['df'][-1]['b2'].append(b2)\n",
        "\n",
        "categories['df'] = [pd.DataFrame(i) for i in categories['df']]\n",
        "categories['sizes'] = [len(i) for i in categories['df']]"
      ],
      "metadata": {
        "id": "vSDv1MOuuTAP"
      },
      "execution_count": null,
      "outputs": []
    },
    {
      "cell_type": "code",
      "source": [
        "plt.bar(categories['names'], categories['sizes'], color='b')\n",
        "plt.xlabel('Category name')\n",
        "plt.ylabel('Number of records')\n",
        "plt.xticks(ha='right', rotation=45)\n",
        "plt.title('Records distribution in Google Analogy Dataset')\n",
        "plt.show()"
      ],
      "metadata": {
        "colab": {
          "base_uri": "https://localhost:8080/",
          "height": 679
        },
        "id": "ZCVqMr1uwOWk",
        "outputId": "8b7ed675-ffb5-44fe-e1af-6dc6002a6fd8"
      },
      "execution_count": null,
      "outputs": [
        {
          "output_type": "display_data",
          "data": {
            "text/plain": [
              "<Figure size 1000x600 with 1 Axes>"
            ],
            "image/png": "[encoded data removed]"
          },
          "metadata": {}
        }
      ]
    },
    {
      "cell_type": "code",
      "source": [
        "categories['df'] = [df.sample(n=500) for df in categories['df']]\n",
        "all_quads_df = pd.concat(categories['df'])\n",
        "\n",
        "print(f'There are {sum(categories[\"sizes\"])} records in the dataset, we use {len(all_quads_df)} records')\n",
        "all_quads_df.sample(n=20).head()"
      ],
      "metadata": {
        "colab": {
          "base_uri": "https://localhost:8080/",
          "height": 224
        },
        "id": "HIw7HB5RxPdL",
        "outputId": "26924302-1a1e-44a4-9802-0bc8c004e2d0"
      },
      "execution_count": null,
      "outputs": [
        {
          "output_type": "stream",
          "name": "stdout",
          "text": [
            "There are 19544 records in the dataset, we use 7000 records\n"
          ]
        },
        {
          "output_type": "execute_result",
          "data": {
            "text/plain": [
              "          a1         a2          b1            b2\n",
              "1136     pig       pigs       eagle        eagles\n",
              "782     sure     unsure  reasonable  unreasonable\n",
              "390      son   daughter     husband          wife\n",
              "973   vanish  vanishing    increase    increasing\n",
              "490     look    looking         sit       sitting"
            ],
            "text/html": [
              "\n",
              "  <div id=\"df-5ada6dba-fb08-4f6e-877f-12a6d738860e\" class=\"colab-df-container\">\n",
              "    <div>\n",
              "<style scoped>\n",
              "    .dataframe tbody tr th:only-of-type {\n",
              "        vertical-align: middle;\n",
              "    }\n",
              "\n",
              "    .dataframe tbody tr th {\n",
              "        vertical-align: top;\n",
              "    }\n",
              "\n",
              "    .dataframe thead th {\n",
              "        text-align: right;\n",
              "    }\n",
              "</style>\n",
              "<table border=\"1\" class=\"dataframe\">\n",
              "  <thead>\n",
              "    <tr style=\"text-align: right;\">\n",
              "      <th></th>\n",
              "      <th>a1</th>\n",
              "      <th>a2</th>\n",
              "      <th>b1</th>\n",
              "      <th>b2</th>\n",
              "    </tr>\n",
              "  </thead>\n",
              "  <tbody>\n",
              "    <tr>\n",
              "      <th>1136</th>\n",
              "      <td>pig</td>\n",
              "      <td>pigs</td>\n",
              "      <td>eagle</td>\n",
              "      <td>eagles</td>\n",
              "    </tr>\n",
              "    <tr>\n",
              "      <th>782</th>\n",
              "      <td>sure</td>\n",
              "      <td>unsure</td>\n",
              "      <td>reasonable</td>\n",
              "      <td>unreasonable</td>\n",
              "    </tr>\n",
              "    <tr>\n",
              "      <th>390</th>\n",
              "      <td>son</td>\n",
              "      <td>daughter</td>\n",
              "      <td>husband</td>\n",
              "      <td>wife</td>\n",
              "    </tr>\n",
              "    <tr>\n",
              "      <th>973</th>\n",
              "      <td>vanish</td>\n",
              "      <td>vanishing</td>\n",
              "      <td>increase</td>\n",
              "      <td>increasing</td>\n",
              "    </tr>\n",
              "    <tr>\n",
              "      <th>490</th>\n",
              "      <td>look</td>\n",
              "      <td>looking</td>\n",
              "      <td>sit</td>\n",
              "      <td>sitting</td>\n",
              "    </tr>\n",
              "  </tbody>\n",
              "</table>\n",
              "</div>\n",
              "    <div class=\"colab-df-buttons\">\n",
              "\n",
              "  <div class=\"colab-df-container\">\n",
              "    <button class=\"colab-df-convert\" onclick=\"convertToInteractive('df-5ada6dba-fb08-4f6e-877f-12a6d738860e')\"\n",
              "            title=\"Convert this dataframe to an interactive table.\"\n",
              "            style=\"display:none;\">\n",
              "\n",
              "  <svg xmlns=\"http://www.w3.org/2000/svg\" height=\"24px\" viewBox=\"0 -960 960 960\">\n",
              "    <path d=\"M120-120v-720h720v720H120Zm60-500h600v-160H180v160Zm220 220h160v-160H400v160Zm0 220h160v-160H400v160ZM180-400h160v-160H180v160Zm440 0h160v-160H620v160ZM180-180h160v-160H180v160Zm440 0h160v-160H620v160Z\"/>\n",
              "  </svg>\n",
              "    </button>\n",
              "\n",
              "  <style>\n",
              "    .colab-df-container {\n",
              "      display:flex;\n",
              "      gap: 12px;\n",
              "    }\n",
              "\n",
              "    .colab-df-convert {\n",
              "      background-color: #E8F0FE;\n",
              "      border: none;\n",
              "      border-radius: 50%;\n",
              "      cursor: pointer;\n",
              "      display: none;\n",
              "      fill: #1967D2;\n",
              "      height: 32px;\n",
              "      padding: 0 0 0 0;\n",
              "      width: 32px;\n",
              "    }\n",
              "\n",
              "    .colab-df-convert:hover {\n",
              "      background-color: #E2EBFA;\n",
              "      box-shadow: 0px 1px 2px rgba(60, 64, 67, 0.3), 0px 1px 3px 1px rgba(60, 64, 67, 0.15);\n",
              "      fill: #174EA6;\n",
              "    }\n",
              "\n",
              "    .colab-df-buttons div {\n",
              "      margin-bottom: 4px;\n",
              "    }\n",
              "\n",
              "    [theme=dark] .colab-df-convert {\n",
              "      background-color: #3B4455;\n",
              "      fill: #D2E3FC;\n",
              "    }\n",
              "\n",
              "    [theme=dark] .colab-df-convert:hover {\n",
              "      background-color: #434B5C;\n",
              "      box-shadow: 0px 1px 3px 1px rgba(0, 0, 0, 0.15);\n",
              "      filter: drop-shadow(0px 1px 2px rgba(0, 0, 0, 0.3));\n",
              "      fill: #FFFFFF;\n",
              "    }\n",
              "  </style>\n",
              "\n",
              "    <script>\n",
              "      const buttonEl =\n",
              "        document.querySelector('#df-5ada6dba-fb08-4f6e-877f-12a6d738860e button.colab-df-convert');\n",
              "      buttonEl.style.display =\n",
              "        google.colab.kernel.accessAllowed ? 'block' : 'none';\n",
              "\n",
              "      async function convertToInteractive(key) {\n",
              "        const element = document.querySelector('#df-5ada6dba-fb08-4f6e-877f-12a6d738860e');\n",
              "        const dataTable =\n",
              "          await google.colab.kernel.invokeFunction('convertToInteractive',\n",
              "                                                    [key], {});\n",
              "        if (!dataTable) return;\n",
              "\n",
              "        const docLinkHtml = 'Like what you see? Visit the ' +\n",
              "          '<a target=\"_blank\" href=https://colab.research.google.com/notebooks/data_table.ipynb>data table notebook</a>'\n",
              "          + ' to learn more about interactive tables.';\n",
              "        element.innerHTML = '';\n",
              "        dataTable['output_type'] = 'display_data';\n",
              "        await google.colab.output.renderOutput(dataTable, element);\n",
              "        const docLink = document.createElement('div');\n",
              "        docLink.innerHTML = docLinkHtml;\n",
              "        element.appendChild(docLink);\n",
              "      }\n",
              "    </script>\n",
              "  </div>\n",
              "\n",
              "\n",
              "<div id=\"df-eec1587f-5050-4481-aacb-599717ce913d\">\n",
              "  <button class=\"colab-df-quickchart\" onclick=\"quickchart('df-eec1587f-5050-4481-aacb-599717ce913d')\"\n",
              "            title=\"Suggest charts.\"\n",
              "            style=\"display:none;\">\n",
              "\n",
              "<svg xmlns=\"http://www.w3.org/2000/svg\" height=\"24px\"viewBox=\"0 0 24 24\"\n",
              "     width=\"24px\">\n",
              "    <g>\n",
              "        <path d=\"M19 3H5c-1.1 0-2 .9-2 2v14c0 1.1.9 2 2 2h14c1.1 0 2-.9 2-2V5c0-1.1-.9-2-2-2zM9 17H7v-7h2v7zm4 0h-2V7h2v10zm4 0h-2v-4h2v4z\"/>\n",
              "    </g>\n",
              "</svg>\n",
              "  </button>\n",
              "\n",
              "<style>\n",
              "  .colab-df-quickchart {\n",
              "    background-color: #E8F0FE;\n",
              "    border: none;\n",
              "    border-radius: 50%;\n",
              "    cursor: pointer;\n",
              "    display: none;\n",
              "    fill: #1967D2;\n",
              "    height: 32px;\n",
              "    padding: 0 0 0 0;\n",
              "    width: 32px;\n",
              "  }\n",
              "\n",
              "  .colab-df-quickchart:hover {\n",
              "    background-color: #E2EBFA;\n",
              "    box-shadow: 0px 1px 2px rgba(60, 64, 67, 0.3), 0px 1px 3px 1px rgba(60, 64, 67, 0.15);\n",
              "    fill: #174EA6;\n",
              "  }\n",
              "\n",
              "  [theme=dark] .colab-df-quickchart {\n",
              "    background-color: #3B4455;\n",
              "    fill: #D2E3FC;\n",
              "  }\n",
              "\n",
              "  [theme=dark] .colab-df-quickchart:hover {\n",
              "    background-color: #434B5C;\n",
              "    box-shadow: 0px 1px 3px 1px rgba(0, 0, 0, 0.15);\n",
              "    filter: drop-shadow(0px 1px 2px rgba(0, 0, 0, 0.3));\n",
              "    fill: #FFFFFF;\n",
              "  }\n",
              "</style>\n",
              "\n",
              "  <script>\n",
              "    async function quickchart(key) {\n",
              "      const charts = await google.colab.kernel.invokeFunction(\n",
              "          'suggestCharts', [key], {});\n",
              "    }\n",
              "    (() => {\n",
              "      let quickchartButtonEl =\n",
              "        document.querySelector('#df-eec1587f-5050-4481-aacb-599717ce913d button');\n",
              "      quickchartButtonEl.style.display =\n",
              "        google.colab.kernel.accessAllowed ? 'block' : 'none';\n",
              "    })();\n",
              "  </script>\n",
              "</div>\n",
              "    </div>\n",
              "  </div>\n"
            ]
          },
          "metadata": {},
          "execution_count": 6
        }
      ]
    },
    {
      "cell_type": "code",
      "source": [
        "all_words = pd.concat([all_quads_df['a1'], all_quads_df['a2'], all_quads_df['b1'], all_quads_df['b2']]).unique()\n",
        "print(f'There are {len(all_words)} unique words in the dataset.')"
      ],
      "metadata": {
        "colab": {
          "base_uri": "https://localhost:8080/"
        },
        "id": "7a8J_reryRzl",
        "outputId": "5c41c1a9-e191-4afb-dc32-a51844febcb2"
      },
      "execution_count": null,
      "outputs": [
        {
          "output_type": "stream",
          "name": "stdout",
          "text": [
            "There are 905 unique words in the dataset.\n"
          ]
        }
      ]
    },
    {
      "cell_type": "markdown",
      "source": [
        "Importing the GloVe embedding"
      ],
      "metadata": {
        "id": "3F7KiG-9uAH1"
      }
    },
    {
      "cell_type": "code",
      "source": [
        "if not os.path.exists('glove.6B.zip'):\n",
        "  wget.download('https://nlp.stanford.edu/data/glove.6B.zip')\n",
        "\n",
        "with zipfile.ZipFile('glove.6B.zip', 'r') as zip:\n",
        "    zip.extract('glove.6B.300d.txt')\n"
      ],
      "metadata": {
        "id": "DJDKle4JnKXN"
      },
      "execution_count": null,
      "outputs": []
    },
    {
      "cell_type": "code",
      "source": [
        "glove_dict = {}\n",
        "glove_dict_reverse_index = {}\n",
        "data_glove_weights = {}\n",
        "\n",
        "with open('glove.6B.300d.txt', 'r') as f:\n",
        "    for i, line in enumerate(f.readlines()):\n",
        "      values = line.strip('\\r\\n').split(' ')\n",
        "\n",
        "      glove_dict[values[0]] = i\n",
        "      glove_dict_reverse_index[i] = values[0]\n",
        "      if values[0] in all_words:\n",
        "        data_glove_weights[values[0]] = np.array(values[1:], dtype=np.float)"
      ],
      "metadata": {
        "id": "MO54GVQFxIbJ"
      },
      "execution_count": null,
      "outputs": []
    },
    {
      "cell_type": "code",
      "source": [
        "all_words_dict = {word: glove_dict.get(word, None) for word in all_words}\n",
        "all_words_dict_reverse_index = {i: word for word, i in all_words_dict.items()}\n",
        "\n",
        "words_without_embeddings = list(filter(lambda w: all_words_dict[w] is None, all_words_dict.keys()))\n",
        "\n",
        "print('words without embeddings:')\n",
        "words_without_embeddings"
      ],
      "metadata": {
        "colab": {
          "base_uri": "https://localhost:8080/"
        },
        "id": "ADgxcrUI1c_B",
        "outputId": "798e62bd-34ac-4a8a-a5ab-60c54b3ed475"
      },
      "execution_count": null,
      "outputs": [
        {
          "output_type": "stream",
          "name": "stdout",
          "text": [
            "words without embeddings:\n"
          ]
        },
        {
          "output_type": "execute_result",
          "data": {
            "text/plain": [
              "[]"
            ]
          },
          "metadata": {},
          "execution_count": 10
        }
      ]
    },
    {
      "cell_type": "markdown",
      "source": [
        "## 3. Baseline Experiment"
      ],
      "metadata": {
        "id": "GvZlOFe_iAkh"
      }
    },
    {
      "cell_type": "code",
      "source": [
        "def embed_word(word, embedding_matrix=data_glove_weights):\n",
        "  return embedding_matrix[word]\n",
        "\n",
        "def embed_df(df, embedding_func=embed_word, normalize=True):\n",
        "  df_embedded = df.copy()\n",
        "  df_embedded['a1'] = df_embedded['a1'].apply(embedding_func)\n",
        "  df_embedded['a2'] = df_embedded['a2'].apply(embedding_func)\n",
        "  df_embedded['b1'] = df_embedded['b1'].apply(embedding_func)\n",
        "\n",
        "  a1_matrix = np.stack(df_embedded['a1'].values.tolist())\n",
        "  a2_matrix = np.stack(df_embedded['a2'].values.tolist())\n",
        "  b1_matrix = np.stack(df_embedded['b1'].values.tolist())\n",
        "\n",
        "  if normalize:\n",
        "    a1_matrix = (a1_matrix.T / np.linalg.norm(a1_matrix, axis=1)).T\n",
        "    a2_matrix = (a2_matrix.T / np.linalg.norm(a2_matrix, axis=1)).T\n",
        "    b1_matrix = (b1_matrix.T / np.linalg.norm(b1_matrix, axis=1)).T\n",
        "\n",
        "  del df_embedded\n",
        "  return a1_matrix, a2_matrix, b1_matrix\n",
        "\n",
        "a1_matrix, a2_matrix, b1_matrix = embed_df(all_quads_df)"
      ],
      "metadata": {
        "id": "IOaBQ178ijzN"
      },
      "execution_count": null,
      "outputs": []
    },
    {
      "cell_type": "code",
      "source": [
        "def torch_to_numpy(x):\n",
        "  ''' overiding variable to save memory '''\n",
        "  x = x.numpy()\n",
        "  return x\n",
        "\n",
        "def numpy_to_torch(x):\n",
        "  ''' overiding variable to save memory '''\n",
        "  x = torch.from_numpy(x)\n",
        "  return x\n",
        "\n",
        "\n",
        "def analogy_score(a1, a2, b1, vocab=glove_dict, chunks=4, transform=None):\n",
        "  chunk_size = int(len(vocab) / chunks)\n",
        "  curr_score = (torch.zeros(a1.shape[0]) - 10000).to(DEVICE)\n",
        "  curr_indices = torch.zeros(a1.shape[0], dtype=torch.long).to(DEVICE)\n",
        "\n",
        "  a1 = numpy_to_torch(a1)\n",
        "  a2 = numpy_to_torch(a2)\n",
        "  b1 = numpy_to_torch(b1)\n",
        "\n",
        "  for i in range(chunks):\n",
        "    weights = []\n",
        "\n",
        "    with open('glove.6B.300d.txt', 'r') as f:\n",
        "      lines = f.readlines()[i * chunk_size : (i + 1) * chunk_size]\n",
        "\n",
        "      for line in lines:\n",
        "        values = line.strip('\\r\\n').split(' ')\n",
        "        weights.append(np.array(values[1:], dtype=np.float))\n",
        "\n",
        "    weights = np.stack(weights, axis=0)\n",
        "    weights = transform(weights) if transform is not None else weights\n",
        "    weights = (weights.T / np.linalg.norm(weights, axis=1)).T\n",
        "\n",
        "    a2_on_device = a2.to(DEVICE)\n",
        "    a1_on_device = a1.to(DEVICE)\n",
        "    b1_on_device = b1.to(DEVICE)\n",
        "    analogy_ref = a2_on_device - a1_on_device + b1_on_device\n",
        "\n",
        "    weights_on_device = numpy_to_torch(weights).to(DEVICE)\n",
        "    score = torch.matmul(analogy_ref, weights_on_device.T)\n",
        "\n",
        "    del analogy_ref, weights_on_device\n",
        "\n",
        "    max_score = torch.max(score, dim=1)\n",
        "\n",
        "    # update the currnet max score and replace indices where the max score changed\n",
        "    curr_score = torch.maximum(curr_score, max_score.values)\n",
        "    indices_mask = curr_score == max_score.values\n",
        "    curr_indices[indices_mask] = max_score.indices[indices_mask] + i * chunk_size\n",
        "\n",
        "  a1 = torch_to_numpy(a1)\n",
        "  a2 = torch_to_numpy(a2)\n",
        "  b1 = torch_to_numpy(b1)\n",
        "\n",
        "  return torch_to_numpy(curr_indices.cpu())"
      ],
      "metadata": {
        "id": "gZh4zItSlhZK"
      },
      "execution_count": null,
      "outputs": []
    },
    {
      "cell_type": "code",
      "source": [
        "torch.cuda.empty_cache()\n",
        "gc.collect()"
      ],
      "metadata": {
        "colab": {
          "base_uri": "https://localhost:8080/"
        },
        "id": "uCzFDx6Qc1b_",
        "outputId": "ed45259a-a5e0-4109-a433-6c26200055f9"
      },
      "execution_count": null,
      "outputs": [
        {
          "output_type": "execute_result",
          "data": {
            "text/plain": [
              "4463"
            ]
          },
          "metadata": {},
          "execution_count": 13
        }
      ]
    },
    {
      "cell_type": "code",
      "source": [
        "indices = analogy_score(a1_matrix, a2_matrix, b1_matrix)\n",
        "\n",
        "torch.cuda.empty_cache()\n",
        "gc.collect()"
      ],
      "metadata": {
        "colab": {
          "base_uri": "https://localhost:8080/"
        },
        "id": "RP3ulbIglPoV",
        "outputId": "c2e90907-be47-417f-c0c7-5a5a9221453f"
      },
      "execution_count": null,
      "outputs": [
        {
          "output_type": "execute_result",
          "data": {
            "text/plain": [
              "12"
            ]
          },
          "metadata": {},
          "execution_count": 14
        }
      ]
    },
    {
      "cell_type": "code",
      "source": [
        "all_quads_df['b2 pred'] = [glove_dict_reverse_index[i] for i in indices]\n",
        "baseline_accuracy = len(all_quads_df[all_quads_df['b2'] == all_quads_df['b2 pred']]) / len(all_quads_df) * 100\n",
        "\n",
        "print(f'The Accuracy of GloVe embedding on the analogy dataset is {baseline_accuracy}%')\n",
        "\n",
        "print('predictions sample:')\n",
        "all_quads_df.sample(n=20).head(7)"
      ],
      "metadata": {
        "colab": {
          "base_uri": "https://localhost:8080/",
          "height": 304
        },
        "id": "SYI40OXbQHG0",
        "outputId": "5024655d-bcc8-4ac1-f7b0-9b86499013fe"
      },
      "execution_count": null,
      "outputs": [
        {
          "output_type": "stream",
          "name": "stdout",
          "text": [
            "The Accuracy of GloVe embedding on the analogy dataset is 18.057142857142857%\n",
            "predictions sample:\n"
          ]
        },
        {
          "output_type": "execute_result",
          "data": {
            "text/plain": [
              "           a1             a2        b1         b2   b2 pred\n",
              "218    canada         dollar    russia      ruble    dollar\n",
              "1051    malta        maltese     japan   japanese  japanese\n",
              "387    boston  massachusetts     miami    florida     miami\n",
              "938     tasty       tastiest     great   greatest  greatest\n",
              "786      walk          walks  describe  describes  describe\n",
              "847   vietnam           dong    europe       euro    europe\n",
              "1513  walking         walked  sleeping      slept  sleeping"
            ],
            "text/html": [
              "\n",
              "\n",
              "  <div id=\"df-3d2e9f16-f967-4562-bcaa-693e83fe5f7d\">\n",
              "    <div class=\"colab-df-container\">\n",
              "      <div>\n",
              "<style scoped>\n",
              "    .dataframe tbody tr th:only-of-type {\n",
              "        vertical-align: middle;\n",
              "    }\n",
              "\n",
              "    .dataframe tbody tr th {\n",
              "        vertical-align: top;\n",
              "    }\n",
              "\n",
              "    .dataframe thead th {\n",
              "        text-align: right;\n",
              "    }\n",
              "</style>\n",
              "<table border=\"1\" class=\"dataframe\">\n",
              "  <thead>\n",
              "    <tr style=\"text-align: right;\">\n",
              "      <th></th>\n",
              "      <th>a1</th>\n",
              "      <th>a2</th>\n",
              "      <th>b1</th>\n",
              "      <th>b2</th>\n",
              "      <th>b2 pred</th>\n",
              "    </tr>\n",
              "  </thead>\n",
              "  <tbody>\n",
              "    <tr>\n",
              "      <th>218</th>\n",
              "      <td>canada</td>\n",
              "      <td>dollar</td>\n",
              "      <td>russia</td>\n",
              "      <td>ruble</td>\n",
              "      <td>dollar</td>\n",
              "    </tr>\n",
              "    <tr>\n",
              "      <th>1051</th>\n",
              "      <td>malta</td>\n",
              "      <td>maltese</td>\n",
              "      <td>japan</td>\n",
              "      <td>japanese</td>\n",
              "      <td>japanese</td>\n",
              "    </tr>\n",
              "    <tr>\n",
              "      <th>387</th>\n",
              "      <td>boston</td>\n",
              "      <td>massachusetts</td>\n",
              "      <td>miami</td>\n",
              "      <td>florida</td>\n",
              "      <td>miami</td>\n",
              "    </tr>\n",
              "    <tr>\n",
              "      <th>938</th>\n",
              "      <td>tasty</td>\n",
              "      <td>tastiest</td>\n",
              "      <td>great</td>\n",
              "      <td>greatest</td>\n",
              "      <td>greatest</td>\n",
              "    </tr>\n",
              "    <tr>\n",
              "      <th>786</th>\n",
              "      <td>walk</td>\n",
              "      <td>walks</td>\n",
              "      <td>describe</td>\n",
              "      <td>describes</td>\n",
              "      <td>describe</td>\n",
              "    </tr>\n",
              "    <tr>\n",
              "      <th>847</th>\n",
              "      <td>vietnam</td>\n",
              "      <td>dong</td>\n",
              "      <td>europe</td>\n",
              "      <td>euro</td>\n",
              "      <td>europe</td>\n",
              "    </tr>\n",
              "    <tr>\n",
              "      <th>1513</th>\n",
              "      <td>walking</td>\n",
              "      <td>walked</td>\n",
              "      <td>sleeping</td>\n",
              "      <td>slept</td>\n",
              "      <td>sleeping</td>\n",
              "    </tr>\n",
              "  </tbody>\n",
              "</table>\n",
              "</div>\n",
              "      <button class=\"colab-df-convert\" onclick=\"convertToInteractive('df-3d2e9f16-f967-4562-bcaa-693e83fe5f7d')\"\n",
              "              title=\"Convert this dataframe to an interactive table.\"\n",
              "              style=\"display:none;\">\n",
              "\n",
              "  <svg xmlns=\"http://www.w3.org/2000/svg\" height=\"24px\"viewBox=\"0 0 24 24\"\n",
              "       width=\"24px\">\n",
              "    <path d=\"M0 0h24v24H0V0z\" fill=\"none\"/>\n",
              "    <path d=\"M18.56 5.44l.94 2.06.94-2.06 2.06-.94-2.06-.94-.94-2.06-.94 2.06-2.06.94zm-11 1L8.5 8.5l.94-2.06 2.06-.94-2.06-.94L8.5 2.5l-.94 2.06-2.06.94zm10 10l.94 2.06.94-2.06 2.06-.94-2.06-.94-.94-2.06-.94 2.06-2.06.94z\"/><path d=\"M17.41 7.96l-1.37-1.37c-.4-.4-.92-.59-1.43-.59-.52 0-1.04.2-1.43.59L10.3 9.45l-7.72 7.72c-.78.78-.78 2.05 0 2.83L4 21.41c.39.39.9.59 1.41.59.51 0 1.02-.2 1.41-.59l7.78-7.78 2.81-2.81c.8-.78.8-2.07 0-2.86zM5.41 20L4 18.59l7.72-7.72 1.47 1.35L5.41 20z\"/>\n",
              "  </svg>\n",
              "      </button>\n",
              "\n",
              "\n",
              "\n",
              "    <div id=\"df-c3901e9c-d1b4-4310-acd8-dc45896ab817\">\n",
              "      <button class=\"colab-df-quickchart\" onclick=\"quickchart('df-c3901e9c-d1b4-4310-acd8-dc45896ab817')\"\n",
              "              title=\"Suggest charts.\"\n",
              "              style=\"display:none;\">\n",
              "\n",
              "<svg xmlns=\"http://www.w3.org/2000/svg\" height=\"24px\"viewBox=\"0 0 24 24\"\n",
              "     width=\"24px\">\n",
              "    <g>\n",
              "        <path d=\"M19 3H5c-1.1 0-2 .9-2 2v14c0 1.1.9 2 2 2h14c1.1 0 2-.9 2-2V5c0-1.1-.9-2-2-2zM9 17H7v-7h2v7zm4 0h-2V7h2v10zm4 0h-2v-4h2v4z\"/>\n",
              "    </g>\n",
              "</svg>\n",
              "      </button>\n",
              "    </div>\n",
              "\n",
              "<style>\n",
              "  .colab-df-quickchart {\n",
              "    background-color: #E8F0FE;\n",
              "    border: none;\n",
              "    border-radius: 50%;\n",
              "    cursor: pointer;\n",
              "    display: none;\n",
              "    fill: #1967D2;\n",
              "    height: 32px;\n",
              "    padding: 0 0 0 0;\n",
              "    width: 32px;\n",
              "  }\n",
              "\n",
              "  .colab-df-quickchart:hover {\n",
              "    background-color: #E2EBFA;\n",
              "    box-shadow: 0px 1px 2px rgba(60, 64, 67, 0.3), 0px 1px 3px 1px rgba(60, 64, 67, 0.15);\n",
              "    fill: #174EA6;\n",
              "  }\n",
              "\n",
              "  [theme=dark] .colab-df-quickchart {\n",
              "    background-color: #3B4455;\n",
              "    fill: #D2E3FC;\n",
              "  }\n",
              "\n",
              "  [theme=dark] .colab-df-quickchart:hover {\n",
              "    background-color: #434B5C;\n",
              "    box-shadow: 0px 1px 3px 1px rgba(0, 0, 0, 0.15);\n",
              "    filter: drop-shadow(0px 1px 2px rgba(0, 0, 0, 0.3));\n",
              "    fill: #FFFFFF;\n",
              "  }\n",
              "</style>\n",
              "\n",
              "    <script>\n",
              "      async function quickchart(key) {\n",
              "        const containerElement = document.querySelector('#' + key);\n",
              "        const charts = await google.colab.kernel.invokeFunction(\n",
              "            'suggestCharts', [key], {});\n",
              "      }\n",
              "    </script>\n",
              "\n",
              "      <script>\n",
              "\n",
              "function displayQuickchartButton(domScope) {\n",
              "  let quickchartButtonEl =\n",
              "    domScope.querySelector('#df-c3901e9c-d1b4-4310-acd8-dc45896ab817 button.colab-df-quickchart');\n",
              "  quickchartButtonEl.style.display =\n",
              "    google.colab.kernel.accessAllowed ? 'block' : 'none';\n",
              "}\n",
              "\n",
              "        displayQuickchartButton(document);\n",
              "      </script>\n",
              "      <style>\n",
              "    .colab-df-container {\n",
              "      display:flex;\n",
              "      flex-wrap:wrap;\n",
              "      gap: 12px;\n",
              "    }\n",
              "\n",
              "    .colab-df-convert {\n",
              "      background-color: #E8F0FE;\n",
              "      border: none;\n",
              "      border-radius: 50%;\n",
              "      cursor: pointer;\n",
              "      display: none;\n",
              "      fill: #1967D2;\n",
              "      height: 32px;\n",
              "      padding: 0 0 0 0;\n",
              "      width: 32px;\n",
              "    }\n",
              "\n",
              "    .colab-df-convert:hover {\n",
              "      background-color: #E2EBFA;\n",
              "      box-shadow: 0px 1px 2px rgba(60, 64, 67, 0.3), 0px 1px 3px 1px rgba(60, 64, 67, 0.15);\n",
              "      fill: #174EA6;\n",
              "    }\n",
              "\n",
              "    [theme=dark] .colab-df-convert {\n",
              "      background-color: #3B4455;\n",
              "      fill: #D2E3FC;\n",
              "    }\n",
              "\n",
              "    [theme=dark] .colab-df-convert:hover {\n",
              "      background-color: #434B5C;\n",
              "      box-shadow: 0px 1px 3px 1px rgba(0, 0, 0, 0.15);\n",
              "      filter: drop-shadow(0px 1px 2px rgba(0, 0, 0, 0.3));\n",
              "      fill: #FFFFFF;\n",
              "    }\n",
              "  </style>\n",
              "\n",
              "      <script>\n",
              "        const buttonEl =\n",
              "          document.querySelector('#df-3d2e9f16-f967-4562-bcaa-693e83fe5f7d button.colab-df-convert');\n",
              "        buttonEl.style.display =\n",
              "          google.colab.kernel.accessAllowed ? 'block' : 'none';\n",
              "\n",
              "        async function convertToInteractive(key) {\n",
              "          const element = document.querySelector('#df-3d2e9f16-f967-4562-bcaa-693e83fe5f7d');\n",
              "          const dataTable =\n",
              "            await google.colab.kernel.invokeFunction('convertToInteractive',\n",
              "                                                     [key], {});\n",
              "          if (!dataTable) return;\n",
              "\n",
              "          const docLinkHtml = 'Like what you see? Visit the ' +\n",
              "            '<a target=\"_blank\" href=https://colab.research.google.com/notebooks/data_table.ipynb>data table notebook</a>'\n",
              "            + ' to learn more about interactive tables.';\n",
              "          element.innerHTML = '';\n",
              "          dataTable['output_type'] = 'display_data';\n",
              "          await google.colab.output.renderOutput(dataTable, element);\n",
              "          const docLink = document.createElement('div');\n",
              "          docLink.innerHTML = docLinkHtml;\n",
              "          element.appendChild(docLink);\n",
              "        }\n",
              "      </script>\n",
              "    </div>\n",
              "  </div>\n"
            ]
          },
          "metadata": {},
          "execution_count": 15
        }
      ]
    },
    {
      "cell_type": "markdown",
      "source": [
        "## 4. JLT Embedding Experiment"
      ],
      "metadata": {
        "id": "1dh0WX-5udZ7"
      }
    },
    {
      "cell_type": "markdown",
      "source": [
        "In this section we apply the Johnson-Lindenstrauss transformation on the GloVe embedding and compute the cosine similarity of datasets.\n",
        "\n",
        "\n",
        "JL is a dimensionality reduction method that preserves Euclidean distance by applying random projection.\n",
        "Given $\\epsilon \\in (0, 1)$, a set $X \\subset R^D $ there exists a linear map $f : R^D → R^K$ such that:\n",
        "\n",
        "$$ (1 - \\epsilon) ||v - u||_2 \\le || f(v) - f(u) ||_2 \\le (1 + \\epsilon) ||v - u||_2$$\n",
        "\n",
        "for all $u , v \\in X$.\n",
        "\n",
        "We apply the transformation on the embedding and then compute the 3CosAdd of the reduced vectors."
      ],
      "metadata": {
        "id": "emKiJvJ9ulbC"
      }
    },
    {
      "cell_type": "code",
      "source": [
        "components = [300, 250, 200, 150, 100, 75, 60, 50, 30]\n",
        "\n",
        "def run_jl_experiment(components, df, baseline_accuracy, plot_options=None, iterations=10):\n",
        "  accs = [baseline_accuracy]\n",
        "\n",
        "  for component in components:\n",
        "    accumulating_acc = 0.0\n",
        "\n",
        "    if component == 300:\n",
        "      continue\n",
        "\n",
        "    for _ in range(iterations):\n",
        "      sp = SparseRandomProjection(n_components = component)\n",
        "      reduced_weights = {k: sp.fit_transform([v]).reshape(1,-1) for k, v in data_glove_weights.items()}\n",
        "      embedding_func = lambda word: np.squeeze(embed_word(word, reduced_weights))\n",
        "\n",
        "      a1_matrix, a2_matrix, b1_matrix = embed_df(df, embedding_func)\n",
        "\n",
        "      torch.cuda.empty_cache()\n",
        "      gc.collect()\n",
        "\n",
        "      indices = analogy_score(a1_matrix, a2_matrix, b1_matrix, transform=sp.fit_transform)\n",
        "\n",
        "      res_df = df.copy()\n",
        "      res_df['b2 pred'] = [glove_dict_reverse_index[i] for i in indices]\n",
        "\n",
        "      accumulating_acc += len(res_df[res_df['b2'] == res_df['b2 pred']]) / len(res_df) * 100\n",
        "\n",
        "      del a1_matrix, a2_matrix, b1_matrix, res_df\n",
        "\n",
        "    accs.append(accumulating_acc / iterations)\n",
        "\n",
        "\n",
        "  if plot_options is not None:\n",
        "    plt.plot(components, accs, 'bo-')\n",
        "    plt.plot(components, [baseline_accuracy] * len(components), 'r--')\n",
        "    plt.xlabel('Components Number')\n",
        "    plt.ylabel('Accuracy')\n",
        "    plt.legend(['Exp results', 'Baseline result'])\n",
        "    plt.title(plot_options['title'])\n",
        "    plt.show()\n"
      ],
      "metadata": {
        "id": "fbZ1Af3ku5bY"
      },
      "execution_count": null,
      "outputs": []
    },
    {
      "cell_type": "code",
      "source": [
        "run_jl_experiment(components, all_quads_df, baseline_accuracy, {'title': 'Embedding Accuracy after JLT'})"
      ],
      "metadata": {
        "id": "7zQWqSNaC3ga",
        "colab": {
          "base_uri": "https://localhost:8080/",
          "height": 564
        },
        "outputId": "e8c206b8-9188-42bc-89ad-a63b1ce93a0e"
      },
      "execution_count": null,
      "outputs": [
        {
          "output_type": "display_data",
          "data": {
            "text/plain": [
              "<Figure size 1000x600 with 1 Axes>"
            ],
            "image/png": "[encoded data removed]"
          },
          "metadata": {}
        }
      ]
    },
    {
      "cell_type": "markdown",
      "source": [
        "## 5. CSSRPL Embedding Experiment"
      ],
      "metadata": {
        "id": "tSQhcf_VB6p0"
      }
    },
    {
      "cell_type": "markdown",
      "source": [
        "In this section we apply the CSSRPL transformation on the GloVe embedding and compute the cosine similarity of datasets.\n",
        "\n",
        "\n",
        "In the *Improving Sign-Random-Projection via Count Sketch* [[1](https://openreview.net/pdf?id=StLUq88jqx9)] paper the authors propose two ways to improve Sign-Random-Projection (SRP) or SimHash algorithms which provides an unbiased estimate for pairwise cosine similarity of vectors.\n",
        "\n",
        "<br>\n",
        "\n",
        "The CSSRP algorithm is based on the sketch proposed in [[2](https://www.cs.princeton.edu/courses/archive/spr04/cos598B/bib/CharikarEstim.pdf)] which works as follows:\n",
        "\n",
        "let $A \\in R^{K \\times D}$ be a random linear operator where $\\forall a_{ij} \\sim 𝒩 \\ (0,1)$ and let $a,b \\in R^D$.\n",
        "\n",
        "Now let $\\alpha, \\beta \\in \\{0,1\\}^K$ such that $\\alpha_i = \\Bbb{I} _{ Aa_i > 0}$ and $\\beta_i =  \\Bbb{I}_{ Ab_i > 0}$ (meaning that the projection vectors get one when the product of the vector with the projection matrix row is positive). Now if we take the Hamming distance between $\\alpha, \\beta$ and multiply it by $\\frac{\\pi}{K}$ we get the angle between $a,b$:\n",
        "\n",
        "$X = \\frac{\\pi}{K} \\sum_{i=1}^{K} X^{(i)}$ where $ X^{(i)} =  \\Bbb{I}_{ \\alpha_i \\ne \\beta_i}$\n",
        "\n",
        "$\\theta_{(a,b)}=𝔼[X]$\n",
        "\n",
        "which is equivalent to:\n",
        "\n",
        "$\\theta_{(a,b)}= \\frac{\\pi}{K} || \\alpha - \\beta ||_1$\n",
        "\n",
        "\n",
        "<br>\n",
        "\n",
        "\n",
        "The authors propose instead of applying the random projection $A$, sketching each input vector with Count Sketch (with $d$ rows and $w$ buckets in each row, altogether $d \\cdot w = K$) and then continuing as mentioned before:\n",
        "\n",
        "$\\forall a,b \\in R^D$ create Count sketches $\\alpha, \\beta \\in ℤ^K$, then apply function $h( \\cdot )$ on each sketch where $h$ takes each component of the input vector and returns 1 if it is positive, else 0. Then we compute:\n",
        "\n",
        "$\\theta_{(a,b)}= \\frac{\\pi}{K} || h(\\alpha) - h(\\beta) ||_1$\n",
        "\n",
        "The paper shows that this is an unbiased estimate of the cosine similarity of any two vectors and furthermore, this result has smaller variance than the SRP.\n",
        "\n",
        "<br>\n",
        "\n",
        "In the second part of the paper, the authors suggest another improvement to the original algorithm- instead of using the random operator $A \\in R^{K \\times D}$ where $\\forall a_{ij} \\sim 𝒩 \\ (0,1)$, they offer using a matrix $A' \\in R^{K \\times D}$ where each column has $l$ random entries which are $\\{\\pm1\\}$ with probability $\\frac{1}{2}$ and the rest of the matrix is $0$. The rest of the algorithm stays the same - projecting the vectors, applying the function $h( \\cdot )$ and computing the Hamming distance.\n",
        "\n",
        "<br>\n",
        "\n",
        "We use the second technique and apply it on the GloVe embedding: for each two vectors $a,b$ we compute:\n",
        "$cos(\\theta_{(a,b)})= cos(\\frac{\\pi}{K} || h(\\alpha) - h(\\beta) ||_1)$\n",
        "\n",
        "where $\\alpha_i = \\Bbb{I} _{ A'a_i > 0}$ and $\\beta_i =  \\Bbb{I}_{ A'b_i > 0}$\n",
        "and then we can plug it into the 3CosAdd function."
      ],
      "metadata": {
        "id": "TLhyaXbFB_oO"
      }
    },
    {
      "cell_type": "code",
      "source": [
        "def cssrpl_analogy_score(a1, a2, b1, vocab=glove_dict, chunks=4, transform=None, component=np.pi):\n",
        "  chunk_size = int(len(vocab) / chunks)\n",
        "  curr_score = np.zeros(a1.shape[0]) - 10000\n",
        "  curr_indices = np.zeros(a1.shape[0])\n",
        "\n",
        "  for i in range(chunks):\n",
        "    weights = []\n",
        "\n",
        "    with open('glove.6B.300d.txt', 'r') as f:\n",
        "      lines = f.readlines()[i * chunk_size : (i + 1) * chunk_size]\n",
        "\n",
        "      for line in lines:\n",
        "        values = line.strip('\\r\\n').split(' ')\n",
        "        weights.append(np.array(values[1:], dtype=np.float))\n",
        "\n",
        "    weights = np.stack(weights, axis=0)\n",
        "    weights = transform(weights) if transform is not None else weights\n",
        "\n",
        "    analogy_ref = a2 - a1 + b1\n",
        "    score = np.zeros((analogy_ref.shape[0], weights.shape[1]))\n",
        "\n",
        "    for j in range(score.shape[0]):\n",
        "      for k in range(score.shape[1]):\n",
        "        score[j, k] = np.cos((np.pi / component) * np.linalg.norm(analogy_ref[j, :] - weights[k, :], ord=1))\n",
        "\n",
        "    del analogy_ref, weights\n",
        "\n",
        "    max_score = score.max(axis=1)\n",
        "    max_score_indices = score.argmax(axis=1)\n",
        "\n",
        "    # update the currnet max score and replace indices where the max score changed\n",
        "    curr_score = np.maximum(curr_score, max_score)\n",
        "    indices_mask = curr_score == max_score\n",
        "    curr_indices[indices_mask] = max_score_indices[indices_mask] + i * chunk_size\n",
        "\n",
        "  return curr_indices"
      ],
      "metadata": {
        "id": "dvtETavRvxRu"
      },
      "execution_count": null,
      "outputs": []
    },
    {
      "cell_type": "code",
      "source": [
        "components = [300, 250, 200, 150, 100, 75, 60, 50, 30]\n",
        "\n",
        "def run_cssrpl_experiment(components, df, baseline_accuracy, plot_options=None, iterations=10):\n",
        "  accs = [[baseline_accuracy], [baseline_accuracy], [baseline_accuracy]]\n",
        "  l_values = [2, 3, 4]\n",
        "\n",
        "  for i, l in enumerate(l_values):\n",
        "    for component in components:\n",
        "      accumulating_acc = 0.0\n",
        "\n",
        "      if component == 300:\n",
        "        continue\n",
        "\n",
        "      for _ in range(iterations):\n",
        "        projection_matrix = np.zeros((component, 300))\n",
        "\n",
        "        for col in range(component):\n",
        "          non_zero_indices = np.random.choice(component, l)\n",
        "          for row in non_zero_indices:\n",
        "            projection_matrix[row, col] = np.random.randint(2) * 2 - 1\n",
        "\n",
        "\n",
        "        projection = lambda weights: np.where(weights @ projection_matrix.T > 0, 1, 0)\n",
        "\n",
        "        reduced_weights = {k: projection(v).reshape(1,-1) for k, v in data_glove_weights.items()}\n",
        "        embedding_func = lambda word: np.squeeze(embed_word(word, reduced_weights))\n",
        "\n",
        "        a1_matrix, a2_matrix, b1_matrix = embed_df(df, embedding_func, normalize=False)\n",
        "\n",
        "        torch.cuda.empty_cache()\n",
        "        gc.collect()\n",
        "\n",
        "        indices = cssrpl_analogy_score(a1_matrix, a2_matrix, b1_matrix, transform=projection, component=component)\n",
        "\n",
        "        res_df = df.copy()\n",
        "        res_df['b2 pred'] = [glove_dict_reverse_index[i] for i in indices]\n",
        "\n",
        "        accumulating_acc += len(res_df[res_df['b2'] == res_df['b2 pred']]) / len(res_df) * 100\n",
        "\n",
        "        del a1_matrix, a2_matrix, b1_matrix, res_df\n",
        "\n",
        "      accs[i].append(accumulating_acc / iterations)\n",
        "\n",
        "  if plot_options is not None:\n",
        "    plt.plot(components, accs[0], 'bo-')\n",
        "    plt.plot(components, accs[1], 'go-')\n",
        "    plt.plot(components, accs[2], 'co-')\n",
        "    plt.plot(components, [baseline_accuracy] * len(components), 'r--')\n",
        "    plt.xlabel('Components Number')\n",
        "    plt.ylabel('Accuracy')\n",
        "    plt.legend(['Exp results l=2', 'Exp results l=3', 'Exp results l=4', 'Baseline result'])\n",
        "    plt.title(plot_options['title'])\n",
        "    plt.show()\n"
      ],
      "metadata": {
        "id": "pAXF6Jc58p5q"
      },
      "execution_count": null,
      "outputs": []
    },
    {
      "cell_type": "code",
      "source": [
        "run_cssrpl_experiment(components, all_quads_df, baseline_accuracy, {'title': 'Embedding Accuracy after CSSRPL'})"
      ],
      "metadata": {
        "colab": {
          "base_uri": "https://localhost:8080/",
          "height": 564
        },
        "id": "SojDIWfZGPvb",
        "outputId": "5a342f38-297c-4e50-d53c-9e16007805eb"
      },
      "execution_count": null,
      "outputs": [
        {
          "output_type": "display_data",
          "data": {
            "text/plain": [
              "<Figure size 1000x600 with 1 Axes>"
            ],
            "image/png": "[encoded data removed]"
          },
          "metadata": {}
        }
      ]
    },
    {
      "cell_type": "markdown",
      "source": [
        "# Refrences\n",
        "\n",
        "[1] Dubey, Punit Pankaj, et al. \"Improving sign-random-projection via count sketch.\" Uncertainty in Artificial Intelligence. PMLR, 2022.\n",
        "\n",
        "[2] Moses S Charikar. Similarity estimation techniques from\n",
        "rounding algorithms. In Proceedings of the thiry-fourth\n",
        "annual ACM symposium on Theory of computing, pages\n",
        "380-388, 2002."
      ],
      "metadata": {
        "id": "xj7tMzPBKMUJ"
      }
    }
  ]
}