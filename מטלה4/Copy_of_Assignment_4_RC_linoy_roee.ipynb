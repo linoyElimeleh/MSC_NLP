{
  "nbformat": 4,
  "nbformat_minor": 0,
  "metadata": {
    "colab": {
      "provenance": []
    },
    "kernelspec": {
      "name": "python3",
      "display_name": "Python 3"
    },
    "accelerator": "GPU",
    "widgets": {
      "application/vnd.jupyter.widget-state+json": {
        "b49b67b8faa1479593032a3a3ff38b3d": {
          "model_module": "@jupyter-widgets/controls",
          "model_name": "HBoxModel",
          "model_module_version": "1.5.0",
          "state": {
            "_dom_classes": [],
            "_model_module": "@jupyter-widgets/controls",
            "_model_module_version": "1.5.0",
            "_model_name": "HBoxModel",
            "_view_count": null,
            "_view_module": "@jupyter-widgets/controls",
            "_view_module_version": "1.5.0",
            "_view_name": "HBoxView",
            "box_style": "",
            "children": [
              "IPY_MODEL_89abbde5da884efdafd84f95b1a48726",
              "IPY_MODEL_b1e3f62f883244d38f5250725265f677",
              "IPY_MODEL_707fc46f596f481187927110d4d87932"
            ],
            "layout": "IPY_MODEL_b1d9d767e0db490e89d564f7e609996d"
          }
        },
        "89abbde5da884efdafd84f95b1a48726": {
          "model_module": "@jupyter-widgets/controls",
          "model_name": "HTMLModel",
          "model_module_version": "1.5.0",
          "state": {
            "_dom_classes": [],
            "_model_module": "@jupyter-widgets/controls",
            "_model_module_version": "1.5.0",
            "_model_name": "HTMLModel",
            "_view_count": null,
            "_view_module": "@jupyter-widgets/controls",
            "_view_module_version": "1.5.0",
            "_view_name": "HTMLView",
            "description": "",
            "description_tooltip": null,
            "layout": "IPY_MODEL_135a791454ea47d39e5a3d34a9fd9b09",
            "placeholder": "​",
            "style": "IPY_MODEL_585b6bea7bd5411faba8c9575eb050e0",
            "value": "Downloading (…)solve/main/vocab.txt: 100%"
          }
        },
        "b1e3f62f883244d38f5250725265f677": {
          "model_module": "@jupyter-widgets/controls",
          "model_name": "FloatProgressModel",
          "model_module_version": "1.5.0",
          "state": {
            "_dom_classes": [],
            "_model_module": "@jupyter-widgets/controls",
            "_model_module_version": "1.5.0",
            "_model_name": "FloatProgressModel",
            "_view_count": null,
            "_view_module": "@jupyter-widgets/controls",
            "_view_module_version": "1.5.0",
            "_view_name": "ProgressView",
            "bar_style": "success",
            "description": "",
            "description_tooltip": null,
            "layout": "IPY_MODEL_0d55b4b60037424096b7ab8775423d2c",
            "max": 231508,
            "min": 0,
            "orientation": "horizontal",
            "style": "IPY_MODEL_536bc04222ab4256bc70d392c8c18bdd",
            "value": 231508
          }
        },
        "707fc46f596f481187927110d4d87932": {
          "model_module": "@jupyter-widgets/controls",
          "model_name": "HTMLModel",
          "model_module_version": "1.5.0",
          "state": {
            "_dom_classes": [],
            "_model_module": "@jupyter-widgets/controls",
            "_model_module_version": "1.5.0",
            "_model_name": "HTMLModel",
            "_view_count": null,
            "_view_module": "@jupyter-widgets/controls",
            "_view_module_version": "1.5.0",
            "_view_name": "HTMLView",
            "description": "",
            "description_tooltip": null,
            "layout": "IPY_MODEL_96e565194466444699640d48a4a519b7",
            "placeholder": "​",
            "style": "IPY_MODEL_45c4ca02fadf490e928bc32a5d7ae3f1",
            "value": " 232k/232k [00:00&lt;00:00, 4.72MB/s]"
          }
        },
        "b1d9d767e0db490e89d564f7e609996d": {
          "model_module": "@jupyter-widgets/base",
          "model_name": "LayoutModel",
          "model_module_version": "1.2.0",
          "state": {
            "_model_module": "@jupyter-widgets/base",
            "_model_module_version": "1.2.0",
            "_model_name": "LayoutModel",
            "_view_count": null,
            "_view_module": "@jupyter-widgets/base",
            "_view_module_version": "1.2.0",
            "_view_name": "LayoutView",
            "align_content": null,
            "align_items": null,
            "align_self": null,
            "border": null,
            "bottom": null,
            "display": null,
            "flex": null,
            "flex_flow": null,
            "grid_area": null,
            "grid_auto_columns": null,
            "grid_auto_flow": null,
            "grid_auto_rows": null,
            "grid_column": null,
            "grid_gap": null,
            "grid_row": null,
            "grid_template_areas": null,
            "grid_template_columns": null,
            "grid_template_rows": null,
            "height": null,
            "justify_content": null,
            "justify_items": null,
            "left": null,
            "margin": null,
            "max_height": null,
            "max_width": null,
            "min_height": null,
            "min_width": null,
            "object_fit": null,
            "object_position": null,
            "order": null,
            "overflow": null,
            "overflow_x": null,
            "overflow_y": null,
            "padding": null,
            "right": null,
            "top": null,
            "visibility": null,
            "width": null
          }
        },
        "135a791454ea47d39e5a3d34a9fd9b09": {
          "model_module": "@jupyter-widgets/base",
          "model_name": "LayoutModel",
          "model_module_version": "1.2.0",
          "state": {
            "_model_module": "@jupyter-widgets/base",
            "_model_module_version": "1.2.0",
            "_model_name": "LayoutModel",
            "_view_count": null,
            "_view_module": "@jupyter-widgets/base",
            "_view_module_version": "1.2.0",
            "_view_name": "LayoutView",
            "align_content": null,
            "align_items": null,
            "align_self": null,
            "border": null,
            "bottom": null,
            "display": null,
            "flex": null,
            "flex_flow": null,
            "grid_area": null,
            "grid_auto_columns": null,
            "grid_auto_flow": null,
            "grid_auto_rows": null,
            "grid_column": null,
            "grid_gap": null,
            "grid_row": null,
            "grid_template_areas": null,
            "grid_template_columns": null,
            "grid_template_rows": null,
            "height": null,
            "justify_content": null,
            "justify_items": null,
            "left": null,
            "margin": null,
            "max_height": null,
            "max_width": null,
            "min_height": null,
            "min_width": null,
            "object_fit": null,
            "object_position": null,
            "order": null,
            "overflow": null,
            "overflow_x": null,
            "overflow_y": null,
            "padding": null,
            "right": null,
            "top": null,
            "visibility": null,
            "width": null
          }
        },
        "585b6bea7bd5411faba8c9575eb050e0": {
          "model_module": "@jupyter-widgets/controls",
          "model_name": "DescriptionStyleModel",
          "model_module_version": "1.5.0",
          "state": {
            "_model_module": "@jupyter-widgets/controls",
            "_model_module_version": "1.5.0",
            "_model_name": "DescriptionStyleModel",
            "_view_count": null,
            "_view_module": "@jupyter-widgets/base",
            "_view_module_version": "1.2.0",
            "_view_name": "StyleView",
            "description_width": ""
          }
        },
        "0d55b4b60037424096b7ab8775423d2c": {
          "model_module": "@jupyter-widgets/base",
          "model_name": "LayoutModel",
          "model_module_version": "1.2.0",
          "state": {
            "_model_module": "@jupyter-widgets/base",
            "_model_module_version": "1.2.0",
            "_model_name": "LayoutModel",
            "_view_count": null,
            "_view_module": "@jupyter-widgets/base",
            "_view_module_version": "1.2.0",
            "_view_name": "LayoutView",
            "align_content": null,
            "align_items": null,
            "align_self": null,
            "border": null,
            "bottom": null,
            "display": null,
            "flex": null,
            "flex_flow": null,
            "grid_area": null,
            "grid_auto_columns": null,
            "grid_auto_flow": null,
            "grid_auto_rows": null,
            "grid_column": null,
            "grid_gap": null,
            "grid_row": null,
            "grid_template_areas": null,
            "grid_template_columns": null,
            "grid_template_rows": null,
            "height": null,
            "justify_content": null,
            "justify_items": null,
            "left": null,
            "margin": null,
            "max_height": null,
            "max_width": null,
            "min_height": null,
            "min_width": null,
            "object_fit": null,
            "object_position": null,
            "order": null,
            "overflow": null,
            "overflow_x": null,
            "overflow_y": null,
            "padding": null,
            "right": null,
            "top": null,
            "visibility": null,
            "width": null
          }
        },
        "536bc04222ab4256bc70d392c8c18bdd": {
          "model_module": "@jupyter-widgets/controls",
          "model_name": "ProgressStyleModel",
          "model_module_version": "1.5.0",
          "state": {
            "_model_module": "@jupyter-widgets/controls",
            "_model_module_version": "1.5.0",
            "_model_name": "ProgressStyleModel",
            "_view_count": null,
            "_view_module": "@jupyter-widgets/base",
            "_view_module_version": "1.2.0",
            "_view_name": "StyleView",
            "bar_color": null,
            "description_width": ""
          }
        },
        "96e565194466444699640d48a4a519b7": {
          "model_module": "@jupyter-widgets/base",
          "model_name": "LayoutModel",
          "model_module_version": "1.2.0",
          "state": {
            "_model_module": "@jupyter-widgets/base",
            "_model_module_version": "1.2.0",
            "_model_name": "LayoutModel",
            "_view_count": null,
            "_view_module": "@jupyter-widgets/base",
            "_view_module_version": "1.2.0",
            "_view_name": "LayoutView",
            "align_content": null,
            "align_items": null,
            "align_self": null,
            "border": null,
            "bottom": null,
            "display": null,
            "flex": null,
            "flex_flow": null,
            "grid_area": null,
            "grid_auto_columns": null,
            "grid_auto_flow": null,
            "grid_auto_rows": null,
            "grid_column": null,
            "grid_gap": null,
            "grid_row": null,
            "grid_template_areas": null,
            "grid_template_columns": null,
            "grid_template_rows": null,
            "height": null,
            "justify_content": null,
            "justify_items": null,
            "left": null,
            "margin": null,
            "max_height": null,
            "max_width": null,
            "min_height": null,
            "min_width": null,
            "object_fit": null,
            "object_position": null,
            "order": null,
            "overflow": null,
            "overflow_x": null,
            "overflow_y": null,
            "padding": null,
            "right": null,
            "top": null,
            "visibility": null,
            "width": null
          }
        },
        "45c4ca02fadf490e928bc32a5d7ae3f1": {
          "model_module": "@jupyter-widgets/controls",
          "model_name": "DescriptionStyleModel",
          "model_module_version": "1.5.0",
          "state": {
            "_model_module": "@jupyter-widgets/controls",
            "_model_module_version": "1.5.0",
            "_model_name": "DescriptionStyleModel",
            "_view_count": null,
            "_view_module": "@jupyter-widgets/base",
            "_view_module_version": "1.2.0",
            "_view_name": "StyleView",
            "description_width": ""
          }
        },
        "a18f2ddf675d4b219860e871da7924d4": {
          "model_module": "@jupyter-widgets/controls",
          "model_name": "HBoxModel",
          "model_module_version": "1.5.0",
          "state": {
            "_dom_classes": [],
            "_model_module": "@jupyter-widgets/controls",
            "_model_module_version": "1.5.0",
            "_model_name": "HBoxModel",
            "_view_count": null,
            "_view_module": "@jupyter-widgets/controls",
            "_view_module_version": "1.5.0",
            "_view_name": "HBoxView",
            "box_style": "",
            "children": [
              "IPY_MODEL_dc9a2fb775214764bf3fec7260e1c0a6",
              "IPY_MODEL_3776f8487b2c43f987f54b3b3f22a5e0",
              "IPY_MODEL_e8dedb33420b431cb936c23adadbb5d2"
            ],
            "layout": "IPY_MODEL_8f2785bcfd914ff3952c44742fce2723"
          }
        },
        "dc9a2fb775214764bf3fec7260e1c0a6": {
          "model_module": "@jupyter-widgets/controls",
          "model_name": "HTMLModel",
          "model_module_version": "1.5.0",
          "state": {
            "_dom_classes": [],
            "_model_module": "@jupyter-widgets/controls",
            "_model_module_version": "1.5.0",
            "_model_name": "HTMLModel",
            "_view_count": null,
            "_view_module": "@jupyter-widgets/controls",
            "_view_module_version": "1.5.0",
            "_view_name": "HTMLView",
            "description": "",
            "description_tooltip": null,
            "layout": "IPY_MODEL_53af04bccd5a4900864ce259e5056b63",
            "placeholder": "​",
            "style": "IPY_MODEL_955f4e87edd54aee978c2f53812ba3f7",
            "value": "Downloading (…)okenizer_config.json: 100%"
          }
        },
        "3776f8487b2c43f987f54b3b3f22a5e0": {
          "model_module": "@jupyter-widgets/controls",
          "model_name": "FloatProgressModel",
          "model_module_version": "1.5.0",
          "state": {
            "_dom_classes": [],
            "_model_module": "@jupyter-widgets/controls",
            "_model_module_version": "1.5.0",
            "_model_name": "FloatProgressModel",
            "_view_count": null,
            "_view_module": "@jupyter-widgets/controls",
            "_view_module_version": "1.5.0",
            "_view_name": "ProgressView",
            "bar_style": "success",
            "description": "",
            "description_tooltip": null,
            "layout": "IPY_MODEL_686deb950d474e6cafcf3a5448af6044",
            "max": 28,
            "min": 0,
            "orientation": "horizontal",
            "style": "IPY_MODEL_0ab1d6e4610f4109b63cbc216f436c63",
            "value": 28
          }
        },
        "e8dedb33420b431cb936c23adadbb5d2": {
          "model_module": "@jupyter-widgets/controls",
          "model_name": "HTMLModel",
          "model_module_version": "1.5.0",
          "state": {
            "_dom_classes": [],
            "_model_module": "@jupyter-widgets/controls",
            "_model_module_version": "1.5.0",
            "_model_name": "HTMLModel",
            "_view_count": null,
            "_view_module": "@jupyter-widgets/controls",
            "_view_module_version": "1.5.0",
            "_view_name": "HTMLView",
            "description": "",
            "description_tooltip": null,
            "layout": "IPY_MODEL_cba08a72d2d7464ca8d30259744a7d61",
            "placeholder": "​",
            "style": "IPY_MODEL_1b9bcfabed8f47eaa35c951c35fc43e5",
            "value": " 28.0/28.0 [00:00&lt;00:00, 540B/s]"
          }
        },
        "8f2785bcfd914ff3952c44742fce2723": {
          "model_module": "@jupyter-widgets/base",
          "model_name": "LayoutModel",
          "model_module_version": "1.2.0",
          "state": {
            "_model_module": "@jupyter-widgets/base",
            "_model_module_version": "1.2.0",
            "_model_name": "LayoutModel",
            "_view_count": null,
            "_view_module": "@jupyter-widgets/base",
            "_view_module_version": "1.2.0",
            "_view_name": "LayoutView",
            "align_content": null,
            "align_items": null,
            "align_self": null,
            "border": null,
            "bottom": null,
            "display": null,
            "flex": null,
            "flex_flow": null,
            "grid_area": null,
            "grid_auto_columns": null,
            "grid_auto_flow": null,
            "grid_auto_rows": null,
            "grid_column": null,
            "grid_gap": null,
            "grid_row": null,
            "grid_template_areas": null,
            "grid_template_columns": null,
            "grid_template_rows": null,
            "height": null,
            "justify_content": null,
            "justify_items": null,
            "left": null,
            "margin": null,
            "max_height": null,
            "max_width": null,
            "min_height": null,
            "min_width": null,
            "object_fit": null,
            "object_position": null,
            "order": null,
            "overflow": null,
            "overflow_x": null,
            "overflow_y": null,
            "padding": null,
            "right": null,
            "top": null,
            "visibility": null,
            "width": null
          }
        },
        "53af04bccd5a4900864ce259e5056b63": {
          "model_module": "@jupyter-widgets/base",
          "model_name": "LayoutModel",
          "model_module_version": "1.2.0",
          "state": {
            "_model_module": "@jupyter-widgets/base",
            "_model_module_version": "1.2.0",
            "_model_name": "LayoutModel",
            "_view_count": null,
            "_view_module": "@jupyter-widgets/base",
            "_view_module_version": "1.2.0",
            "_view_name": "LayoutView",
            "align_content": null,
            "align_items": null,
            "align_self": null,
            "border": null,
            "bottom": null,
            "display": null,
            "flex": null,
            "flex_flow": null,
            "grid_area": null,
            "grid_auto_columns": null,
            "grid_auto_flow": null,
            "grid_auto_rows": null,
            "grid_column": null,
            "grid_gap": null,
            "grid_row": null,
            "grid_template_areas": null,
            "grid_template_columns": null,
            "grid_template_rows": null,
            "height": null,
            "justify_content": null,
            "justify_items": null,
            "left": null,
            "margin": null,
            "max_height": null,
            "max_width": null,
            "min_height": null,
            "min_width": null,
            "object_fit": null,
            "object_position": null,
            "order": null,
            "overflow": null,
            "overflow_x": null,
            "overflow_y": null,
            "padding": null,
            "right": null,
            "top": null,
            "visibility": null,
            "width": null
          }
        },
        "955f4e87edd54aee978c2f53812ba3f7": {
          "model_module": "@jupyter-widgets/controls",
          "model_name": "DescriptionStyleModel",
          "model_module_version": "1.5.0",
          "state": {
            "_model_module": "@jupyter-widgets/controls",
            "_model_module_version": "1.5.0",
            "_model_name": "DescriptionStyleModel",
            "_view_count": null,
            "_view_module": "@jupyter-widgets/base",
            "_view_module_version": "1.2.0",
            "_view_name": "StyleView",
            "description_width": ""
          }
        },
        "686deb950d474e6cafcf3a5448af6044": {
          "model_module": "@jupyter-widgets/base",
          "model_name": "LayoutModel",
          "model_module_version": "1.2.0",
          "state": {
            "_model_module": "@jupyter-widgets/base",
            "_model_module_version": "1.2.0",
            "_model_name": "LayoutModel",
            "_view_count": null,
            "_view_module": "@jupyter-widgets/base",
            "_view_module_version": "1.2.0",
            "_view_name": "LayoutView",
            "align_content": null,
            "align_items": null,
            "align_self": null,
            "border": null,
            "bottom": null,
            "display": null,
            "flex": null,
            "flex_flow": null,
            "grid_area": null,
            "grid_auto_columns": null,
            "grid_auto_flow": null,
            "grid_auto_rows": null,
            "grid_column": null,
            "grid_gap": null,
            "grid_row": null,
            "grid_template_areas": null,
            "grid_template_columns": null,
            "grid_template_rows": null,
            "height": null,
            "justify_content": null,
            "justify_items": null,
            "left": null,
            "margin": null,
            "max_height": null,
            "max_width": null,
            "min_height": null,
            "min_width": null,
            "object_fit": null,
            "object_position": null,
            "order": null,
            "overflow": null,
            "overflow_x": null,
            "overflow_y": null,
            "padding": null,
            "right": null,
            "top": null,
            "visibility": null,
            "width": null
          }
        },
        "0ab1d6e4610f4109b63cbc216f436c63": {
          "model_module": "@jupyter-widgets/controls",
          "model_name": "ProgressStyleModel",
          "model_module_version": "1.5.0",
          "state": {
            "_model_module": "@jupyter-widgets/controls",
            "_model_module_version": "1.5.0",
            "_model_name": "ProgressStyleModel",
            "_view_count": null,
            "_view_module": "@jupyter-widgets/base",
            "_view_module_version": "1.2.0",
            "_view_name": "StyleView",
            "bar_color": null,
            "description_width": ""
          }
        },
        "cba08a72d2d7464ca8d30259744a7d61": {
          "model_module": "@jupyter-widgets/base",
          "model_name": "LayoutModel",
          "model_module_version": "1.2.0",
          "state": {
            "_model_module": "@jupyter-widgets/base",
            "_model_module_version": "1.2.0",
            "_model_name": "LayoutModel",
            "_view_count": null,
            "_view_module": "@jupyter-widgets/base",
            "_view_module_version": "1.2.0",
            "_view_name": "LayoutView",
            "align_content": null,
            "align_items": null,
            "align_self": null,
            "border": null,
            "bottom": null,
            "display": null,
            "flex": null,
            "flex_flow": null,
            "grid_area": null,
            "grid_auto_columns": null,
            "grid_auto_flow": null,
            "grid_auto_rows": null,
            "grid_column": null,
            "grid_gap": null,
            "grid_row": null,
            "grid_template_areas": null,
            "grid_template_columns": null,
            "grid_template_rows": null,
            "height": null,
            "justify_content": null,
            "justify_items": null,
            "left": null,
            "margin": null,
            "max_height": null,
            "max_width": null,
            "min_height": null,
            "min_width": null,
            "object_fit": null,
            "object_position": null,
            "order": null,
            "overflow": null,
            "overflow_x": null,
            "overflow_y": null,
            "padding": null,
            "right": null,
            "top": null,
            "visibility": null,
            "width": null
          }
        },
        "1b9bcfabed8f47eaa35c951c35fc43e5": {
          "model_module": "@jupyter-widgets/controls",
          "model_name": "DescriptionStyleModel",
          "model_module_version": "1.5.0",
          "state": {
            "_model_module": "@jupyter-widgets/controls",
            "_model_module_version": "1.5.0",
            "_model_name": "DescriptionStyleModel",
            "_view_count": null,
            "_view_module": "@jupyter-widgets/base",
            "_view_module_version": "1.2.0",
            "_view_name": "StyleView",
            "description_width": ""
          }
        },
        "285b620246514b718f254cb3eb2daf52": {
          "model_module": "@jupyter-widgets/controls",
          "model_name": "HBoxModel",
          "model_module_version": "1.5.0",
          "state": {
            "_dom_classes": [],
            "_model_module": "@jupyter-widgets/controls",
            "_model_module_version": "1.5.0",
            "_model_name": "HBoxModel",
            "_view_count": null,
            "_view_module": "@jupyter-widgets/controls",
            "_view_module_version": "1.5.0",
            "_view_name": "HBoxView",
            "box_style": "",
            "children": [
              "IPY_MODEL_9b3b4af3f42b4aba9e15f0b95f2da2c6",
              "IPY_MODEL_86bb1ba7e8fc40b6933e6f1afd22b6be",
              "IPY_MODEL_a97dd9deeb2342c29724575c13f0dac7"
            ],
            "layout": "IPY_MODEL_18ab47f50e6e4d1a94b9dfa65f647536"
          }
        },
        "9b3b4af3f42b4aba9e15f0b95f2da2c6": {
          "model_module": "@jupyter-widgets/controls",
          "model_name": "HTMLModel",
          "model_module_version": "1.5.0",
          "state": {
            "_dom_classes": [],
            "_model_module": "@jupyter-widgets/controls",
            "_model_module_version": "1.5.0",
            "_model_name": "HTMLModel",
            "_view_count": null,
            "_view_module": "@jupyter-widgets/controls",
            "_view_module_version": "1.5.0",
            "_view_name": "HTMLView",
            "description": "",
            "description_tooltip": null,
            "layout": "IPY_MODEL_5ac3666a784f4c47b86c0d1a870a9253",
            "placeholder": "​",
            "style": "IPY_MODEL_a8e7ec1dd7f44fa9b08bf567d350cdd7",
            "value": "Downloading (…)lve/main/config.json: 100%"
          }
        },
        "86bb1ba7e8fc40b6933e6f1afd22b6be": {
          "model_module": "@jupyter-widgets/controls",
          "model_name": "FloatProgressModel",
          "model_module_version": "1.5.0",
          "state": {
            "_dom_classes": [],
            "_model_module": "@jupyter-widgets/controls",
            "_model_module_version": "1.5.0",
            "_model_name": "FloatProgressModel",
            "_view_count": null,
            "_view_module": "@jupyter-widgets/controls",
            "_view_module_version": "1.5.0",
            "_view_name": "ProgressView",
            "bar_style": "success",
            "description": "",
            "description_tooltip": null,
            "layout": "IPY_MODEL_8b3f5aa7f4a34a0695e99d0af06c5a36",
            "max": 570,
            "min": 0,
            "orientation": "horizontal",
            "style": "IPY_MODEL_b407ab3378554c9a81e083ac0bb51075",
            "value": 570
          }
        },
        "a97dd9deeb2342c29724575c13f0dac7": {
          "model_module": "@jupyter-widgets/controls",
          "model_name": "HTMLModel",
          "model_module_version": "1.5.0",
          "state": {
            "_dom_classes": [],
            "_model_module": "@jupyter-widgets/controls",
            "_model_module_version": "1.5.0",
            "_model_name": "HTMLModel",
            "_view_count": null,
            "_view_module": "@jupyter-widgets/controls",
            "_view_module_version": "1.5.0",
            "_view_name": "HTMLView",
            "description": "",
            "description_tooltip": null,
            "layout": "IPY_MODEL_4fdcb10245894f14852315b289f7a941",
            "placeholder": "​",
            "style": "IPY_MODEL_0949d22773a2441bb890b900fd97a711",
            "value": " 570/570 [00:00&lt;00:00, 11.4kB/s]"
          }
        },
        "18ab47f50e6e4d1a94b9dfa65f647536": {
          "model_module": "@jupyter-widgets/base",
          "model_name": "LayoutModel",
          "model_module_version": "1.2.0",
          "state": {
            "_model_module": "@jupyter-widgets/base",
            "_model_module_version": "1.2.0",
            "_model_name": "LayoutModel",
            "_view_count": null,
            "_view_module": "@jupyter-widgets/base",
            "_view_module_version": "1.2.0",
            "_view_name": "LayoutView",
            "align_content": null,
            "align_items": null,
            "align_self": null,
            "border": null,
            "bottom": null,
            "display": null,
            "flex": null,
            "flex_flow": null,
            "grid_area": null,
            "grid_auto_columns": null,
            "grid_auto_flow": null,
            "grid_auto_rows": null,
            "grid_column": null,
            "grid_gap": null,
            "grid_row": null,
            "grid_template_areas": null,
            "grid_template_columns": null,
            "grid_template_rows": null,
            "height": null,
            "justify_content": null,
            "justify_items": null,
            "left": null,
            "margin": null,
            "max_height": null,
            "max_width": null,
            "min_height": null,
            "min_width": null,
            "object_fit": null,
            "object_position": null,
            "order": null,
            "overflow": null,
            "overflow_x": null,
            "overflow_y": null,
            "padding": null,
            "right": null,
            "top": null,
            "visibility": null,
            "width": null
          }
        },
        "5ac3666a784f4c47b86c0d1a870a9253": {
          "model_module": "@jupyter-widgets/base",
          "model_name": "LayoutModel",
          "model_module_version": "1.2.0",
          "state": {
            "_model_module": "@jupyter-widgets/base",
            "_model_module_version": "1.2.0",
            "_model_name": "LayoutModel",
            "_view_count": null,
            "_view_module": "@jupyter-widgets/base",
            "_view_module_version": "1.2.0",
            "_view_name": "LayoutView",
            "align_content": null,
            "align_items": null,
            "align_self": null,
            "border": null,
            "bottom": null,
            "display": null,
            "flex": null,
            "flex_flow": null,
            "grid_area": null,
            "grid_auto_columns": null,
            "grid_auto_flow": null,
            "grid_auto_rows": null,
            "grid_column": null,
            "grid_gap": null,
            "grid_row": null,
            "grid_template_areas": null,
            "grid_template_columns": null,
            "grid_template_rows": null,
            "height": null,
            "justify_content": null,
            "justify_items": null,
            "left": null,
            "margin": null,
            "max_height": null,
            "max_width": null,
            "min_height": null,
            "min_width": null,
            "object_fit": null,
            "object_position": null,
            "order": null,
            "overflow": null,
            "overflow_x": null,
            "overflow_y": null,
            "padding": null,
            "right": null,
            "top": null,
            "visibility": null,
            "width": null
          }
        },
        "a8e7ec1dd7f44fa9b08bf567d350cdd7": {
          "model_module": "@jupyter-widgets/controls",
          "model_name": "DescriptionStyleModel",
          "model_module_version": "1.5.0",
          "state": {
            "_model_module": "@jupyter-widgets/controls",
            "_model_module_version": "1.5.0",
            "_model_name": "DescriptionStyleModel",
            "_view_count": null,
            "_view_module": "@jupyter-widgets/base",
            "_view_module_version": "1.2.0",
            "_view_name": "StyleView",
            "description_width": ""
          }
        },
        "8b3f5aa7f4a34a0695e99d0af06c5a36": {
          "model_module": "@jupyter-widgets/base",
          "model_name": "LayoutModel",
          "model_module_version": "1.2.0",
          "state": {
            "_model_module": "@jupyter-widgets/base",
            "_model_module_version": "1.2.0",
            "_model_name": "LayoutModel",
            "_view_count": null,
            "_view_module": "@jupyter-widgets/base",
            "_view_module_version": "1.2.0",
            "_view_name": "LayoutView",
            "align_content": null,
            "align_items": null,
            "align_self": null,
            "border": null,
            "bottom": null,
            "display": null,
            "flex": null,
            "flex_flow": null,
            "grid_area": null,
            "grid_auto_columns": null,
            "grid_auto_flow": null,
            "grid_auto_rows": null,
            "grid_column": null,
            "grid_gap": null,
            "grid_row": null,
            "grid_template_areas": null,
            "grid_template_columns": null,
            "grid_template_rows": null,
            "height": null,
            "justify_content": null,
            "justify_items": null,
            "left": null,
            "margin": null,
            "max_height": null,
            "max_width": null,
            "min_height": null,
            "min_width": null,
            "object_fit": null,
            "object_position": null,
            "order": null,
            "overflow": null,
            "overflow_x": null,
            "overflow_y": null,
            "padding": null,
            "right": null,
            "top": null,
            "visibility": null,
            "width": null
          }
        },
        "b407ab3378554c9a81e083ac0bb51075": {
          "model_module": "@jupyter-widgets/controls",
          "model_name": "ProgressStyleModel",
          "model_module_version": "1.5.0",
          "state": {
            "_model_module": "@jupyter-widgets/controls",
            "_model_module_version": "1.5.0",
            "_model_name": "ProgressStyleModel",
            "_view_count": null,
            "_view_module": "@jupyter-widgets/base",
            "_view_module_version": "1.2.0",
            "_view_name": "StyleView",
            "bar_color": null,
            "description_width": ""
          }
        },
        "4fdcb10245894f14852315b289f7a941": {
          "model_module": "@jupyter-widgets/base",
          "model_name": "LayoutModel",
          "model_module_version": "1.2.0",
          "state": {
            "_model_module": "@jupyter-widgets/base",
            "_model_module_version": "1.2.0",
            "_model_name": "LayoutModel",
            "_view_count": null,
            "_view_module": "@jupyter-widgets/base",
            "_view_module_version": "1.2.0",
            "_view_name": "LayoutView",
            "align_content": null,
            "align_items": null,
            "align_self": null,
            "border": null,
            "bottom": null,
            "display": null,
            "flex": null,
            "flex_flow": null,
            "grid_area": null,
            "grid_auto_columns": null,
            "grid_auto_flow": null,
            "grid_auto_rows": null,
            "grid_column": null,
            "grid_gap": null,
            "grid_row": null,
            "grid_template_areas": null,
            "grid_template_columns": null,
            "grid_template_rows": null,
            "height": null,
            "justify_content": null,
            "justify_items": null,
            "left": null,
            "margin": null,
            "max_height": null,
            "max_width": null,
            "min_height": null,
            "min_width": null,
            "object_fit": null,
            "object_position": null,
            "order": null,
            "overflow": null,
            "overflow_x": null,
            "overflow_y": null,
            "padding": null,
            "right": null,
            "top": null,
            "visibility": null,
            "width": null
          }
        },
        "0949d22773a2441bb890b900fd97a711": {
          "model_module": "@jupyter-widgets/controls",
          "model_name": "DescriptionStyleModel",
          "model_module_version": "1.5.0",
          "state": {
            "_model_module": "@jupyter-widgets/controls",
            "_model_module_version": "1.5.0",
            "_model_name": "DescriptionStyleModel",
            "_view_count": null,
            "_view_module": "@jupyter-widgets/base",
            "_view_module_version": "1.2.0",
            "_view_name": "StyleView",
            "description_width": ""
          }
        },
        "34b4f37d70854c5cb291934c42d0c50f": {
          "model_module": "@jupyter-widgets/controls",
          "model_name": "HBoxModel",
          "model_module_version": "1.5.0",
          "state": {
            "_dom_classes": [],
            "_model_module": "@jupyter-widgets/controls",
            "_model_module_version": "1.5.0",
            "_model_name": "HBoxModel",
            "_view_count": null,
            "_view_module": "@jupyter-widgets/controls",
            "_view_module_version": "1.5.0",
            "_view_name": "HBoxView",
            "box_style": "",
            "children": [
              "IPY_MODEL_907bee5b32ab4870b60d5c3fb590f62a",
              "IPY_MODEL_0344345b879d4e88b4d6763dd5015dc6",
              "IPY_MODEL_c2d4fbf80575451287a62aaebc7ecbf6"
            ],
            "layout": "IPY_MODEL_c3a9fb941c1846ea85d24a19cbfe47b6"
          }
        },
        "907bee5b32ab4870b60d5c3fb590f62a": {
          "model_module": "@jupyter-widgets/controls",
          "model_name": "HTMLModel",
          "model_module_version": "1.5.0",
          "state": {
            "_dom_classes": [],
            "_model_module": "@jupyter-widgets/controls",
            "_model_module_version": "1.5.0",
            "_model_name": "HTMLModel",
            "_view_count": null,
            "_view_module": "@jupyter-widgets/controls",
            "_view_module_version": "1.5.0",
            "_view_name": "HTMLView",
            "description": "",
            "description_tooltip": null,
            "layout": "IPY_MODEL_c1a0e2ac4a794a06a9d6c1d2feac5823",
            "placeholder": "​",
            "style": "IPY_MODEL_5430948540d64bb09f62927422a722c6",
            "value": "Downloading model.safetensors: 100%"
          }
        },
        "0344345b879d4e88b4d6763dd5015dc6": {
          "model_module": "@jupyter-widgets/controls",
          "model_name": "FloatProgressModel",
          "model_module_version": "1.5.0",
          "state": {
            "_dom_classes": [],
            "_model_module": "@jupyter-widgets/controls",
            "_model_module_version": "1.5.0",
            "_model_name": "FloatProgressModel",
            "_view_count": null,
            "_view_module": "@jupyter-widgets/controls",
            "_view_module_version": "1.5.0",
            "_view_name": "ProgressView",
            "bar_style": "success",
            "description": "",
            "description_tooltip": null,
            "layout": "IPY_MODEL_8f728340c28842e1b9f0488b26b3ca56",
            "max": 440449768,
            "min": 0,
            "orientation": "horizontal",
            "style": "IPY_MODEL_8f0be672ab6448439e09542405b8c74d",
            "value": 440449768
          }
        },
        "c2d4fbf80575451287a62aaebc7ecbf6": {
          "model_module": "@jupyter-widgets/controls",
          "model_name": "HTMLModel",
          "model_module_version": "1.5.0",
          "state": {
            "_dom_classes": [],
            "_model_module": "@jupyter-widgets/controls",
            "_model_module_version": "1.5.0",
            "_model_name": "HTMLModel",
            "_view_count": null,
            "_view_module": "@jupyter-widgets/controls",
            "_view_module_version": "1.5.0",
            "_view_name": "HTMLView",
            "description": "",
            "description_tooltip": null,
            "layout": "IPY_MODEL_f42ec9f611dd466b94a43b579e796a1b",
            "placeholder": "​",
            "style": "IPY_MODEL_4810c2b179e1433881820e106bf186dc",
            "value": " 440M/440M [00:02&lt;00:00, 202MB/s]"
          }
        },
        "c3a9fb941c1846ea85d24a19cbfe47b6": {
          "model_module": "@jupyter-widgets/base",
          "model_name": "LayoutModel",
          "model_module_version": "1.2.0",
          "state": {
            "_model_module": "@jupyter-widgets/base",
            "_model_module_version": "1.2.0",
            "_model_name": "LayoutModel",
            "_view_count": null,
            "_view_module": "@jupyter-widgets/base",
            "_view_module_version": "1.2.0",
            "_view_name": "LayoutView",
            "align_content": null,
            "align_items": null,
            "align_self": null,
            "border": null,
            "bottom": null,
            "display": null,
            "flex": null,
            "flex_flow": null,
            "grid_area": null,
            "grid_auto_columns": null,
            "grid_auto_flow": null,
            "grid_auto_rows": null,
            "grid_column": null,
            "grid_gap": null,
            "grid_row": null,
            "grid_template_areas": null,
            "grid_template_columns": null,
            "grid_template_rows": null,
            "height": null,
            "justify_content": null,
            "justify_items": null,
            "left": null,
            "margin": null,
            "max_height": null,
            "max_width": null,
            "min_height": null,
            "min_width": null,
            "object_fit": null,
            "object_position": null,
            "order": null,
            "overflow": null,
            "overflow_x": null,
            "overflow_y": null,
            "padding": null,
            "right": null,
            "top": null,
            "visibility": null,
            "width": null
          }
        },
        "c1a0e2ac4a794a06a9d6c1d2feac5823": {
          "model_module": "@jupyter-widgets/base",
          "model_name": "LayoutModel",
          "model_module_version": "1.2.0",
          "state": {
            "_model_module": "@jupyter-widgets/base",
            "_model_module_version": "1.2.0",
            "_model_name": "LayoutModel",
            "_view_count": null,
            "_view_module": "@jupyter-widgets/base",
            "_view_module_version": "1.2.0",
            "_view_name": "LayoutView",
            "align_content": null,
            "align_items": null,
            "align_self": null,
            "border": null,
            "bottom": null,
            "display": null,
            "flex": null,
            "flex_flow": null,
            "grid_area": null,
            "grid_auto_columns": null,
            "grid_auto_flow": null,
            "grid_auto_rows": null,
            "grid_column": null,
            "grid_gap": null,
            "grid_row": null,
            "grid_template_areas": null,
            "grid_template_columns": null,
            "grid_template_rows": null,
            "height": null,
            "justify_content": null,
            "justify_items": null,
            "left": null,
            "margin": null,
            "max_height": null,
            "max_width": null,
            "min_height": null,
            "min_width": null,
            "object_fit": null,
            "object_position": null,
            "order": null,
            "overflow": null,
            "overflow_x": null,
            "overflow_y": null,
            "padding": null,
            "right": null,
            "top": null,
            "visibility": null,
            "width": null
          }
        },
        "5430948540d64bb09f62927422a722c6": {
          "model_module": "@jupyter-widgets/controls",
          "model_name": "DescriptionStyleModel",
          "model_module_version": "1.5.0",
          "state": {
            "_model_module": "@jupyter-widgets/controls",
            "_model_module_version": "1.5.0",
            "_model_name": "DescriptionStyleModel",
            "_view_count": null,
            "_view_module": "@jupyter-widgets/base",
            "_view_module_version": "1.2.0",
            "_view_name": "StyleView",
            "description_width": ""
          }
        },
        "8f728340c28842e1b9f0488b26b3ca56": {
          "model_module": "@jupyter-widgets/base",
          "model_name": "LayoutModel",
          "model_module_version": "1.2.0",
          "state": {
            "_model_module": "@jupyter-widgets/base",
            "_model_module_version": "1.2.0",
            "_model_name": "LayoutModel",
            "_view_count": null,
            "_view_module": "@jupyter-widgets/base",
            "_view_module_version": "1.2.0",
            "_view_name": "LayoutView",
            "align_content": null,
            "align_items": null,
            "align_self": null,
            "border": null,
            "bottom": null,
            "display": null,
            "flex": null,
            "flex_flow": null,
            "grid_area": null,
            "grid_auto_columns": null,
            "grid_auto_flow": null,
            "grid_auto_rows": null,
            "grid_column": null,
            "grid_gap": null,
            "grid_row": null,
            "grid_template_areas": null,
            "grid_template_columns": null,
            "grid_template_rows": null,
            "height": null,
            "justify_content": null,
            "justify_items": null,
            "left": null,
            "margin": null,
            "max_height": null,
            "max_width": null,
            "min_height": null,
            "min_width": null,
            "object_fit": null,
            "object_position": null,
            "order": null,
            "overflow": null,
            "overflow_x": null,
            "overflow_y": null,
            "padding": null,
            "right": null,
            "top": null,
            "visibility": null,
            "width": null
          }
        },
        "8f0be672ab6448439e09542405b8c74d": {
          "model_module": "@jupyter-widgets/controls",
          "model_name": "ProgressStyleModel",
          "model_module_version": "1.5.0",
          "state": {
            "_model_module": "@jupyter-widgets/controls",
            "_model_module_version": "1.5.0",
            "_model_name": "ProgressStyleModel",
            "_view_count": null,
            "_view_module": "@jupyter-widgets/base",
            "_view_module_version": "1.2.0",
            "_view_name": "StyleView",
            "bar_color": null,
            "description_width": ""
          }
        },
        "f42ec9f611dd466b94a43b579e796a1b": {
          "model_module": "@jupyter-widgets/base",
          "model_name": "LayoutModel",
          "model_module_version": "1.2.0",
          "state": {
            "_model_module": "@jupyter-widgets/base",
            "_model_module_version": "1.2.0",
            "_model_name": "LayoutModel",
            "_view_count": null,
            "_view_module": "@jupyter-widgets/base",
            "_view_module_version": "1.2.0",
            "_view_name": "LayoutView",
            "align_content": null,
            "align_items": null,
            "align_self": null,
            "border": null,
            "bottom": null,
            "display": null,
            "flex": null,
            "flex_flow": null,
            "grid_area": null,
            "grid_auto_columns": null,
            "grid_auto_flow": null,
            "grid_auto_rows": null,
            "grid_column": null,
            "grid_gap": null,
            "grid_row": null,
            "grid_template_areas": null,
            "grid_template_columns": null,
            "grid_template_rows": null,
            "height": null,
            "justify_content": null,
            "justify_items": null,
            "left": null,
            "margin": null,
            "max_height": null,
            "max_width": null,
            "min_height": null,
            "min_width": null,
            "object_fit": null,
            "object_position": null,
            "order": null,
            "overflow": null,
            "overflow_x": null,
            "overflow_y": null,
            "padding": null,
            "right": null,
            "top": null,
            "visibility": null,
            "width": null
          }
        },
        "4810c2b179e1433881820e106bf186dc": {
          "model_module": "@jupyter-widgets/controls",
          "model_name": "DescriptionStyleModel",
          "model_module_version": "1.5.0",
          "state": {
            "_model_module": "@jupyter-widgets/controls",
            "_model_module_version": "1.5.0",
            "_model_name": "DescriptionStyleModel",
            "_view_count": null,
            "_view_module": "@jupyter-widgets/base",
            "_view_module_version": "1.2.0",
            "_view_name": "StyleView",
            "description_width": ""
          }
        },
        "c27b1895ae2743829c612ada4f3b14de": {
          "model_module": "@jupyter-widgets/controls",
          "model_name": "HBoxModel",
          "model_module_version": "1.5.0",
          "state": {
            "_dom_classes": [],
            "_model_module": "@jupyter-widgets/controls",
            "_model_module_version": "1.5.0",
            "_model_name": "HBoxModel",
            "_view_count": null,
            "_view_module": "@jupyter-widgets/controls",
            "_view_module_version": "1.5.0",
            "_view_name": "HBoxView",
            "box_style": "",
            "children": [
              "IPY_MODEL_43f1258bb47945feba084337ac038efc",
              "IPY_MODEL_3fc90ac74dcc4e5eb4a4e34947fcd01b",
              "IPY_MODEL_5514a8a2edac41f2b6c4cb2b7e5dd4a2"
            ],
            "layout": "IPY_MODEL_eea585d607274defa1a77ce7cbf5cfec"
          }
        },
        "43f1258bb47945feba084337ac038efc": {
          "model_module": "@jupyter-widgets/controls",
          "model_name": "HTMLModel",
          "model_module_version": "1.5.0",
          "state": {
            "_dom_classes": [],
            "_model_module": "@jupyter-widgets/controls",
            "_model_module_version": "1.5.0",
            "_model_name": "HTMLModel",
            "_view_count": null,
            "_view_module": "@jupyter-widgets/controls",
            "_view_module_version": "1.5.0",
            "_view_name": "HTMLView",
            "description": "",
            "description_tooltip": null,
            "layout": "IPY_MODEL_5a23d9c5daae4b12a9f5975c9e0887ae",
            "placeholder": "​",
            "style": "IPY_MODEL_275fdef6457d49df933a897f78a18c60",
            "value": "Downloading (…)okenizer_config.json: 100%"
          }
        },
        "3fc90ac74dcc4e5eb4a4e34947fcd01b": {
          "model_module": "@jupyter-widgets/controls",
          "model_name": "FloatProgressModel",
          "model_module_version": "1.5.0",
          "state": {
            "_dom_classes": [],
            "_model_module": "@jupyter-widgets/controls",
            "_model_module_version": "1.5.0",
            "_model_name": "FloatProgressModel",
            "_view_count": null,
            "_view_module": "@jupyter-widgets/controls",
            "_view_module_version": "1.5.0",
            "_view_name": "ProgressView",
            "bar_style": "success",
            "description": "",
            "description_tooltip": null,
            "layout": "IPY_MODEL_c4eac8283d6c4cd39d6e989f5486be7d",
            "max": 363,
            "min": 0,
            "orientation": "horizontal",
            "style": "IPY_MODEL_95fcadc8e7dd421a80b336a921da7cf4",
            "value": 363
          }
        },
        "5514a8a2edac41f2b6c4cb2b7e5dd4a2": {
          "model_module": "@jupyter-widgets/controls",
          "model_name": "HTMLModel",
          "model_module_version": "1.5.0",
          "state": {
            "_dom_classes": [],
            "_model_module": "@jupyter-widgets/controls",
            "_model_module_version": "1.5.0",
            "_model_name": "HTMLModel",
            "_view_count": null,
            "_view_module": "@jupyter-widgets/controls",
            "_view_module_version": "1.5.0",
            "_view_name": "HTMLView",
            "description": "",
            "description_tooltip": null,
            "layout": "IPY_MODEL_dfee98e98ec04f4aabb1d3a00e76d07b",
            "placeholder": "​",
            "style": "IPY_MODEL_57534b7806f24cc0a6c9042ee62026a5",
            "value": " 363/363 [00:00&lt;00:00, 20.5kB/s]"
          }
        },
        "eea585d607274defa1a77ce7cbf5cfec": {
          "model_module": "@jupyter-widgets/base",
          "model_name": "LayoutModel",
          "model_module_version": "1.2.0",
          "state": {
            "_model_module": "@jupyter-widgets/base",
            "_model_module_version": "1.2.0",
            "_model_name": "LayoutModel",
            "_view_count": null,
            "_view_module": "@jupyter-widgets/base",
            "_view_module_version": "1.2.0",
            "_view_name": "LayoutView",
            "align_content": null,
            "align_items": null,
            "align_self": null,
            "border": null,
            "bottom": null,
            "display": null,
            "flex": null,
            "flex_flow": null,
            "grid_area": null,
            "grid_auto_columns": null,
            "grid_auto_flow": null,
            "grid_auto_rows": null,
            "grid_column": null,
            "grid_gap": null,
            "grid_row": null,
            "grid_template_areas": null,
            "grid_template_columns": null,
            "grid_template_rows": null,
            "height": null,
            "justify_content": null,
            "justify_items": null,
            "left": null,
            "margin": null,
            "max_height": null,
            "max_width": null,
            "min_height": null,
            "min_width": null,
            "object_fit": null,
            "object_position": null,
            "order": null,
            "overflow": null,
            "overflow_x": null,
            "overflow_y": null,
            "padding": null,
            "right": null,
            "top": null,
            "visibility": null,
            "width": null
          }
        },
        "5a23d9c5daae4b12a9f5975c9e0887ae": {
          "model_module": "@jupyter-widgets/base",
          "model_name": "LayoutModel",
          "model_module_version": "1.2.0",
          "state": {
            "_model_module": "@jupyter-widgets/base",
            "_model_module_version": "1.2.0",
            "_model_name": "LayoutModel",
            "_view_count": null,
            "_view_module": "@jupyter-widgets/base",
            "_view_module_version": "1.2.0",
            "_view_name": "LayoutView",
            "align_content": null,
            "align_items": null,
            "align_self": null,
            "border": null,
            "bottom": null,
            "display": null,
            "flex": null,
            "flex_flow": null,
            "grid_area": null,
            "grid_auto_columns": null,
            "grid_auto_flow": null,
            "grid_auto_rows": null,
            "grid_column": null,
            "grid_gap": null,
            "grid_row": null,
            "grid_template_areas": null,
            "grid_template_columns": null,
            "grid_template_rows": null,
            "height": null,
            "justify_content": null,
            "justify_items": null,
            "left": null,
            "margin": null,
            "max_height": null,
            "max_width": null,
            "min_height": null,
            "min_width": null,
            "object_fit": null,
            "object_position": null,
            "order": null,
            "overflow": null,
            "overflow_x": null,
            "overflow_y": null,
            "padding": null,
            "right": null,
            "top": null,
            "visibility": null,
            "width": null
          }
        },
        "275fdef6457d49df933a897f78a18c60": {
          "model_module": "@jupyter-widgets/controls",
          "model_name": "DescriptionStyleModel",
          "model_module_version": "1.5.0",
          "state": {
            "_model_module": "@jupyter-widgets/controls",
            "_model_module_version": "1.5.0",
            "_model_name": "DescriptionStyleModel",
            "_view_count": null,
            "_view_module": "@jupyter-widgets/base",
            "_view_module_version": "1.2.0",
            "_view_name": "StyleView",
            "description_width": ""
          }
        },
        "c4eac8283d6c4cd39d6e989f5486be7d": {
          "model_module": "@jupyter-widgets/base",
          "model_name": "LayoutModel",
          "model_module_version": "1.2.0",
          "state": {
            "_model_module": "@jupyter-widgets/base",
            "_model_module_version": "1.2.0",
            "_model_name": "LayoutModel",
            "_view_count": null,
            "_view_module": "@jupyter-widgets/base",
            "_view_module_version": "1.2.0",
            "_view_name": "LayoutView",
            "align_content": null,
            "align_items": null,
            "align_self": null,
            "border": null,
            "bottom": null,
            "display": null,
            "flex": null,
            "flex_flow": null,
            "grid_area": null,
            "grid_auto_columns": null,
            "grid_auto_flow": null,
            "grid_auto_rows": null,
            "grid_column": null,
            "grid_gap": null,
            "grid_row": null,
            "grid_template_areas": null,
            "grid_template_columns": null,
            "grid_template_rows": null,
            "height": null,
            "justify_content": null,
            "justify_items": null,
            "left": null,
            "margin": null,
            "max_height": null,
            "max_width": null,
            "min_height": null,
            "min_width": null,
            "object_fit": null,
            "object_position": null,
            "order": null,
            "overflow": null,
            "overflow_x": null,
            "overflow_y": null,
            "padding": null,
            "right": null,
            "top": null,
            "visibility": null,
            "width": null
          }
        },
        "95fcadc8e7dd421a80b336a921da7cf4": {
          "model_module": "@jupyter-widgets/controls",
          "model_name": "ProgressStyleModel",
          "model_module_version": "1.5.0",
          "state": {
            "_model_module": "@jupyter-widgets/controls",
            "_model_module_version": "1.5.0",
            "_model_name": "ProgressStyleModel",
            "_view_count": null,
            "_view_module": "@jupyter-widgets/base",
            "_view_module_version": "1.2.0",
            "_view_name": "StyleView",
            "bar_color": null,
            "description_width": ""
          }
        },
        "dfee98e98ec04f4aabb1d3a00e76d07b": {
          "model_module": "@jupyter-widgets/base",
          "model_name": "LayoutModel",
          "model_module_version": "1.2.0",
          "state": {
            "_model_module": "@jupyter-widgets/base",
            "_model_module_version": "1.2.0",
            "_model_name": "LayoutModel",
            "_view_count": null,
            "_view_module": "@jupyter-widgets/base",
            "_view_module_version": "1.2.0",
            "_view_name": "LayoutView",
            "align_content": null,
            "align_items": null,
            "align_self": null,
            "border": null,
            "bottom": null,
            "display": null,
            "flex": null,
            "flex_flow": null,
            "grid_area": null,
            "grid_auto_columns": null,
            "grid_auto_flow": null,
            "grid_auto_rows": null,
            "grid_column": null,
            "grid_gap": null,
            "grid_row": null,
            "grid_template_areas": null,
            "grid_template_columns": null,
            "grid_template_rows": null,
            "height": null,
            "justify_content": null,
            "justify_items": null,
            "left": null,
            "margin": null,
            "max_height": null,
            "max_width": null,
            "min_height": null,
            "min_width": null,
            "object_fit": null,
            "object_position": null,
            "order": null,
            "overflow": null,
            "overflow_x": null,
            "overflow_y": null,
            "padding": null,
            "right": null,
            "top": null,
            "visibility": null,
            "width": null
          }
        },
        "57534b7806f24cc0a6c9042ee62026a5": {
          "model_module": "@jupyter-widgets/controls",
          "model_name": "DescriptionStyleModel",
          "model_module_version": "1.5.0",
          "state": {
            "_model_module": "@jupyter-widgets/controls",
            "_model_module_version": "1.5.0",
            "_model_name": "DescriptionStyleModel",
            "_view_count": null,
            "_view_module": "@jupyter-widgets/base",
            "_view_module_version": "1.2.0",
            "_view_name": "StyleView",
            "description_width": ""
          }
        },
        "35aa945f5a2e4ceab4bf59bdf66ea9c5": {
          "model_module": "@jupyter-widgets/controls",
          "model_name": "HBoxModel",
          "model_module_version": "1.5.0",
          "state": {
            "_dom_classes": [],
            "_model_module": "@jupyter-widgets/controls",
            "_model_module_version": "1.5.0",
            "_model_name": "HBoxModel",
            "_view_count": null,
            "_view_module": "@jupyter-widgets/controls",
            "_view_module_version": "1.5.0",
            "_view_name": "HBoxView",
            "box_style": "",
            "children": [
              "IPY_MODEL_6fe8d6dc2f61431b88fc31ecf4d70564",
              "IPY_MODEL_e1d7aecdd5ca49a49f621415cd7c51c0",
              "IPY_MODEL_afc212b5491e48039218532603d93889"
            ],
            "layout": "IPY_MODEL_3190bc90dfbb4cf2a7fafde0442fbce8"
          }
        },
        "6fe8d6dc2f61431b88fc31ecf4d70564": {
          "model_module": "@jupyter-widgets/controls",
          "model_name": "HTMLModel",
          "model_module_version": "1.5.0",
          "state": {
            "_dom_classes": [],
            "_model_module": "@jupyter-widgets/controls",
            "_model_module_version": "1.5.0",
            "_model_name": "HTMLModel",
            "_view_count": null,
            "_view_module": "@jupyter-widgets/controls",
            "_view_module_version": "1.5.0",
            "_view_name": "HTMLView",
            "description": "",
            "description_tooltip": null,
            "layout": "IPY_MODEL_d5ba161594fa41ef8eff2cfe11e56895",
            "placeholder": "​",
            "style": "IPY_MODEL_b285c07d383e4e2d9ebcb7628c884dc7",
            "value": "Downloading (…)solve/main/vocab.txt: 100%"
          }
        },
        "e1d7aecdd5ca49a49f621415cd7c51c0": {
          "model_module": "@jupyter-widgets/controls",
          "model_name": "FloatProgressModel",
          "model_module_version": "1.5.0",
          "state": {
            "_dom_classes": [],
            "_model_module": "@jupyter-widgets/controls",
            "_model_module_version": "1.5.0",
            "_model_name": "FloatProgressModel",
            "_view_count": null,
            "_view_module": "@jupyter-widgets/controls",
            "_view_module_version": "1.5.0",
            "_view_name": "ProgressView",
            "bar_style": "success",
            "description": "",
            "description_tooltip": null,
            "layout": "IPY_MODEL_fba208553a8e4327a0fdd9be0ad9e1e8",
            "max": 231536,
            "min": 0,
            "orientation": "horizontal",
            "style": "IPY_MODEL_6de3b2c769174c148d12ae826dd28142",
            "value": 231536
          }
        },
        "afc212b5491e48039218532603d93889": {
          "model_module": "@jupyter-widgets/controls",
          "model_name": "HTMLModel",
          "model_module_version": "1.5.0",
          "state": {
            "_dom_classes": [],
            "_model_module": "@jupyter-widgets/controls",
            "_model_module_version": "1.5.0",
            "_model_name": "HTMLModel",
            "_view_count": null,
            "_view_module": "@jupyter-widgets/controls",
            "_view_module_version": "1.5.0",
            "_view_name": "HTMLView",
            "description": "",
            "description_tooltip": null,
            "layout": "IPY_MODEL_d38d983ab8bf41e0aad8a75c46ab0ccc",
            "placeholder": "​",
            "style": "IPY_MODEL_6ec91f1887fa4cee9cf8edac92f3e0ef",
            "value": " 232k/232k [00:00&lt;00:00, 5.58MB/s]"
          }
        },
        "3190bc90dfbb4cf2a7fafde0442fbce8": {
          "model_module": "@jupyter-widgets/base",
          "model_name": "LayoutModel",
          "model_module_version": "1.2.0",
          "state": {
            "_model_module": "@jupyter-widgets/base",
            "_model_module_version": "1.2.0",
            "_model_name": "LayoutModel",
            "_view_count": null,
            "_view_module": "@jupyter-widgets/base",
            "_view_module_version": "1.2.0",
            "_view_name": "LayoutView",
            "align_content": null,
            "align_items": null,
            "align_self": null,
            "border": null,
            "bottom": null,
            "display": null,
            "flex": null,
            "flex_flow": null,
            "grid_area": null,
            "grid_auto_columns": null,
            "grid_auto_flow": null,
            "grid_auto_rows": null,
            "grid_column": null,
            "grid_gap": null,
            "grid_row": null,
            "grid_template_areas": null,
            "grid_template_columns": null,
            "grid_template_rows": null,
            "height": null,
            "justify_content": null,
            "justify_items": null,
            "left": null,
            "margin": null,
            "max_height": null,
            "max_width": null,
            "min_height": null,
            "min_width": null,
            "object_fit": null,
            "object_position": null,
            "order": null,
            "overflow": null,
            "overflow_x": null,
            "overflow_y": null,
            "padding": null,
            "right": null,
            "top": null,
            "visibility": null,
            "width": null
          }
        },
        "d5ba161594fa41ef8eff2cfe11e56895": {
          "model_module": "@jupyter-widgets/base",
          "model_name": "LayoutModel",
          "model_module_version": "1.2.0",
          "state": {
            "_model_module": "@jupyter-widgets/base",
            "_model_module_version": "1.2.0",
            "_model_name": "LayoutModel",
            "_view_count": null,
            "_view_module": "@jupyter-widgets/base",
            "_view_module_version": "1.2.0",
            "_view_name": "LayoutView",
            "align_content": null,
            "align_items": null,
            "align_self": null,
            "border": null,
            "bottom": null,
            "display": null,
            "flex": null,
            "flex_flow": null,
            "grid_area": null,
            "grid_auto_columns": null,
            "grid_auto_flow": null,
            "grid_auto_rows": null,
            "grid_column": null,
            "grid_gap": null,
            "grid_row": null,
            "grid_template_areas": null,
            "grid_template_columns": null,
            "grid_template_rows": null,
            "height": null,
            "justify_content": null,
            "justify_items": null,
            "left": null,
            "margin": null,
            "max_height": null,
            "max_width": null,
            "min_height": null,
            "min_width": null,
            "object_fit": null,
            "object_position": null,
            "order": null,
            "overflow": null,
            "overflow_x": null,
            "overflow_y": null,
            "padding": null,
            "right": null,
            "top": null,
            "visibility": null,
            "width": null
          }
        },
        "b285c07d383e4e2d9ebcb7628c884dc7": {
          "model_module": "@jupyter-widgets/controls",
          "model_name": "DescriptionStyleModel",
          "model_module_version": "1.5.0",
          "state": {
            "_model_module": "@jupyter-widgets/controls",
            "_model_module_version": "1.5.0",
            "_model_name": "DescriptionStyleModel",
            "_view_count": null,
            "_view_module": "@jupyter-widgets/base",
            "_view_module_version": "1.2.0",
            "_view_name": "StyleView",
            "description_width": ""
          }
        },
        "fba208553a8e4327a0fdd9be0ad9e1e8": {
          "model_module": "@jupyter-widgets/base",
          "model_name": "LayoutModel",
          "model_module_version": "1.2.0",
          "state": {
            "_model_module": "@jupyter-widgets/base",
            "_model_module_version": "1.2.0",
            "_model_name": "LayoutModel",
            "_view_count": null,
            "_view_module": "@jupyter-widgets/base",
            "_view_module_version": "1.2.0",
            "_view_name": "LayoutView",
            "align_content": null,
            "align_items": null,
            "align_self": null,
            "border": null,
            "bottom": null,
            "display": null,
            "flex": null,
            "flex_flow": null,
            "grid_area": null,
            "grid_auto_columns": null,
            "grid_auto_flow": null,
            "grid_auto_rows": null,
            "grid_column": null,
            "grid_gap": null,
            "grid_row": null,
            "grid_template_areas": null,
            "grid_template_columns": null,
            "grid_template_rows": null,
            "height": null,
            "justify_content": null,
            "justify_items": null,
            "left": null,
            "margin": null,
            "max_height": null,
            "max_width": null,
            "min_height": null,
            "min_width": null,
            "object_fit": null,
            "object_position": null,
            "order": null,
            "overflow": null,
            "overflow_x": null,
            "overflow_y": null,
            "padding": null,
            "right": null,
            "top": null,
            "visibility": null,
            "width": null
          }
        },
        "6de3b2c769174c148d12ae826dd28142": {
          "model_module": "@jupyter-widgets/controls",
          "model_name": "ProgressStyleModel",
          "model_module_version": "1.5.0",
          "state": {
            "_model_module": "@jupyter-widgets/controls",
            "_model_module_version": "1.5.0",
            "_model_name": "ProgressStyleModel",
            "_view_count": null,
            "_view_module": "@jupyter-widgets/base",
            "_view_module_version": "1.2.0",
            "_view_name": "StyleView",
            "bar_color": null,
            "description_width": ""
          }
        },
        "d38d983ab8bf41e0aad8a75c46ab0ccc": {
          "model_module": "@jupyter-widgets/base",
          "model_name": "LayoutModel",
          "model_module_version": "1.2.0",
          "state": {
            "_model_module": "@jupyter-widgets/base",
            "_model_module_version": "1.2.0",
            "_model_name": "LayoutModel",
            "_view_count": null,
            "_view_module": "@jupyter-widgets/base",
            "_view_module_version": "1.2.0",
            "_view_name": "LayoutView",
            "align_content": null,
            "align_items": null,
            "align_self": null,
            "border": null,
            "bottom": null,
            "display": null,
            "flex": null,
            "flex_flow": null,
            "grid_area": null,
            "grid_auto_columns": null,
            "grid_auto_flow": null,
            "grid_auto_rows": null,
            "grid_column": null,
            "grid_gap": null,
            "grid_row": null,
            "grid_template_areas": null,
            "grid_template_columns": null,
            "grid_template_rows": null,
            "height": null,
            "justify_content": null,
            "justify_items": null,
            "left": null,
            "margin": null,
            "max_height": null,
            "max_width": null,
            "min_height": null,
            "min_width": null,
            "object_fit": null,
            "object_position": null,
            "order": null,
            "overflow": null,
            "overflow_x": null,
            "overflow_y": null,
            "padding": null,
            "right": null,
            "top": null,
            "visibility": null,
            "width": null
          }
        },
        "6ec91f1887fa4cee9cf8edac92f3e0ef": {
          "model_module": "@jupyter-widgets/controls",
          "model_name": "DescriptionStyleModel",
          "model_module_version": "1.5.0",
          "state": {
            "_model_module": "@jupyter-widgets/controls",
            "_model_module_version": "1.5.0",
            "_model_name": "DescriptionStyleModel",
            "_view_count": null,
            "_view_module": "@jupyter-widgets/base",
            "_view_module_version": "1.2.0",
            "_view_name": "StyleView",
            "description_width": ""
          }
        },
        "d0be5378f43c492da52d8cad8bd3b2ab": {
          "model_module": "@jupyter-widgets/controls",
          "model_name": "HBoxModel",
          "model_module_version": "1.5.0",
          "state": {
            "_dom_classes": [],
            "_model_module": "@jupyter-widgets/controls",
            "_model_module_version": "1.5.0",
            "_model_name": "HBoxModel",
            "_view_count": null,
            "_view_module": "@jupyter-widgets/controls",
            "_view_module_version": "1.5.0",
            "_view_name": "HBoxView",
            "box_style": "",
            "children": [
              "IPY_MODEL_e8e33e58e6d6495380ba06ecba95f150",
              "IPY_MODEL_8d137c082b48423fb0bbb72f0f839705",
              "IPY_MODEL_fa7bfe3aad3c4009aa1ab1d976818198"
            ],
            "layout": "IPY_MODEL_628aca07c86144348b95eeb58102943d"
          }
        },
        "e8e33e58e6d6495380ba06ecba95f150": {
          "model_module": "@jupyter-widgets/controls",
          "model_name": "HTMLModel",
          "model_module_version": "1.5.0",
          "state": {
            "_dom_classes": [],
            "_model_module": "@jupyter-widgets/controls",
            "_model_module_version": "1.5.0",
            "_model_name": "HTMLModel",
            "_view_count": null,
            "_view_module": "@jupyter-widgets/controls",
            "_view_module_version": "1.5.0",
            "_view_name": "HTMLView",
            "description": "",
            "description_tooltip": null,
            "layout": "IPY_MODEL_796506e2049e49d2a20745f90545d76e",
            "placeholder": "​",
            "style": "IPY_MODEL_404dddd1116b44f4954535f0baaee676",
            "value": "Downloading (…)/main/tokenizer.json: 100%"
          }
        },
        "8d137c082b48423fb0bbb72f0f839705": {
          "model_module": "@jupyter-widgets/controls",
          "model_name": "FloatProgressModel",
          "model_module_version": "1.5.0",
          "state": {
            "_dom_classes": [],
            "_model_module": "@jupyter-widgets/controls",
            "_model_module_version": "1.5.0",
            "_model_name": "FloatProgressModel",
            "_view_count": null,
            "_view_module": "@jupyter-widgets/controls",
            "_view_module_version": "1.5.0",
            "_view_name": "ProgressView",
            "bar_style": "success",
            "description": "",
            "description_tooltip": null,
            "layout": "IPY_MODEL_0bd0596ba0e144b69392fe082d84915c",
            "max": 466021,
            "min": 0,
            "orientation": "horizontal",
            "style": "IPY_MODEL_4754092b5fc14b6c90a8001780ebff77",
            "value": 466021
          }
        },
        "fa7bfe3aad3c4009aa1ab1d976818198": {
          "model_module": "@jupyter-widgets/controls",
          "model_name": "HTMLModel",
          "model_module_version": "1.5.0",
          "state": {
            "_dom_classes": [],
            "_model_module": "@jupyter-widgets/controls",
            "_model_module_version": "1.5.0",
            "_model_name": "HTMLModel",
            "_view_count": null,
            "_view_module": "@jupyter-widgets/controls",
            "_view_module_version": "1.5.0",
            "_view_name": "HTMLView",
            "description": "",
            "description_tooltip": null,
            "layout": "IPY_MODEL_2495eee8f64b44b791cde8d83db090e3",
            "placeholder": "​",
            "style": "IPY_MODEL_f52c36b31f4c4af1834128bf33fe827d",
            "value": " 466k/466k [00:00&lt;00:00, 18.8MB/s]"
          }
        },
        "628aca07c86144348b95eeb58102943d": {
          "model_module": "@jupyter-widgets/base",
          "model_name": "LayoutModel",
          "model_module_version": "1.2.0",
          "state": {
            "_model_module": "@jupyter-widgets/base",
            "_model_module_version": "1.2.0",
            "_model_name": "LayoutModel",
            "_view_count": null,
            "_view_module": "@jupyter-widgets/base",
            "_view_module_version": "1.2.0",
            "_view_name": "LayoutView",
            "align_content": null,
            "align_items": null,
            "align_self": null,
            "border": null,
            "bottom": null,
            "display": null,
            "flex": null,
            "flex_flow": null,
            "grid_area": null,
            "grid_auto_columns": null,
            "grid_auto_flow": null,
            "grid_auto_rows": null,
            "grid_column": null,
            "grid_gap": null,
            "grid_row": null,
            "grid_template_areas": null,
            "grid_template_columns": null,
            "grid_template_rows": null,
            "height": null,
            "justify_content": null,
            "justify_items": null,
            "left": null,
            "margin": null,
            "max_height": null,
            "max_width": null,
            "min_height": null,
            "min_width": null,
            "object_fit": null,
            "object_position": null,
            "order": null,
            "overflow": null,
            "overflow_x": null,
            "overflow_y": null,
            "padding": null,
            "right": null,
            "top": null,
            "visibility": null,
            "width": null
          }
        },
        "796506e2049e49d2a20745f90545d76e": {
          "model_module": "@jupyter-widgets/base",
          "model_name": "LayoutModel",
          "model_module_version": "1.2.0",
          "state": {
            "_model_module": "@jupyter-widgets/base",
            "_model_module_version": "1.2.0",
            "_model_name": "LayoutModel",
            "_view_count": null,
            "_view_module": "@jupyter-widgets/base",
            "_view_module_version": "1.2.0",
            "_view_name": "LayoutView",
            "align_content": null,
            "align_items": null,
            "align_self": null,
            "border": null,
            "bottom": null,
            "display": null,
            "flex": null,
            "flex_flow": null,
            "grid_area": null,
            "grid_auto_columns": null,
            "grid_auto_flow": null,
            "grid_auto_rows": null,
            "grid_column": null,
            "grid_gap": null,
            "grid_row": null,
            "grid_template_areas": null,
            "grid_template_columns": null,
            "grid_template_rows": null,
            "height": null,
            "justify_content": null,
            "justify_items": null,
            "left": null,
            "margin": null,
            "max_height": null,
            "max_width": null,
            "min_height": null,
            "min_width": null,
            "object_fit": null,
            "object_position": null,
            "order": null,
            "overflow": null,
            "overflow_x": null,
            "overflow_y": null,
            "padding": null,
            "right": null,
            "top": null,
            "visibility": null,
            "width": null
          }
        },
        "404dddd1116b44f4954535f0baaee676": {
          "model_module": "@jupyter-widgets/controls",
          "model_name": "DescriptionStyleModel",
          "model_module_version": "1.5.0",
          "state": {
            "_model_module": "@jupyter-widgets/controls",
            "_model_module_version": "1.5.0",
            "_model_name": "DescriptionStyleModel",
            "_view_count": null,
            "_view_module": "@jupyter-widgets/base",
            "_view_module_version": "1.2.0",
            "_view_name": "StyleView",
            "description_width": ""
          }
        },
        "0bd0596ba0e144b69392fe082d84915c": {
          "model_module": "@jupyter-widgets/base",
          "model_name": "LayoutModel",
          "model_module_version": "1.2.0",
          "state": {
            "_model_module": "@jupyter-widgets/base",
            "_model_module_version": "1.2.0",
            "_model_name": "LayoutModel",
            "_view_count": null,
            "_view_module": "@jupyter-widgets/base",
            "_view_module_version": "1.2.0",
            "_view_name": "LayoutView",
            "align_content": null,
            "align_items": null,
            "align_self": null,
            "border": null,
            "bottom": null,
            "display": null,
            "flex": null,
            "flex_flow": null,
            "grid_area": null,
            "grid_auto_columns": null,
            "grid_auto_flow": null,
            "grid_auto_rows": null,
            "grid_column": null,
            "grid_gap": null,
            "grid_row": null,
            "grid_template_areas": null,
            "grid_template_columns": null,
            "grid_template_rows": null,
            "height": null,
            "justify_content": null,
            "justify_items": null,
            "left": null,
            "margin": null,
            "max_height": null,
            "max_width": null,
            "min_height": null,
            "min_width": null,
            "object_fit": null,
            "object_position": null,
            "order": null,
            "overflow": null,
            "overflow_x": null,
            "overflow_y": null,
            "padding": null,
            "right": null,
            "top": null,
            "visibility": null,
            "width": null
          }
        },
        "4754092b5fc14b6c90a8001780ebff77": {
          "model_module": "@jupyter-widgets/controls",
          "model_name": "ProgressStyleModel",
          "model_module_version": "1.5.0",
          "state": {
            "_model_module": "@jupyter-widgets/controls",
            "_model_module_version": "1.5.0",
            "_model_name": "ProgressStyleModel",
            "_view_count": null,
            "_view_module": "@jupyter-widgets/base",
            "_view_module_version": "1.2.0",
            "_view_name": "StyleView",
            "bar_color": null,
            "description_width": ""
          }
        },
        "2495eee8f64b44b791cde8d83db090e3": {
          "model_module": "@jupyter-widgets/base",
          "model_name": "LayoutModel",
          "model_module_version": "1.2.0",
          "state": {
            "_model_module": "@jupyter-widgets/base",
            "_model_module_version": "1.2.0",
            "_model_name": "LayoutModel",
            "_view_count": null,
            "_view_module": "@jupyter-widgets/base",
            "_view_module_version": "1.2.0",
            "_view_name": "LayoutView",
            "align_content": null,
            "align_items": null,
            "align_self": null,
            "border": null,
            "bottom": null,
            "display": null,
            "flex": null,
            "flex_flow": null,
            "grid_area": null,
            "grid_auto_columns": null,
            "grid_auto_flow": null,
            "grid_auto_rows": null,
            "grid_column": null,
            "grid_gap": null,
            "grid_row": null,
            "grid_template_areas": null,
            "grid_template_columns": null,
            "grid_template_rows": null,
            "height": null,
            "justify_content": null,
            "justify_items": null,
            "left": null,
            "margin": null,
            "max_height": null,
            "max_width": null,
            "min_height": null,
            "min_width": null,
            "object_fit": null,
            "object_position": null,
            "order": null,
            "overflow": null,
            "overflow_x": null,
            "overflow_y": null,
            "padding": null,
            "right": null,
            "top": null,
            "visibility": null,
            "width": null
          }
        },
        "f52c36b31f4c4af1834128bf33fe827d": {
          "model_module": "@jupyter-widgets/controls",
          "model_name": "DescriptionStyleModel",
          "model_module_version": "1.5.0",
          "state": {
            "_model_module": "@jupyter-widgets/controls",
            "_model_module_version": "1.5.0",
            "_model_name": "DescriptionStyleModel",
            "_view_count": null,
            "_view_module": "@jupyter-widgets/base",
            "_view_module_version": "1.2.0",
            "_view_name": "StyleView",
            "description_width": ""
          }
        },
        "d3cded00cfad49bca59ab2f96f944806": {
          "model_module": "@jupyter-widgets/controls",
          "model_name": "HBoxModel",
          "model_module_version": "1.5.0",
          "state": {
            "_dom_classes": [],
            "_model_module": "@jupyter-widgets/controls",
            "_model_module_version": "1.5.0",
            "_model_name": "HBoxModel",
            "_view_count": null,
            "_view_module": "@jupyter-widgets/controls",
            "_view_module_version": "1.5.0",
            "_view_name": "HBoxView",
            "box_style": "",
            "children": [
              "IPY_MODEL_c059070060044650bb1029297e8fd706",
              "IPY_MODEL_a0bbafe23e774421b2f9797c9a35e392",
              "IPY_MODEL_30997c1de19e4cb9968451b6e1576ff5"
            ],
            "layout": "IPY_MODEL_0e666e854fe94141a0a4b84e2ef58e61"
          }
        },
        "c059070060044650bb1029297e8fd706": {
          "model_module": "@jupyter-widgets/controls",
          "model_name": "HTMLModel",
          "model_module_version": "1.5.0",
          "state": {
            "_dom_classes": [],
            "_model_module": "@jupyter-widgets/controls",
            "_model_module_version": "1.5.0",
            "_model_name": "HTMLModel",
            "_view_count": null,
            "_view_module": "@jupyter-widgets/controls",
            "_view_module_version": "1.5.0",
            "_view_name": "HTMLView",
            "description": "",
            "description_tooltip": null,
            "layout": "IPY_MODEL_0beeced6b88f459ebc213b0e49fb8697",
            "placeholder": "​",
            "style": "IPY_MODEL_eed97862f5db4158a874e9e992ca0f88",
            "value": "Downloading (…)cial_tokens_map.json: 100%"
          }
        },
        "a0bbafe23e774421b2f9797c9a35e392": {
          "model_module": "@jupyter-widgets/controls",
          "model_name": "FloatProgressModel",
          "model_module_version": "1.5.0",
          "state": {
            "_dom_classes": [],
            "_model_module": "@jupyter-widgets/controls",
            "_model_module_version": "1.5.0",
            "_model_name": "FloatProgressModel",
            "_view_count": null,
            "_view_module": "@jupyter-widgets/controls",
            "_view_module_version": "1.5.0",
            "_view_name": "ProgressView",
            "bar_style": "success",
            "description": "",
            "description_tooltip": null,
            "layout": "IPY_MODEL_14d46e65eddd483ab78088e467bd961e",
            "max": 239,
            "min": 0,
            "orientation": "horizontal",
            "style": "IPY_MODEL_c6176096a30640718451126c89581933",
            "value": 239
          }
        },
        "30997c1de19e4cb9968451b6e1576ff5": {
          "model_module": "@jupyter-widgets/controls",
          "model_name": "HTMLModel",
          "model_module_version": "1.5.0",
          "state": {
            "_dom_classes": [],
            "_model_module": "@jupyter-widgets/controls",
            "_model_module_version": "1.5.0",
            "_model_name": "HTMLModel",
            "_view_count": null,
            "_view_module": "@jupyter-widgets/controls",
            "_view_module_version": "1.5.0",
            "_view_name": "HTMLView",
            "description": "",
            "description_tooltip": null,
            "layout": "IPY_MODEL_0bb8608ce764417b9d20a339dfffa4ce",
            "placeholder": "​",
            "style": "IPY_MODEL_2c0113805b6c4328aa303406985cada5",
            "value": " 239/239 [00:00&lt;00:00, 14.0kB/s]"
          }
        },
        "0e666e854fe94141a0a4b84e2ef58e61": {
          "model_module": "@jupyter-widgets/base",
          "model_name": "LayoutModel",
          "model_module_version": "1.2.0",
          "state": {
            "_model_module": "@jupyter-widgets/base",
            "_model_module_version": "1.2.0",
            "_model_name": "LayoutModel",
            "_view_count": null,
            "_view_module": "@jupyter-widgets/base",
            "_view_module_version": "1.2.0",
            "_view_name": "LayoutView",
            "align_content": null,
            "align_items": null,
            "align_self": null,
            "border": null,
            "bottom": null,
            "display": null,
            "flex": null,
            "flex_flow": null,
            "grid_area": null,
            "grid_auto_columns": null,
            "grid_auto_flow": null,
            "grid_auto_rows": null,
            "grid_column": null,
            "grid_gap": null,
            "grid_row": null,
            "grid_template_areas": null,
            "grid_template_columns": null,
            "grid_template_rows": null,
            "height": null,
            "justify_content": null,
            "justify_items": null,
            "left": null,
            "margin": null,
            "max_height": null,
            "max_width": null,
            "min_height": null,
            "min_width": null,
            "object_fit": null,
            "object_position": null,
            "order": null,
            "overflow": null,
            "overflow_x": null,
            "overflow_y": null,
            "padding": null,
            "right": null,
            "top": null,
            "visibility": null,
            "width": null
          }
        },
        "0beeced6b88f459ebc213b0e49fb8697": {
          "model_module": "@jupyter-widgets/base",
          "model_name": "LayoutModel",
          "model_module_version": "1.2.0",
          "state": {
            "_model_module": "@jupyter-widgets/base",
            "_model_module_version": "1.2.0",
            "_model_name": "LayoutModel",
            "_view_count": null,
            "_view_module": "@jupyter-widgets/base",
            "_view_module_version": "1.2.0",
            "_view_name": "LayoutView",
            "align_content": null,
            "align_items": null,
            "align_self": null,
            "border": null,
            "bottom": null,
            "display": null,
            "flex": null,
            "flex_flow": null,
            "grid_area": null,
            "grid_auto_columns": null,
            "grid_auto_flow": null,
            "grid_auto_rows": null,
            "grid_column": null,
            "grid_gap": null,
            "grid_row": null,
            "grid_template_areas": null,
            "grid_template_columns": null,
            "grid_template_rows": null,
            "height": null,
            "justify_content": null,
            "justify_items": null,
            "left": null,
            "margin": null,
            "max_height": null,
            "max_width": null,
            "min_height": null,
            "min_width": null,
            "object_fit": null,
            "object_position": null,
            "order": null,
            "overflow": null,
            "overflow_x": null,
            "overflow_y": null,
            "padding": null,
            "right": null,
            "top": null,
            "visibility": null,
            "width": null
          }
        },
        "eed97862f5db4158a874e9e992ca0f88": {
          "model_module": "@jupyter-widgets/controls",
          "model_name": "DescriptionStyleModel",
          "model_module_version": "1.5.0",
          "state": {
            "_model_module": "@jupyter-widgets/controls",
            "_model_module_version": "1.5.0",
            "_model_name": "DescriptionStyleModel",
            "_view_count": null,
            "_view_module": "@jupyter-widgets/base",
            "_view_module_version": "1.2.0",
            "_view_name": "StyleView",
            "description_width": ""
          }
        },
        "14d46e65eddd483ab78088e467bd961e": {
          "model_module": "@jupyter-widgets/base",
          "model_name": "LayoutModel",
          "model_module_version": "1.2.0",
          "state": {
            "_model_module": "@jupyter-widgets/base",
            "_model_module_version": "1.2.0",
            "_model_name": "LayoutModel",
            "_view_count": null,
            "_view_module": "@jupyter-widgets/base",
            "_view_module_version": "1.2.0",
            "_view_name": "LayoutView",
            "align_content": null,
            "align_items": null,
            "align_self": null,
            "border": null,
            "bottom": null,
            "display": null,
            "flex": null,
            "flex_flow": null,
            "grid_area": null,
            "grid_auto_columns": null,
            "grid_auto_flow": null,
            "grid_auto_rows": null,
            "grid_column": null,
            "grid_gap": null,
            "grid_row": null,
            "grid_template_areas": null,
            "grid_template_columns": null,
            "grid_template_rows": null,
            "height": null,
            "justify_content": null,
            "justify_items": null,
            "left": null,
            "margin": null,
            "max_height": null,
            "max_width": null,
            "min_height": null,
            "min_width": null,
            "object_fit": null,
            "object_position": null,
            "order": null,
            "overflow": null,
            "overflow_x": null,
            "overflow_y": null,
            "padding": null,
            "right": null,
            "top": null,
            "visibility": null,
            "width": null
          }
        },
        "c6176096a30640718451126c89581933": {
          "model_module": "@jupyter-widgets/controls",
          "model_name": "ProgressStyleModel",
          "model_module_version": "1.5.0",
          "state": {
            "_model_module": "@jupyter-widgets/controls",
            "_model_module_version": "1.5.0",
            "_model_name": "ProgressStyleModel",
            "_view_count": null,
            "_view_module": "@jupyter-widgets/base",
            "_view_module_version": "1.2.0",
            "_view_name": "StyleView",
            "bar_color": null,
            "description_width": ""
          }
        },
        "0bb8608ce764417b9d20a339dfffa4ce": {
          "model_module": "@jupyter-widgets/base",
          "model_name": "LayoutModel",
          "model_module_version": "1.2.0",
          "state": {
            "_model_module": "@jupyter-widgets/base",
            "_model_module_version": "1.2.0",
            "_model_name": "LayoutModel",
            "_view_count": null,
            "_view_module": "@jupyter-widgets/base",
            "_view_module_version": "1.2.0",
            "_view_name": "LayoutView",
            "align_content": null,
            "align_items": null,
            "align_self": null,
            "border": null,
            "bottom": null,
            "display": null,
            "flex": null,
            "flex_flow": null,
            "grid_area": null,
            "grid_auto_columns": null,
            "grid_auto_flow": null,
            "grid_auto_rows": null,
            "grid_column": null,
            "grid_gap": null,
            "grid_row": null,
            "grid_template_areas": null,
            "grid_template_columns": null,
            "grid_template_rows": null,
            "height": null,
            "justify_content": null,
            "justify_items": null,
            "left": null,
            "margin": null,
            "max_height": null,
            "max_width": null,
            "min_height": null,
            "min_width": null,
            "object_fit": null,
            "object_position": null,
            "order": null,
            "overflow": null,
            "overflow_x": null,
            "overflow_y": null,
            "padding": null,
            "right": null,
            "top": null,
            "visibility": null,
            "width": null
          }
        },
        "2c0113805b6c4328aa303406985cada5": {
          "model_module": "@jupyter-widgets/controls",
          "model_name": "DescriptionStyleModel",
          "model_module_version": "1.5.0",
          "state": {
            "_model_module": "@jupyter-widgets/controls",
            "_model_module_version": "1.5.0",
            "_model_name": "DescriptionStyleModel",
            "_view_count": null,
            "_view_module": "@jupyter-widgets/base",
            "_view_module_version": "1.2.0",
            "_view_name": "StyleView",
            "description_width": ""
          }
        },
        "f2d747e2f7de47368559547537360db8": {
          "model_module": "@jupyter-widgets/controls",
          "model_name": "HBoxModel",
          "model_module_version": "1.5.0",
          "state": {
            "_dom_classes": [],
            "_model_module": "@jupyter-widgets/controls",
            "_model_module_version": "1.5.0",
            "_model_name": "HBoxModel",
            "_view_count": null,
            "_view_module": "@jupyter-widgets/controls",
            "_view_module_version": "1.5.0",
            "_view_name": "HBoxView",
            "box_style": "",
            "children": [
              "IPY_MODEL_fb7d49631a774f81a765524a22751830",
              "IPY_MODEL_faca100ad16e4a10bff375ad58b6ad49",
              "IPY_MODEL_5c069a1083e64e8686067dbcdc2d10c9"
            ],
            "layout": "IPY_MODEL_51968aac4e8443f0ac04761b32fc06d5"
          }
        },
        "fb7d49631a774f81a765524a22751830": {
          "model_module": "@jupyter-widgets/controls",
          "model_name": "HTMLModel",
          "model_module_version": "1.5.0",
          "state": {
            "_dom_classes": [],
            "_model_module": "@jupyter-widgets/controls",
            "_model_module_version": "1.5.0",
            "_model_name": "HTMLModel",
            "_view_count": null,
            "_view_module": "@jupyter-widgets/controls",
            "_view_module_version": "1.5.0",
            "_view_name": "HTMLView",
            "description": "",
            "description_tooltip": null,
            "layout": "IPY_MODEL_34041fdfe2c245278daa3eac66c30205",
            "placeholder": "​",
            "style": "IPY_MODEL_1db1b0487b0c49959bdeb882bb79071b",
            "value": "Downloading (…)lve/main/config.json: 100%"
          }
        },
        "faca100ad16e4a10bff375ad58b6ad49": {
          "model_module": "@jupyter-widgets/controls",
          "model_name": "FloatProgressModel",
          "model_module_version": "1.5.0",
          "state": {
            "_dom_classes": [],
            "_model_module": "@jupyter-widgets/controls",
            "_model_module_version": "1.5.0",
            "_model_name": "FloatProgressModel",
            "_view_count": null,
            "_view_module": "@jupyter-widgets/controls",
            "_view_module_version": "1.5.0",
            "_view_name": "ProgressView",
            "bar_style": "success",
            "description": "",
            "description_tooltip": null,
            "layout": "IPY_MODEL_c998c9871dcc4a08b8dfe9cf08b2bb84",
            "max": 571,
            "min": 0,
            "orientation": "horizontal",
            "style": "IPY_MODEL_511c365646444195b7d9cd53a20e6660",
            "value": 571
          }
        },
        "5c069a1083e64e8686067dbcdc2d10c9": {
          "model_module": "@jupyter-widgets/controls",
          "model_name": "HTMLModel",
          "model_module_version": "1.5.0",
          "state": {
            "_dom_classes": [],
            "_model_module": "@jupyter-widgets/controls",
            "_model_module_version": "1.5.0",
            "_model_name": "HTMLModel",
            "_view_count": null,
            "_view_module": "@jupyter-widgets/controls",
            "_view_module_version": "1.5.0",
            "_view_name": "HTMLView",
            "description": "",
            "description_tooltip": null,
            "layout": "IPY_MODEL_93a23256b09f4ff79d5c9448ee378aa1",
            "placeholder": "​",
            "style": "IPY_MODEL_5edad1a06b864643ae75144e658ef242",
            "value": " 571/571 [00:00&lt;00:00, 33.1kB/s]"
          }
        },
        "51968aac4e8443f0ac04761b32fc06d5": {
          "model_module": "@jupyter-widgets/base",
          "model_name": "LayoutModel",
          "model_module_version": "1.2.0",
          "state": {
            "_model_module": "@jupyter-widgets/base",
            "_model_module_version": "1.2.0",
            "_model_name": "LayoutModel",
            "_view_count": null,
            "_view_module": "@jupyter-widgets/base",
            "_view_module_version": "1.2.0",
            "_view_name": "LayoutView",
            "align_content": null,
            "align_items": null,
            "align_self": null,
            "border": null,
            "bottom": null,
            "display": null,
            "flex": null,
            "flex_flow": null,
            "grid_area": null,
            "grid_auto_columns": null,
            "grid_auto_flow": null,
            "grid_auto_rows": null,
            "grid_column": null,
            "grid_gap": null,
            "grid_row": null,
            "grid_template_areas": null,
            "grid_template_columns": null,
            "grid_template_rows": null,
            "height": null,
            "justify_content": null,
            "justify_items": null,
            "left": null,
            "margin": null,
            "max_height": null,
            "max_width": null,
            "min_height": null,
            "min_width": null,
            "object_fit": null,
            "object_position": null,
            "order": null,
            "overflow": null,
            "overflow_x": null,
            "overflow_y": null,
            "padding": null,
            "right": null,
            "top": null,
            "visibility": null,
            "width": null
          }
        },
        "34041fdfe2c245278daa3eac66c30205": {
          "model_module": "@jupyter-widgets/base",
          "model_name": "LayoutModel",
          "model_module_version": "1.2.0",
          "state": {
            "_model_module": "@jupyter-widgets/base",
            "_model_module_version": "1.2.0",
            "_model_name": "LayoutModel",
            "_view_count": null,
            "_view_module": "@jupyter-widgets/base",
            "_view_module_version": "1.2.0",
            "_view_name": "LayoutView",
            "align_content": null,
            "align_items": null,
            "align_self": null,
            "border": null,
            "bottom": null,
            "display": null,
            "flex": null,
            "flex_flow": null,
            "grid_area": null,
            "grid_auto_columns": null,
            "grid_auto_flow": null,
            "grid_auto_rows": null,
            "grid_column": null,
            "grid_gap": null,
            "grid_row": null,
            "grid_template_areas": null,
            "grid_template_columns": null,
            "grid_template_rows": null,
            "height": null,
            "justify_content": null,
            "justify_items": null,
            "left": null,
            "margin": null,
            "max_height": null,
            "max_width": null,
            "min_height": null,
            "min_width": null,
            "object_fit": null,
            "object_position": null,
            "order": null,
            "overflow": null,
            "overflow_x": null,
            "overflow_y": null,
            "padding": null,
            "right": null,
            "top": null,
            "visibility": null,
            "width": null
          }
        },
        "1db1b0487b0c49959bdeb882bb79071b": {
          "model_module": "@jupyter-widgets/controls",
          "model_name": "DescriptionStyleModel",
          "model_module_version": "1.5.0",
          "state": {
            "_model_module": "@jupyter-widgets/controls",
            "_model_module_version": "1.5.0",
            "_model_name": "DescriptionStyleModel",
            "_view_count": null,
            "_view_module": "@jupyter-widgets/base",
            "_view_module_version": "1.2.0",
            "_view_name": "StyleView",
            "description_width": ""
          }
        },
        "c998c9871dcc4a08b8dfe9cf08b2bb84": {
          "model_module": "@jupyter-widgets/base",
          "model_name": "LayoutModel",
          "model_module_version": "1.2.0",
          "state": {
            "_model_module": "@jupyter-widgets/base",
            "_model_module_version": "1.2.0",
            "_model_name": "LayoutModel",
            "_view_count": null,
            "_view_module": "@jupyter-widgets/base",
            "_view_module_version": "1.2.0",
            "_view_name": "LayoutView",
            "align_content": null,
            "align_items": null,
            "align_self": null,
            "border": null,
            "bottom": null,
            "display": null,
            "flex": null,
            "flex_flow": null,
            "grid_area": null,
            "grid_auto_columns": null,
            "grid_auto_flow": null,
            "grid_auto_rows": null,
            "grid_column": null,
            "grid_gap": null,
            "grid_row": null,
            "grid_template_areas": null,
            "grid_template_columns": null,
            "grid_template_rows": null,
            "height": null,
            "justify_content": null,
            "justify_items": null,
            "left": null,
            "margin": null,
            "max_height": null,
            "max_width": null,
            "min_height": null,
            "min_width": null,
            "object_fit": null,
            "object_position": null,
            "order": null,
            "overflow": null,
            "overflow_x": null,
            "overflow_y": null,
            "padding": null,
            "right": null,
            "top": null,
            "visibility": null,
            "width": null
          }
        },
        "511c365646444195b7d9cd53a20e6660": {
          "model_module": "@jupyter-widgets/controls",
          "model_name": "ProgressStyleModel",
          "model_module_version": "1.5.0",
          "state": {
            "_model_module": "@jupyter-widgets/controls",
            "_model_module_version": "1.5.0",
            "_model_name": "ProgressStyleModel",
            "_view_count": null,
            "_view_module": "@jupyter-widgets/base",
            "_view_module_version": "1.2.0",
            "_view_name": "StyleView",
            "bar_color": null,
            "description_width": ""
          }
        },
        "93a23256b09f4ff79d5c9448ee378aa1": {
          "model_module": "@jupyter-widgets/base",
          "model_name": "LayoutModel",
          "model_module_version": "1.2.0",
          "state": {
            "_model_module": "@jupyter-widgets/base",
            "_model_module_version": "1.2.0",
            "_model_name": "LayoutModel",
            "_view_count": null,
            "_view_module": "@jupyter-widgets/base",
            "_view_module_version": "1.2.0",
            "_view_name": "LayoutView",
            "align_content": null,
            "align_items": null,
            "align_self": null,
            "border": null,
            "bottom": null,
            "display": null,
            "flex": null,
            "flex_flow": null,
            "grid_area": null,
            "grid_auto_columns": null,
            "grid_auto_flow": null,
            "grid_auto_rows": null,
            "grid_column": null,
            "grid_gap": null,
            "grid_row": null,
            "grid_template_areas": null,
            "grid_template_columns": null,
            "grid_template_rows": null,
            "height": null,
            "justify_content": null,
            "justify_items": null,
            "left": null,
            "margin": null,
            "max_height": null,
            "max_width": null,
            "min_height": null,
            "min_width": null,
            "object_fit": null,
            "object_position": null,
            "order": null,
            "overflow": null,
            "overflow_x": null,
            "overflow_y": null,
            "padding": null,
            "right": null,
            "top": null,
            "visibility": null,
            "width": null
          }
        },
        "5edad1a06b864643ae75144e658ef242": {
          "model_module": "@jupyter-widgets/controls",
          "model_name": "DescriptionStyleModel",
          "model_module_version": "1.5.0",
          "state": {
            "_model_module": "@jupyter-widgets/controls",
            "_model_module_version": "1.5.0",
            "_model_name": "DescriptionStyleModel",
            "_view_count": null,
            "_view_module": "@jupyter-widgets/base",
            "_view_module_version": "1.2.0",
            "_view_name": "StyleView",
            "description_width": ""
          }
        },
        "413bf98eea80480e984f190f8ada4c3b": {
          "model_module": "@jupyter-widgets/controls",
          "model_name": "HBoxModel",
          "model_module_version": "1.5.0",
          "state": {
            "_dom_classes": [],
            "_model_module": "@jupyter-widgets/controls",
            "_model_module_version": "1.5.0",
            "_model_name": "HBoxModel",
            "_view_count": null,
            "_view_module": "@jupyter-widgets/controls",
            "_view_module_version": "1.5.0",
            "_view_name": "HBoxView",
            "box_style": "",
            "children": [
              "IPY_MODEL_2c06f83a39f34a09867e35b4184e695a",
              "IPY_MODEL_d3dd19d11e6c494186a334effbace8b7",
              "IPY_MODEL_21a428fb8d3943c1996d3575d0a4d766"
            ],
            "layout": "IPY_MODEL_60afb1f469544563882f1908c6400f02"
          }
        },
        "2c06f83a39f34a09867e35b4184e695a": {
          "model_module": "@jupyter-widgets/controls",
          "model_name": "HTMLModel",
          "model_module_version": "1.5.0",
          "state": {
            "_dom_classes": [],
            "_model_module": "@jupyter-widgets/controls",
            "_model_module_version": "1.5.0",
            "_model_name": "HTMLModel",
            "_view_count": null,
            "_view_module": "@jupyter-widgets/controls",
            "_view_module_version": "1.5.0",
            "_view_name": "HTMLView",
            "description": "",
            "description_tooltip": null,
            "layout": "IPY_MODEL_3577a55c9f404855ace0317621153e47",
            "placeholder": "​",
            "style": "IPY_MODEL_21050efb8a28463a935b6dcf69768a34",
            "value": "Downloading pytorch_model.bin: 100%"
          }
        },
        "d3dd19d11e6c494186a334effbace8b7": {
          "model_module": "@jupyter-widgets/controls",
          "model_name": "FloatProgressModel",
          "model_module_version": "1.5.0",
          "state": {
            "_dom_classes": [],
            "_model_module": "@jupyter-widgets/controls",
            "_model_module_version": "1.5.0",
            "_model_name": "FloatProgressModel",
            "_view_count": null,
            "_view_module": "@jupyter-widgets/controls",
            "_view_module_version": "1.5.0",
            "_view_name": "ProgressView",
            "bar_style": "success",
            "description": "",
            "description_tooltip": null,
            "layout": "IPY_MODEL_49c7e46a66a440ea88323a2c9f60b7b2",
            "max": 438011953,
            "min": 0,
            "orientation": "horizontal",
            "style": "IPY_MODEL_5e8e7bd8a0c64bd18ff329c701b2a7aa",
            "value": 438011953
          }
        },
        "21a428fb8d3943c1996d3575d0a4d766": {
          "model_module": "@jupyter-widgets/controls",
          "model_name": "HTMLModel",
          "model_module_version": "1.5.0",
          "state": {
            "_dom_classes": [],
            "_model_module": "@jupyter-widgets/controls",
            "_model_module_version": "1.5.0",
            "_model_name": "HTMLModel",
            "_view_count": null,
            "_view_module": "@jupyter-widgets/controls",
            "_view_module_version": "1.5.0",
            "_view_name": "HTMLView",
            "description": "",
            "description_tooltip": null,
            "layout": "IPY_MODEL_d84a70c6c1bc4f58b1787a0df63d7dc6",
            "placeholder": "​",
            "style": "IPY_MODEL_3d60443c20ab4cce978dfc376a0ea4c9",
            "value": " 438M/438M [00:03&lt;00:00, 213MB/s]"
          }
        },
        "60afb1f469544563882f1908c6400f02": {
          "model_module": "@jupyter-widgets/base",
          "model_name": "LayoutModel",
          "model_module_version": "1.2.0",
          "state": {
            "_model_module": "@jupyter-widgets/base",
            "_model_module_version": "1.2.0",
            "_model_name": "LayoutModel",
            "_view_count": null,
            "_view_module": "@jupyter-widgets/base",
            "_view_module_version": "1.2.0",
            "_view_name": "LayoutView",
            "align_content": null,
            "align_items": null,
            "align_self": null,
            "border": null,
            "bottom": null,
            "display": null,
            "flex": null,
            "flex_flow": null,
            "grid_area": null,
            "grid_auto_columns": null,
            "grid_auto_flow": null,
            "grid_auto_rows": null,
            "grid_column": null,
            "grid_gap": null,
            "grid_row": null,
            "grid_template_areas": null,
            "grid_template_columns": null,
            "grid_template_rows": null,
            "height": null,
            "justify_content": null,
            "justify_items": null,
            "left": null,
            "margin": null,
            "max_height": null,
            "max_width": null,
            "min_height": null,
            "min_width": null,
            "object_fit": null,
            "object_position": null,
            "order": null,
            "overflow": null,
            "overflow_x": null,
            "overflow_y": null,
            "padding": null,
            "right": null,
            "top": null,
            "visibility": null,
            "width": null
          }
        },
        "3577a55c9f404855ace0317621153e47": {
          "model_module": "@jupyter-widgets/base",
          "model_name": "LayoutModel",
          "model_module_version": "1.2.0",
          "state": {
            "_model_module": "@jupyter-widgets/base",
            "_model_module_version": "1.2.0",
            "_model_name": "LayoutModel",
            "_view_count": null,
            "_view_module": "@jupyter-widgets/base",
            "_view_module_version": "1.2.0",
            "_view_name": "LayoutView",
            "align_content": null,
            "align_items": null,
            "align_self": null,
            "border": null,
            "bottom": null,
            "display": null,
            "flex": null,
            "flex_flow": null,
            "grid_area": null,
            "grid_auto_columns": null,
            "grid_auto_flow": null,
            "grid_auto_rows": null,
            "grid_column": null,
            "grid_gap": null,
            "grid_row": null,
            "grid_template_areas": null,
            "grid_template_columns": null,
            "grid_template_rows": null,
            "height": null,
            "justify_content": null,
            "justify_items": null,
            "left": null,
            "margin": null,
            "max_height": null,
            "max_width": null,
            "min_height": null,
            "min_width": null,
            "object_fit": null,
            "object_position": null,
            "order": null,
            "overflow": null,
            "overflow_x": null,
            "overflow_y": null,
            "padding": null,
            "right": null,
            "top": null,
            "visibility": null,
            "width": null
          }
        },
        "21050efb8a28463a935b6dcf69768a34": {
          "model_module": "@jupyter-widgets/controls",
          "model_name": "DescriptionStyleModel",
          "model_module_version": "1.5.0",
          "state": {
            "_model_module": "@jupyter-widgets/controls",
            "_model_module_version": "1.5.0",
            "_model_name": "DescriptionStyleModel",
            "_view_count": null,
            "_view_module": "@jupyter-widgets/base",
            "_view_module_version": "1.2.0",
            "_view_name": "StyleView",
            "description_width": ""
          }
        },
        "49c7e46a66a440ea88323a2c9f60b7b2": {
          "model_module": "@jupyter-widgets/base",
          "model_name": "LayoutModel",
          "model_module_version": "1.2.0",
          "state": {
            "_model_module": "@jupyter-widgets/base",
            "_model_module_version": "1.2.0",
            "_model_name": "LayoutModel",
            "_view_count": null,
            "_view_module": "@jupyter-widgets/base",
            "_view_module_version": "1.2.0",
            "_view_name": "LayoutView",
            "align_content": null,
            "align_items": null,
            "align_self": null,
            "border": null,
            "bottom": null,
            "display": null,
            "flex": null,
            "flex_flow": null,
            "grid_area": null,
            "grid_auto_columns": null,
            "grid_auto_flow": null,
            "grid_auto_rows": null,
            "grid_column": null,
            "grid_gap": null,
            "grid_row": null,
            "grid_template_areas": null,
            "grid_template_columns": null,
            "grid_template_rows": null,
            "height": null,
            "justify_content": null,
            "justify_items": null,
            "left": null,
            "margin": null,
            "max_height": null,
            "max_width": null,
            "min_height": null,
            "min_width": null,
            "object_fit": null,
            "object_position": null,
            "order": null,
            "overflow": null,
            "overflow_x": null,
            "overflow_y": null,
            "padding": null,
            "right": null,
            "top": null,
            "visibility": null,
            "width": null
          }
        },
        "5e8e7bd8a0c64bd18ff329c701b2a7aa": {
          "model_module": "@jupyter-widgets/controls",
          "model_name": "ProgressStyleModel",
          "model_module_version": "1.5.0",
          "state": {
            "_model_module": "@jupyter-widgets/controls",
            "_model_module_version": "1.5.0",
            "_model_name": "ProgressStyleModel",
            "_view_count": null,
            "_view_module": "@jupyter-widgets/base",
            "_view_module_version": "1.2.0",
            "_view_name": "StyleView",
            "bar_color": null,
            "description_width": ""
          }
        },
        "d84a70c6c1bc4f58b1787a0df63d7dc6": {
          "model_module": "@jupyter-widgets/base",
          "model_name": "LayoutModel",
          "model_module_version": "1.2.0",
          "state": {
            "_model_module": "@jupyter-widgets/base",
            "_model_module_version": "1.2.0",
            "_model_name": "LayoutModel",
            "_view_count": null,
            "_view_module": "@jupyter-widgets/base",
            "_view_module_version": "1.2.0",
            "_view_name": "LayoutView",
            "align_content": null,
            "align_items": null,
            "align_self": null,
            "border": null,
            "bottom": null,
            "display": null,
            "flex": null,
            "flex_flow": null,
            "grid_area": null,
            "grid_auto_columns": null,
            "grid_auto_flow": null,
            "grid_auto_rows": null,
            "grid_column": null,
            "grid_gap": null,
            "grid_row": null,
            "grid_template_areas": null,
            "grid_template_columns": null,
            "grid_template_rows": null,
            "height": null,
            "justify_content": null,
            "justify_items": null,
            "left": null,
            "margin": null,
            "max_height": null,
            "max_width": null,
            "min_height": null,
            "min_width": null,
            "object_fit": null,
            "object_position": null,
            "order": null,
            "overflow": null,
            "overflow_x": null,
            "overflow_y": null,
            "padding": null,
            "right": null,
            "top": null,
            "visibility": null,
            "width": null
          }
        },
        "3d60443c20ab4cce978dfc376a0ea4c9": {
          "model_module": "@jupyter-widgets/controls",
          "model_name": "DescriptionStyleModel",
          "model_module_version": "1.5.0",
          "state": {
            "_model_module": "@jupyter-widgets/controls",
            "_model_module_version": "1.5.0",
            "_model_name": "DescriptionStyleModel",
            "_view_count": null,
            "_view_module": "@jupyter-widgets/base",
            "_view_module_version": "1.2.0",
            "_view_name": "StyleView",
            "description_width": ""
          }
        }
      }
    }
  },
  "cells": [
    {
      "cell_type": "markdown",
      "metadata": {
        "id": "k-WJBimYDLJS"
      },
      "source": [
        "# Assignment 4\n",
        "## Training a DNN for relation classification\n",
        "\n",
        "In this assignment you are required to build a full training and testing pipeline for a neural relation classification (RC), using BERT.\n"
      ]
    },
    {
      "cell_type": "markdown",
      "source": [
        "**In this work we will use the hugingface framework for transformers training and inference.**\n",
        "We recomand reading the documentation in [this](https://huggingface.co/docs/transformers/main/en/model_doc/bert#transformers.BertForSequenceClassification) link *before* you start coding.\n"
      ],
      "metadata": {
        "id": "3yfLcn9L3kk7"
      }
    },
    {
      "cell_type": "markdown",
      "source": [
        "All additional packages:"
      ],
      "metadata": {
        "id": "B1spfgZS1As8"
      }
    },
    {
      "cell_type": "code",
      "source": [
        "# !pip install --q\n",
        "!pip install --q transformers"
      ],
      "metadata": {
        "id": "4-KySiEt0-fQ",
        "colab": {
          "base_uri": "https://localhost:8080/"
        },
        "outputId": "fbff90c1-3d12-49f4-f2ae-e334e1e0068f"
      },
      "execution_count": null,
      "outputs": [
        {
          "output_type": "stream",
          "name": "stdout",
          "text": [
            "\u001b[2K     \u001b[90m━━━━━━━━━━━━━━━━━━━━━━━━━━━━━━━━━━━━━━━━\u001b[0m \u001b[32m7.2/7.2 MB\u001b[0m \u001b[31m70.7 MB/s\u001b[0m eta \u001b[36m0:00:00\u001b[0m\n",
            "\u001b[2K     \u001b[90m━━━━━━━━━━━━━━━━━━━━━━━━━━━━━━━━━━━━━━\u001b[0m \u001b[32m268.5/268.5 kB\u001b[0m \u001b[31m20.0 MB/s\u001b[0m eta \u001b[36m0:00:00\u001b[0m\n",
            "\u001b[2K     \u001b[90m━━━━━━━━━━━━━━━━━━━━━━━━━━━━━━━━━━━━━━━━\u001b[0m \u001b[32m7.8/7.8 MB\u001b[0m \u001b[31m88.1 MB/s\u001b[0m eta \u001b[36m0:00:00\u001b[0m\n",
            "\u001b[2K     \u001b[90m━━━━━━━━━━━━━━━━━━━━━━━━━━━━━━━━━━━━━━━━\u001b[0m \u001b[32m1.3/1.3 MB\u001b[0m \u001b[31m57.1 MB/s\u001b[0m eta \u001b[36m0:00:00\u001b[0m\n",
            "\u001b[?25h"
          ]
        }
      ]
    },
    {
      "cell_type": "markdown",
      "source": [
        "All imports: (You may add/change)"
      ],
      "metadata": {
        "id": "YR_sOQNA1E-0"
      }
    },
    {
      "cell_type": "code",
      "metadata": {
        "id": "3enPCGBF8FlX"
      },
      "source": [
        "# general\n",
        "import os\n",
        "import random\n",
        "import warnings\n",
        "from typing import List,Tuple\n",
        "import math\n",
        "\n",
        "# ML\n",
        "from numba import cuda\n",
        "import numpy as np\n",
        "import scipy as sp\n",
        "import pandas as pd\n",
        "from sklearn.model_selection import train_test_split\n",
        "from sklearn.metrics import classification_report\n",
        "from sklearn.metrics import precision_recall_fscore_support, confusion_matrix\n",
        "\n",
        "\n",
        "# visual\n",
        "import matplotlib\n",
        "import seaborn as sns\n",
        "from tqdm import tqdm\n",
        "from tabulate import tabulate\n",
        "import matplotlib.pyplot as plt\n",
        "from IPython.display import display\n",
        "\n",
        "# DL\n",
        "import torch\n",
        "import torch.nn as nn\n",
        "from torch.optim import Adam\n",
        "from torch.utils.data import DataLoader, Dataset\n",
        "\n",
        "# HF\n",
        "from transformers import BertTokenizer\n",
        "from transformers import BertForSequenceClassification\n",
        "from transformers import AutoTokenizer, AutoModel, AutoConfig"
      ],
      "execution_count": null,
      "outputs": []
    },
    {
      "cell_type": "markdown",
      "source": [
        "Set warnings filter to ignore:"
      ],
      "metadata": {
        "id": "7lQ3F0D_1Wxl"
      }
    },
    {
      "cell_type": "code",
      "source": [
        "warnings.filterwarnings('ignore')"
      ],
      "metadata": {
        "id": "frCsAYXS1W3W"
      },
      "execution_count": null,
      "outputs": []
    },
    {
      "cell_type": "markdown",
      "source": [
        "Set random SEEDs:"
      ],
      "metadata": {
        "id": "CMElbcyg1YKf"
      }
    },
    {
      "cell_type": "code",
      "source": [
        "SEED = 42\n",
        "\n",
        "# Set the random seed for Python to SEED\n",
        "random.seed(SEED)\n",
        "\n",
        "# Set the random seed for numpy to SEED\n",
        "np.random.seed(SEED)\n",
        "\n",
        "# Set the random seed for torch to SEED\n",
        "torch.manual_seed(SEED)"
      ],
      "metadata": {
        "id": "fd-Mn2O41YQr",
        "colab": {
          "base_uri": "https://localhost:8080/"
        },
        "outputId": "9e5b1f5b-7ec7-498b-cd9b-26ff432367b7"
      },
      "execution_count": null,
      "outputs": [
        {
          "output_type": "execute_result",
          "data": {
            "text/plain": [
              "<torch._C.Generator at 0x7fc32c399b90>"
            ]
          },
          "metadata": {},
          "execution_count": 4
        }
      ]
    },
    {
      "cell_type": "markdown",
      "source": [
        "Set GPU:"
      ],
      "metadata": {
        "id": "hoUVcv0w1hBc"
      }
    },
    {
      "cell_type": "code",
      "source": [
        "DEVICE = 'cuda' if torch.cuda.is_available() else 'cpu'\n",
        "assert DEVICE == 'cuda'"
      ],
      "metadata": {
        "id": "48JDaa1s1hrQ"
      },
      "execution_count": null,
      "outputs": []
    },
    {
      "cell_type": "markdown",
      "source": [
        "## Dataset"
      ],
      "metadata": {
        "id": "7bTVSoVT1qF2"
      }
    },
    {
      "cell_type": "markdown",
      "metadata": {
        "id": "V5QSIEoyDdWh"
      },
      "source": [
        "\n",
        "The dataset that you will be working on is called SemEval Task 8 dataset (https://arxiv.org/pdf/1911.10422v1.pdf).\n",
        "The dataset contain only train and test split, but you are allowed to split the train dataset into dev if needed.\n",
        "\n",
        "\n",
        "The two files (train and test) are available from the course git repository (https://github.com/kfirbar/nlp-course)\n",
        "\n",
        "> Train file: `nlp-course/TRAIN_FILE.TXT`\n",
        "> Test file: `nlp-course/TEST_FILE_FULL.TXT`\n"
      ]
    },
    {
      "cell_type": "code",
      "source": [
        "!git clone https://github.com/kfirbar/nlp-course"
      ],
      "metadata": {
        "id": "Y9cMV8Bw4lJK",
        "colab": {
          "base_uri": "https://localhost:8080/"
        },
        "outputId": "16c0218c-4b8f-4260-cfbc-445fa9872dd2"
      },
      "execution_count": null,
      "outputs": [
        {
          "output_type": "stream",
          "name": "stdout",
          "text": [
            "Cloning into 'nlp-course'...\n",
            "remote: Enumerating objects: 71, done.\u001b[K\n",
            "remote: Counting objects: 100% (71/71), done.\u001b[K\n",
            "remote: Compressing objects: 100% (57/57), done.\u001b[K\n",
            "remote: Total 71 (delta 29), reused 40 (delta 11), pack-reused 0\u001b[K\n",
            "Unpacking objects: 100% (71/71), 11.28 MiB | 3.11 MiB/s, done.\n"
          ]
        }
      ]
    },
    {
      "cell_type": "markdown",
      "source": [
        "## Task #1"
      ],
      "metadata": {
        "id": "dD_LZka13sUj"
      }
    },
    {
      "cell_type": "markdown",
      "metadata": {
        "id": "5ul2Y3vuPoV8"
      },
      "source": [
        "Write a funtion `read_data` for reading the data from a single file (either train or test).\n",
        "\n",
        "<br>\n",
        "\n",
        "This function recieves a filepath and returns a list of sentences; Every sentence is encoded as a tuple.\n",
        "\n",
        "The first element is the sentence string.\n",
        "The second element is the label (also represented as a sting)."
      ]
    },
    {
      "cell_type": "code",
      "source": [
        "def read_data(filepath:str) -> List[Tuple[str,str]]:\n",
        "    data = []\n",
        "    with open(filepath, 'r') as f:\n",
        "      lines = f.readlines()\n",
        "\n",
        "    for record in split(lines, '\\n'): # record is a list of a single sentence\n",
        "      if len(record) == 0:\n",
        "        continue\n",
        "\n",
        "      sentence = record[0].split('\\t')[1].strip('\\r\\n')\n",
        "      label = record[1].strip('\\r\\n')\n",
        "\n",
        "      data.append((sentence, label))\n",
        "\n",
        "    return data\n",
        "\n",
        "\n",
        "def split(sequence, sep):\n",
        "    '''\n",
        "    Generator function that gets a list and yields sub-lists by a given seperator.\n",
        "    For example:\n",
        "    [a, SEP, b, c, SEP, SEP, d] -> [[a], [b, c], [], [d]]\n",
        "    '''\n",
        "    chunk = []\n",
        "    for val in sequence:\n",
        "        if val == sep:\n",
        "            yield chunk\n",
        "            chunk = []\n",
        "        else:\n",
        "            chunk.append(val)\n",
        "    yield chunk\n",
        "\n",
        "train = read_data('nlp-course/TRAIN_FILE.TXT')\n",
        "test = read_data('nlp-course/TEST_FILE_FULL.TXT')\n",
        "\n",
        "print('Number of train sentences:', len(train))\n",
        "print('Number of test sentences:', len(test))"
      ],
      "metadata": {
        "id": "0vGqCeJ5D_pt",
        "colab": {
          "base_uri": "https://localhost:8080/"
        },
        "outputId": "50137d2e-0849-41e7-b075-3e4c1414782e"
      },
      "execution_count": null,
      "outputs": [
        {
          "output_type": "stream",
          "name": "stdout",
          "text": [
            "Number of train sentences: 8000\n",
            "Number of test sentences: 2717\n"
          ]
        }
      ]
    },
    {
      "cell_type": "markdown",
      "metadata": {
        "id": "IuGwk6OwRWGS"
      },
      "source": [
        "`Pytorch` require the labels to be integers.\n",
        "\n",
        "Create a mapper (dictionary) from the string labels to integers (starting zero).\n",
        "And a dictionary from label to integer."
      ]
    },
    {
      "cell_type": "code",
      "metadata": {
        "id": "6rKIB5o_vQO8",
        "colab": {
          "base_uri": "https://localhost:8080/"
        },
        "outputId": "f65d58da-9cb4-492e-8897-8c9236a6ec26"
      },
      "source": [
        "def strip_label(label):\n",
        "  return label.replace('(e1,e2)', '').replace('(e2,e1)', '')\n",
        "\n",
        "def create_label_mapper(data, strip_labels=False):\n",
        "  running_index = 0\n",
        "  label2id = {}\n",
        "  id2label = {}\n",
        "\n",
        "  for _, label in data:\n",
        "    stripped_label = strip_label(label) if strip_labels else label\n",
        "\n",
        "    if stripped_label not in label2id:\n",
        "      label2id[stripped_label] = running_index\n",
        "      id2label[running_index] = stripped_label\n",
        "      running_index += 1\n",
        "\n",
        "  return id2label, label2id\n",
        "\n",
        "\n",
        "id2label, label2id = create_label_mapper(train, True)\n",
        "\n",
        "assert len(id2label) == len(label2id)\n",
        "print('id2label: \\n',id2label)"
      ],
      "execution_count": null,
      "outputs": [
        {
          "output_type": "stream",
          "name": "stdout",
          "text": [
            "id2label: \n",
            " {0: 'Component-Whole', 1: 'Other', 2: 'Instrument-Agency', 3: 'Member-Collection', 4: 'Cause-Effect', 5: 'Entity-Destination', 6: 'Content-Container', 7: 'Message-Topic', 8: 'Product-Producer', 9: 'Entity-Origin'}\n"
          ]
        }
      ]
    },
    {
      "cell_type": "markdown",
      "source": [
        "<br>\n",
        "\n",
        "Plot the distribution of labels in each dataset.\n",
        "Display the information in a single plot.\n",
        "\n",
        "For example:"
      ],
      "metadata": {
        "id": "59kNYDqZGCle"
      }
    },
    {
      "cell_type": "markdown",
      "source": [
        "![image.png](data:image/png;base64,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)"
      ],
      "metadata": {
        "id": "8pyXBa4zGA5p"
      }
    },
    {
      "cell_type": "markdown",
      "source": [
        "- Use bar plot.\n",
        "- Use figuresize of (16,6).\n",
        "- Add titles and Axis names.\n",
        "- Y-axis will hold the count for each label.\n",
        "- X-axis will hold the name of each label."
      ],
      "metadata": {
        "id": "HkwUDCD6GG1H"
      }
    },
    {
      "cell_type": "code",
      "source": [
        "train_df = pd.DataFrame(train, columns =['sentence', 'label'])\n",
        "train_df['dataset'] = 'train'\n",
        "\n",
        "test_df = pd.DataFrame(test, columns =['sentence', 'label'])\n",
        "test_df['dataset'] = 'test'\n",
        "\n",
        "unified_df = pd.concat([train_df, test_df])\n",
        "unified_df['label'] = unified_df['label'].apply(strip_label)\n",
        "unified_df = unified_df.groupby(['label', 'dataset']).size().reset_index(name='count')\n",
        "\n",
        "plt.figure(figsize=(16,6))\n",
        "sns.set_style('darkgrid')\n",
        "sns.barplot(x='label', y='count', hue='dataset', data=unified_df, palette='Blues', edgecolor='w')\n",
        "\n",
        "plt.title('Label counts in the Datasets')\n",
        "plt.xticks(ha=\"right\", rotation=45)\n",
        "plt.show()"
      ],
      "metadata": {
        "id": "WobUj_XzE4pT",
        "colab": {
          "base_uri": "https://localhost:8080/",
          "height": 429
        },
        "outputId": "3b86a70d-de96-4dbf-f84a-41fcba0af70e"
      },
      "execution_count": null,
      "outputs": [
        {
          "output_type": "display_data",
          "data": {
            "text/plain": [
              "<Figure size 1600x600 with 1 Axes>"
            ],
            "image/png": "[encoded data removed]"
          },
          "metadata": {}
        }
      ]
    },
    {
      "cell_type": "markdown",
      "source": [
        "<br>"
      ],
      "metadata": {
        "id": "-jHd9mcZD8kA"
      }
    },
    {
      "cell_type": "markdown",
      "source": [
        "<br><br><br><br>"
      ],
      "metadata": {
        "id": "c8mYpc1g5wEA"
      }
    },
    {
      "cell_type": "markdown",
      "source": [
        "\n",
        "## Task #2"
      ],
      "metadata": {
        "id": "WlZQQROM5t9u"
      }
    },
    {
      "cell_type": "markdown",
      "source": [
        "Download the relevant BERT tokenizer.\n",
        "Use `bert-base-uncased` .\n"
      ],
      "metadata": {
        "id": "QgMFoTGt6Ayy"
      }
    },
    {
      "cell_type": "code",
      "source": [
        "# TO DO\n",
        "tokenizer = BertTokenizer.from_pretrained('bert-base-uncased', do_lower_case=True, timeout=3600.0)"
      ],
      "metadata": {
        "id": "Jjsad81E6Bay",
        "colab": {
          "base_uri": "https://localhost:8080/",
          "height": 113,
          "referenced_widgets": [
            "b49b67b8faa1479593032a3a3ff38b3d",
            "89abbde5da884efdafd84f95b1a48726",
            "b1e3f62f883244d38f5250725265f677",
            "707fc46f596f481187927110d4d87932",
            "b1d9d767e0db490e89d564f7e609996d",
            "135a791454ea47d39e5a3d34a9fd9b09",
            "585b6bea7bd5411faba8c9575eb050e0",
            "0d55b4b60037424096b7ab8775423d2c",
            "536bc04222ab4256bc70d392c8c18bdd",
            "96e565194466444699640d48a4a519b7",
            "45c4ca02fadf490e928bc32a5d7ae3f1",
            "a18f2ddf675d4b219860e871da7924d4",
            "dc9a2fb775214764bf3fec7260e1c0a6",
            "3776f8487b2c43f987f54b3b3f22a5e0",
            "e8dedb33420b431cb936c23adadbb5d2",
            "8f2785bcfd914ff3952c44742fce2723",
            "53af04bccd5a4900864ce259e5056b63",
            "955f4e87edd54aee978c2f53812ba3f7",
            "686deb950d474e6cafcf3a5448af6044",
            "0ab1d6e4610f4109b63cbc216f436c63",
            "cba08a72d2d7464ca8d30259744a7d61",
            "1b9bcfabed8f47eaa35c951c35fc43e5",
            "285b620246514b718f254cb3eb2daf52",
            "9b3b4af3f42b4aba9e15f0b95f2da2c6",
            "86bb1ba7e8fc40b6933e6f1afd22b6be",
            "a97dd9deeb2342c29724575c13f0dac7",
            "18ab47f50e6e4d1a94b9dfa65f647536",
            "5ac3666a784f4c47b86c0d1a870a9253",
            "a8e7ec1dd7f44fa9b08bf567d350cdd7",
            "8b3f5aa7f4a34a0695e99d0af06c5a36",
            "b407ab3378554c9a81e083ac0bb51075",
            "4fdcb10245894f14852315b289f7a941",
            "0949d22773a2441bb890b900fd97a711"
          ]
        },
        "outputId": "e02d92d7-222e-4d08-b0eb-273c0e74c8d4"
      },
      "execution_count": null,
      "outputs": [
        {
          "output_type": "display_data",
          "data": {
            "text/plain": [
              "Downloading (…)solve/main/vocab.txt:   0%|          | 0.00/232k [00:00<?, ?B/s]"
            ],
            "application/vnd.jupyter.widget-view+json": {
              "version_major": 2,
              "version_minor": 0,
              "model_id": "b49b67b8faa1479593032a3a3ff38b3d"
            }
          },
          "metadata": {}
        },
        {
          "output_type": "display_data",
          "data": {
            "text/plain": [
              "Downloading (…)okenizer_config.json:   0%|          | 0.00/28.0 [00:00<?, ?B/s]"
            ],
            "application/vnd.jupyter.widget-view+json": {
              "version_major": 2,
              "version_minor": 0,
              "model_id": "a18f2ddf675d4b219860e871da7924d4"
            }
          },
          "metadata": {}
        },
        {
          "output_type": "display_data",
          "data": {
            "text/plain": [
              "Downloading (…)lve/main/config.json:   0%|          | 0.00/570 [00:00<?, ?B/s]"
            ],
            "application/vnd.jupyter.widget-view+json": {
              "version_major": 2,
              "version_minor": 0,
              "model_id": "285b620246514b718f254cb3eb2daf52"
            }
          },
          "metadata": {}
        }
      ]
    },
    {
      "cell_type": "markdown",
      "metadata": {
        "id": "iDKYryfKfNdh"
      },
      "source": [
        "Write a function `prepare_data` that takes one of the `train & test` datasets and convert each pair of `(words,labels)` to a pair of indexes.\n",
        "\n",
        "The function also aggregate the samples into batches.\n",
        "\n",
        "BERT Uses pretrained tokanization and embedding.\n",
        "you can access the tokanization and indexing using the `BertTokenizer` class.\n",
        "\n",
        "Note: you may use `torch.utils.data.Dataset`"
      ]
    },
    {
      "cell_type": "code",
      "metadata": {
        "id": "noIY3zWKvhBd"
      },
      "source": [
        "class BertDataset(Dataset):\n",
        "    def __init__(self, sequences):\n",
        "        self.sequences = sequences\n",
        "\n",
        "    def __len__(self):\n",
        "        return len(self.sequences)\n",
        "\n",
        "    def __getitem__(self, idx):\n",
        "        data, mask, label = self.sequences[idx]\n",
        "        return data, mask, torch.tensor([label2id[strip_label(label)]])\n",
        "\n",
        "\n",
        "def prepare_data(data, tokenizer, batch_size=32):\n",
        "    data_sequences = [(tokenizer(sentence, max_length = 256, padding='max_length', return_tensors=\"pt\"), label) \\\n",
        "                      for sentence, label in data]\n",
        "    data_sequences = [(tokenized['input_ids'], tokenized['attention_mask'], label) \\\n",
        "                      for tokenized, label in data_sequences]\n",
        "\n",
        "    return DataLoader(BertDataset(data_sequences), batch_size=batch_size)\n",
        "\n",
        "\n",
        "train, val = train_test_split(train, test_size=0.1, random_state=42)\n",
        "train_sequences = prepare_data(train, tokenizer)\n",
        "val_sequences = prepare_data(val, tokenizer)\n",
        "test_sequences = prepare_data(test, tokenizer)"
      ],
      "execution_count": null,
      "outputs": []
    },
    {
      "cell_type": "markdown",
      "source": [
        "<br><br><br><br>"
      ],
      "metadata": {
        "id": "aRBWeOSv7K37"
      }
    },
    {
      "cell_type": "markdown",
      "source": [
        "## Task #3\n",
        "\n",
        "In this part we classify the sentences using the `BertForSequenceClassification` model.\n"
      ],
      "metadata": {
        "id": "CYfNUlUA7MYT"
      }
    },
    {
      "cell_type": "markdown",
      "source": [
        "Download the relevant BERT model. Use `bert-base-uncased` ."
      ],
      "metadata": {
        "id": "43UtRAhI7fmY"
      }
    },
    {
      "cell_type": "code",
      "source": [
        "model = BertForSequenceClassification.from_pretrained('bert-base-uncased', num_labels=10)"
      ],
      "metadata": {
        "id": "wqzKxcad7f8I",
        "colab": {
          "base_uri": "https://localhost:8080/",
          "height": 158,
          "referenced_widgets": [
            "34b4f37d70854c5cb291934c42d0c50f",
            "907bee5b32ab4870b60d5c3fb590f62a",
            "0344345b879d4e88b4d6763dd5015dc6",
            "c2d4fbf80575451287a62aaebc7ecbf6",
            "c3a9fb941c1846ea85d24a19cbfe47b6",
            "c1a0e2ac4a794a06a9d6c1d2feac5823",
            "5430948540d64bb09f62927422a722c6",
            "8f728340c28842e1b9f0488b26b3ca56",
            "8f0be672ab6448439e09542405b8c74d",
            "f42ec9f611dd466b94a43b579e796a1b",
            "4810c2b179e1433881820e106bf186dc"
          ]
        },
        "outputId": "0790c231-7456-4f32-832c-a6e051227df0"
      },
      "execution_count": null,
      "outputs": [
        {
          "output_type": "display_data",
          "data": {
            "text/plain": [
              "Downloading model.safetensors:   0%|          | 0.00/440M [00:00<?, ?B/s]"
            ],
            "application/vnd.jupyter.widget-view+json": {
              "version_major": 2,
              "version_minor": 0,
              "model_id": "34b4f37d70854c5cb291934c42d0c50f"
            }
          },
          "metadata": {}
        },
        {
          "output_type": "stream",
          "name": "stderr",
          "text": [
            "Some weights of the model checkpoint at bert-base-uncased were not used when initializing BertForSequenceClassification: ['cls.predictions.transform.LayerNorm.bias', 'cls.seq_relationship.weight', 'cls.predictions.bias', 'cls.predictions.transform.dense.weight', 'cls.seq_relationship.bias', 'cls.predictions.transform.LayerNorm.weight', 'cls.predictions.transform.dense.bias']\n",
            "- This IS expected if you are initializing BertForSequenceClassification from the checkpoint of a model trained on another task or with another architecture (e.g. initializing a BertForSequenceClassification model from a BertForPreTraining model).\n",
            "- This IS NOT expected if you are initializing BertForSequenceClassification from the checkpoint of a model that you expect to be exactly identical (initializing a BertForSequenceClassification model from a BertForSequenceClassification model).\n",
            "Some weights of BertForSequenceClassification were not initialized from the model checkpoint at bert-base-uncased and are newly initialized: ['classifier.bias', 'classifier.weight']\n",
            "You should probably TRAIN this model on a down-stream task to be able to use it for predictions and inference.\n"
          ]
        }
      ]
    },
    {
      "cell_type": "markdown",
      "metadata": {
        "id": "l3n4cCb8wpXE"
      },
      "source": [
        "\n",
        "Write a function `get_parameters` that gets the model as an input and return the top(final) layer of the model for a `torch` optimizer.\n",
        "\n",
        "Note: take a look at these links [link1](https://jimmy-shen.medium.com/pytorch-freeze-part-of-the-layers-4554105e03a6#:~:text=%3E%3E%3E-,for%20name%2C%20para%20in%20net.named_parameters()%3A,-...%20%20%20%20%20para.requires_grad%20%3D%20False) [link2](https://pytorch.org/docs/stable/generated/torch.Tensor.requires_grad_.html) .\n"
      ]
    },
    {
      "cell_type": "code",
      "source": [
        "def get_parameters(params):\n",
        "    top_layer_parameters = []\n",
        "\n",
        "    for name, param in params:\n",
        "      if \"classifier\" in name or \"pooler\" in name or \"layer.11\" in name:\n",
        "        top_layer_parameters.append(param)\n",
        "        param.requires_grad = True\n",
        "      else:\n",
        "        param.requires_grad = False\n",
        "\n",
        "    return top_layer_parameters\n",
        "\n",
        "all_model_params = model.named_parameters()\n",
        "top_layer_params = get_parameters(all_model_params)"
      ],
      "metadata": {
        "id": "DhqjurV_9XYF"
      },
      "execution_count": null,
      "outputs": []
    },
    {
      "cell_type": "markdown",
      "source": [
        "Define the optimizer:\n",
        "\n",
        "- Use the `ADAM` optimizer (from `torch.optim`), which is a fancy version of SGD.\n",
        "- Use a learning rate of 0.0001.\n",
        "- Send only the top/final layer of the model to the optimizer (use `top_layer_params`).\n"
      ],
      "metadata": {
        "id": "oLe8x5tp9bWf"
      }
    },
    {
      "cell_type": "code",
      "metadata": {
        "id": "efvj5qvPxNJE"
      },
      "source": [
        "optimizer = Adam(top_layer_params, lr=0.0001)"
      ],
      "execution_count": null,
      "outputs": []
    },
    {
      "cell_type": "markdown",
      "source": [
        "## Task #4"
      ],
      "metadata": {
        "id": "CTHQBbM29tDQ"
      }
    },
    {
      "cell_type": "markdown",
      "metadata": {
        "id": "dEGSQdeUkTP8"
      },
      "source": [
        "Let's create the trainig function!\n",
        "\n",
        "\n",
        "1. Write a training function, which takes a the model `BertForSequenceClassification` and number of epochs to train on.\n",
        "\n",
        "2. Set `criterion` to the `CrossEntropyLoss` (from `torch.nn`) and use the `ADAM` optimizer.\n",
        "\n",
        "3. Use a simple `for` loop to iterate over the epochs.\n",
        "Use [tqdm](https://github.com/tqdm/tqdm) to mark your iteration and progress.\n",
        "\n",
        "Notes:\n",
        "- You may to split the `train` to `train&dev` sets.\n",
        "- You may change the input/output of the training function.\n"
      ]
    },
    {
      "cell_type": "code",
      "metadata": {
        "id": "avkHfjT3k0HM"
      },
      "source": [
        "def training(model, n_epochs, train_data, dev_data=None, optimizer=None, criterion=None):\n",
        "\n",
        "  if criterion is None:\n",
        "    criterion = nn.CrossEntropyLoss()\n",
        "\n",
        "  if optimizer is None:\n",
        "    optimizer = Adam(model.parameters(), lr=0.0001)\n",
        "\n",
        "  model.to(DEVICE)\n",
        "\n",
        "  for epoch in tqdm(range(n_epochs)):\n",
        "      train_loss = 0.0\n",
        "      model.train()\n",
        "      for data, mask, labels in train_data:\n",
        "          data, mask, labels = data.squeeze(1).to(DEVICE), mask.squeeze(1).to(DEVICE), labels.squeeze(1).to(DEVICE)\n",
        "          model.zero_grad()\n",
        "          target = model(data, mask)['logits']\n",
        "          loss = criterion(target, labels)\n",
        "          loss.backward()\n",
        "          optimizer.step()\n",
        "          train_loss += loss.item()\n",
        "\n",
        "  return model"
      ],
      "execution_count": null,
      "outputs": []
    },
    {
      "cell_type": "markdown",
      "source": [
        "## Task #5"
      ],
      "metadata": {
        "id": "RYyHCP8c_3fB"
      }
    },
    {
      "cell_type": "markdown",
      "metadata": {
        "id": "baN1c_B7lTjb"
      },
      "source": [
        "Write an evaluation loop on a trained model, using the test dataset.\n",
        "\n",
        "Instructions:\n",
        "> Input: model, data\n",
        "> Output: Report, Confusion matrix\n",
        "\n",
        "> 1. Display: Report, Confusion matrix\n",
        "> 2. Save: a csv report\n",
        "\n",
        "\n",
        "Explanation:\n",
        "This function will perform an evaluation over a model with a dataset.\n",
        "Calculate the `PERCISION, RECALL, F1` scores of each label seperately, and display them in a table.\n",
        "\n",
        "Display a confusion matrix plot: where the predicted labels are the rows, and the true labels are the columns.\n"
      ]
    },
    {
      "cell_type": "markdown",
      "source": [
        "In addition, load thwe report to a dataframe and save to a CSV with this name:\n",
        "\n",
        "> `{student_id_1}_{student_id_n}_part5.csv`\n",
        "For example: `300123123_200456789_part_5.csv`\n",
        "\n"
      ],
      "metadata": {
        "id": "YbdKi16A8nzh"
      }
    },
    {
      "cell_type": "code",
      "metadata": {
        "id": "iyQAjGaqmd8U"
      },
      "source": [
        "cols   = ['PERCISION','RECALL','F1','SUPPORT']\n",
        "labels = ['Other', 'Cause-Effect', 'Component-Whole', 'Content-Container', 'Entity-Destination', 'Entity-Origin', 'Instrument-Agency', 'Member-Collection', 'Message-Topic', 'Product-Producer']\n",
        "\n",
        "\n",
        "def evaluate(model, test_data, label2id=label2id, id2label=id2label):\n",
        "  model.eval()\n",
        "  predict_label_l ,true_label_l = torch.tensor([]).to(DEVICE), torch.tensor([]).to(DEVICE)\n",
        "\n",
        "  for data, mask, labels in test_data:\n",
        "    data, mask, labels = data.squeeze(1).to(DEVICE), mask.squeeze(1).to(DEVICE), labels.squeeze(1).to(DEVICE)\n",
        "    model.zero_grad()\n",
        "    with torch.no_grad():\n",
        "      logits = model(data, mask)['logits']\n",
        "      predict_label_l = torch.cat((predict_label_l, torch.argmax(logits, axis=1)))\n",
        "      true_label_l = torch.cat((true_label_l, labels))\n",
        "\n",
        "  true_label_l = true_label_l.cpu().numpy()\n",
        "  predict_label_l = predict_label_l.cpu().numpy()\n",
        "\n",
        "  cm = confusion_matrix(true_label_l, predict_label_l)\n",
        "\n",
        "  fig, ax = plt.subplots(1,1,figsize=(8,6))\n",
        "  sns.heatmap(cm, annot=True, fmt='d', cmap='Blues',\n",
        "        xticklabels=label2id, yticklabels=label2id)\n",
        "  plt.ylabel('Actual Category')\n",
        "  plt.xlabel('Predicted Category')\n",
        "\n",
        "  plt.title('Confusion matrix')\n",
        "\n",
        "  plt.show()\n",
        "\n",
        "\n",
        "  report = classification_report(true_label_l, predict_label_l, output_dict=True)\n",
        "  df = pd.DataFrame(report).transpose()\n",
        "\n",
        "  for k, v in id2label.items():\n",
        "    df.rename(index={str(float(k)): v},inplace=True)\n",
        "  print(tabulate(df, headers='keys', tablefmt='psql',floatfmt=\".4f\"))\n",
        "\n",
        "  return df"
      ],
      "execution_count": null,
      "outputs": []
    },
    {
      "cell_type": "code",
      "source": [
        "model = training(model, 40, train_data=train_sequences, optimizer=optimizer)"
      ],
      "metadata": {
        "id": "m3FU1tq2n3Zi",
        "colab": {
          "base_uri": "https://localhost:8080/"
        },
        "outputId": "6a7402cf-43b5-47f6-8914-ee5ed880119a"
      },
      "execution_count": null,
      "outputs": [
        {
          "output_type": "stream",
          "name": "stderr",
          "text": [
            "100%|██████████| 40/40 [1:25:27<00:00, 128.20s/it]\n"
          ]
        }
      ]
    },
    {
      "cell_type": "code",
      "source": [
        "df = evaluate(model.to(DEVICE), test_sequences)"
      ],
      "metadata": {
        "id": "pa3yqKG5zGdm",
        "colab": {
          "base_uri": "https://localhost:8080/",
          "height": 983
        },
        "outputId": "bd279229-2a21-4720-e00f-bb66700f2da3"
      },
      "execution_count": null,
      "outputs": [
        {
          "output_type": "display_data",
          "data": {
            "text/plain": [
              "<Figure size 800x600 with 2 Axes>"
            ],
            "image/png": "[encoded data removed]"
          },
          "metadata": {}
        },
        {
          "output_type": "stream",
          "name": "stdout",
          "text": [
            "+--------------------+-------------+----------+------------+-----------+\n",
            "|                    |   precision |   recall |   f1-score |   support |\n",
            "|--------------------+-------------+----------+------------+-----------|\n",
            "| Component-Whole    |      0.7601 |   0.8429 |     0.7994 |  312.0000 |\n",
            "| Other              |      0.5471 |   0.3965 |     0.4598 |  454.0000 |\n",
            "| Instrument-Agency  |      0.7584 |   0.7244 |     0.7410 |  156.0000 |\n",
            "| Member-Collection  |      0.8130 |   0.8026 |     0.8078 |  233.0000 |\n",
            "| Cause-Effect       |      0.8899 |   0.9116 |     0.9006 |  328.0000 |\n",
            "| Entity-Destination |      0.7747 |   0.9658 |     0.8598 |  292.0000 |\n",
            "| Content-Container  |      0.8010 |   0.8385 |     0.8193 |  192.0000 |\n",
            "| Message-Topic      |      0.8000 |   0.8123 |     0.8061 |  261.0000 |\n",
            "| Product-Producer   |      0.8009 |   0.7489 |     0.7740 |  231.0000 |\n",
            "| Entity-Origin      |      0.7722 |   0.8411 |     0.8052 |  258.0000 |\n",
            "| accuracy           |      0.7681 |   0.7681 |     0.7681 |    0.7681 |\n",
            "| macro avg          |      0.7717 |   0.7885 |     0.7773 | 2717.0000 |\n",
            "| weighted avg       |      0.7575 |   0.7681 |     0.7592 | 2717.0000 |\n",
            "+--------------------+-------------+----------+------------+-----------+\n"
          ]
        }
      ]
    },
    {
      "cell_type": "code",
      "source": [
        "df.to_csv('319122610_206446221_part5.csv')"
      ],
      "metadata": {
        "id": "N86ZMcvh-aaf"
      },
      "execution_count": null,
      "outputs": []
    },
    {
      "cell_type": "markdown",
      "source": [
        "## Task #6"
      ],
      "metadata": {
        "id": "mcIzLg_JAATM"
      }
    },
    {
      "cell_type": "markdown",
      "metadata": {
        "id": "jjkeUfncUl42"
      },
      "source": [
        "In this part we'll improve the model accuracy by using a method called \"entity markers - Entity start\".\n",
        "\n",
        "The main idea of this approch is to add special markers ([e1], [\\e1], ...) before and after each of the tagged entities. Instead of using the `CLS token` for clasification, we will use the concatination of the embedding of `[e1]` and `[e2]` as shown in the image below.\n",
        "\n",
        "The complete method is described in details in the paper [Matching the Blanks: Distributional Similarity for Relation Learning following](https://arxiv.org/pdf/1906.03158.pdf) (specifically in Section 3.2).\n",
        "\n",
        " To use this method we'll need to create a new data load and a new model."
      ]
    },
    {
      "cell_type": "markdown",
      "metadata": {
        "id": "TKhIbJuzc_EE"
      },
      "source": [
        "![Capture.PNG](data:image/png;base64,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)"
      ]
    },
    {
      "cell_type": "markdown",
      "metadata": {
        "id": "GTRk1T81VoXj"
      },
      "source": [
        "The new methods require the usage of special tokens.\n",
        "Fix the following code so it will add the required tokens:"
      ]
    },
    {
      "cell_type": "code",
      "metadata": {
        "id": "BU8jayVXYGsK"
      },
      "source": [
        "E1_START = '<e1>'\n",
        "E1_END   = '</e1>'\n",
        "E2_START = '<e2>'\n",
        "E2_END   = '</e2>'\n",
        "\n",
        "new_tokens = [E1_START, E1_END, E2_START, E2_END]\n",
        "mtb_tokenizer = BertTokenizer.from_pretrained('bert-base-uncased', timeout=3600.0, do_lower_case=True)\n",
        "mtb_tokenizer.add_tokens(new_tokens)\n",
        "MTB_id2label, MTB_label2id = create_label_mapper(train)"
      ],
      "execution_count": null,
      "outputs": []
    },
    {
      "cell_type": "markdown",
      "metadata": {
        "id": "G2UMaxjFYOB7"
      },
      "source": [
        "Create a new dataloader that add entity markers to the dataset and return their indexes as part of the new sample (the expected sample should be (s, l, i) where s is the sentence embedding, l is the label, and i is a touple with the indexes of the start entities)\n",
        "\n",
        "Note: you may change the classes, function, etc."
      ]
    },
    {
      "cell_type": "code",
      "source": [
        "class MTBRCDataset(Dataset):\n",
        "  def __init__(self, sequences):\n",
        "    self.sequences = sequences\n",
        "\n",
        "  def __len__(self):\n",
        "      return len(self.sequences)\n",
        "\n",
        "  def __getitem__(self, idx):\n",
        "      data, mask, label, markers = self.sequences[idx]\n",
        "      return data, mask, torch.tensor([MTB_label2id[label]]), markers\n"
      ],
      "metadata": {
        "id": "D5HJS1lttK8q"
      },
      "execution_count": null,
      "outputs": []
    },
    {
      "cell_type": "code",
      "metadata": {
        "id": "PMMMR1kSYnc3"
      },
      "source": [
        "def prepare_data_MTB(data, tokenizer, batch_size=32):\n",
        "  result = []\n",
        "  start = 0\n",
        "  number_of_batches = math.ceil(len(data) / batch_size)\n",
        "  e1, e2 = tokenizer.added_tokens_encoder['<e1>'], tokenizer.added_tokens_encoder['<e2>']\n",
        "\n",
        "  for batch in range(number_of_batches):\n",
        "    sentences, labels = [], []\n",
        "    end = min(len(data), start + batch_size)\n",
        "\n",
        "    for sentence, label in data[start:end]:\n",
        "      sentences.append(sentence)\n",
        "      labels.append(MTB_label2id[label])\n",
        "    tokenized = tokenizer(sentences, max_length = 256, padding='max_length', return_tensors=\"pt\", add_special_tokens=True)\n",
        "    ids, mask = tokenized['input_ids'], tokenized['attention_mask']\n",
        "    result.append(((ids, mask), labels, ((ids == e1).nonzero()[:,1], (ids == e2).nonzero()[:,1])))\n",
        "    start += batch_size\n",
        "  return result\n",
        "\n",
        "mtb_train_dl = prepare_data_MTB(train, mtb_tokenizer)\n",
        "mtb_test_dl = prepare_data_MTB(test, mtb_tokenizer)\n",
        "mtb_dev_dl = prepare_data_MTB(val, mtb_tokenizer)"
      ],
      "execution_count": null,
      "outputs": []
    },
    {
      "cell_type": "code",
      "source": [
        "# this is the dataloader length! the dataset length is the dl_length times batch size\n",
        "print(len(mtb_train_dl),len(mtb_dev_dl),len(mtb_test_dl))"
      ],
      "metadata": {
        "id": "nBspj_oXtqP5",
        "colab": {
          "base_uri": "https://localhost:8080/"
        },
        "outputId": "73a5f0d6-fff3-404d-b7c0-b4fb43002cb4"
      },
      "execution_count": null,
      "outputs": [
        {
          "output_type": "stream",
          "name": "stdout",
          "text": [
            "225 25 85\n"
          ]
        }
      ]
    },
    {
      "cell_type": "markdown",
      "metadata": {
        "id": "AztAwecuYyt3"
      },
      "source": [
        "Create a new model that uses the \"entity markers - Entity start\" method."
      ]
    },
    {
      "cell_type": "code",
      "metadata": {
        "id": "ADpFlxPFY5mD",
        "colab": {
          "base_uri": "https://localhost:8080/"
        },
        "outputId": "14707aa3-57f3-46e3-8479-2edb4db44f11"
      },
      "source": [
        "class MTB(nn.Module):\n",
        "  def __init__(self, base_model_name):\n",
        "    super(MTB, self).__init__()\n",
        "    config = AutoConfig.from_pretrained(base_model_name, num_labels=len(MTB_label2id))\n",
        "    config.num_labels = len(MTB_label2id)\n",
        "\n",
        "    self.bert = AutoModel.from_pretrained(base_model_name, config=config)\n",
        "    self.bert.resize_token_embeddings(len(mtb_tokenizer))\n",
        "    self.num_labels = config.num_labels\n",
        "    self.hidden_size = config.hidden_size\n",
        "    self.classifier = nn.Linear(self.hidden_size * 2, self.num_labels)\n",
        "\n",
        "  def forward(self, values, index):\n",
        "      (ids, mask) = values\n",
        "      e1, e2 = torch.tensor(index[0]).unsqueeze(-1), torch.tensor(index[1]).unsqueeze(-1)\n",
        "      hidden = self.bert(ids, attention_mask=mask, output_hidden_states=True).hidden_states[12].to(DEVICE)\n",
        "      e1_index, e2_index = (e1.repeat(1,self.hidden_size).to(DEVICE)).unsqueeze(1), (e2.repeat(1,self.hidden_size).to(DEVICE)).unsqueeze(1)\n",
        "      hidden_states = torch.cat((torch.squeeze(torch.gather(hidden, 1, e1_index), dim=1),  torch.squeeze(torch.gather(hidden, 1, e2_index),dim=1)), dim=1)\n",
        "      return self.classifier(hidden_states)\n",
        "\n",
        "mtb_model = MTB('bert-base-uncased')"
      ],
      "execution_count": null,
      "outputs": [
        {
          "output_type": "stream",
          "name": "stderr",
          "text": [
            "Some weights of the model checkpoint at bert-base-uncased were not used when initializing BertModel: ['cls.predictions.transform.LayerNorm.bias', 'cls.seq_relationship.weight', 'cls.predictions.bias', 'cls.predictions.transform.dense.weight', 'cls.seq_relationship.bias', 'cls.predictions.transform.LayerNorm.weight', 'cls.predictions.transform.dense.bias']\n",
            "- This IS expected if you are initializing BertModel from the checkpoint of a model trained on another task or with another architecture (e.g. initializing a BertForSequenceClassification model from a BertForPreTraining model).\n",
            "- This IS NOT expected if you are initializing BertModel from the checkpoint of a model that you expect to be exactly identical (initializing a BertForSequenceClassification model from a BertForSequenceClassification model).\n"
          ]
        }
      ]
    },
    {
      "cell_type": "markdown",
      "metadata": {
        "id": "CuwCczHeZjaw"
      },
      "source": [
        "Use the new dataloader and model to train the new model as in task 4.\n",
        "\n"
      ]
    },
    {
      "cell_type": "markdown",
      "source": [
        "**Evaluation**\n",
        "\n",
        "Use the new dataloader and model to evaluate the new model as in task 5.\n",
        "> 1. Display: Report, Confusion matrix\n",
        "> 2. Save: a csv report\n",
        "\n",
        "Use this format:\n",
        "> `{student_id_1}_{student_id_n}_part6.csv`\n",
        "> For example: `300123123_200456789_part_6.csv`\n"
      ],
      "metadata": {
        "id": "jrVnXhSk9YKT"
      }
    },
    {
      "cell_type": "code",
      "metadata": {
        "id": "k46XVrTHZxcu"
      },
      "source": [
        "def training_mtb(model, n_epochs, train_data, dev_data=None, optimizer=None, criterion=None):\n",
        "\n",
        "  if criterion is None:\n",
        "    criterion = nn.CrossEntropyLoss()\n",
        "\n",
        "  if optimizer is None:\n",
        "    optimizer = Adam(get_parameters(model.named_parameters()), lr=0.0001)\n",
        "\n",
        "  model.to(DEVICE)\n",
        "\n",
        "  for epoch in tqdm(range(n_epochs)):\n",
        "      train_loss = 0.0\n",
        "      model.train()\n",
        "      for (data, mask), labels, token_ids in train_data:\n",
        "          data, mask, labels = data.to(DEVICE), mask.to(DEVICE), torch.tensor(labels).to(DEVICE)\n",
        "          model.zero_grad()\n",
        "          target = model((data, mask), token_ids)\n",
        "          loss = criterion(target, labels)\n",
        "          loss.backward()\n",
        "          optimizer.step()\n",
        "          train_loss += loss.item()\n",
        "\n",
        "  return model\n",
        "\n",
        "\n",
        "def evaluate_mtb(model, test_data, label2id=label2id, id2label=id2label):\n",
        "  model.eval()\n",
        "  predict_label_l ,true_label_l = torch.tensor([]).to(DEVICE), torch.tensor([]).to(DEVICE)\n",
        "\n",
        "  for (data, mask), labels, token_ids in test_data:\n",
        "    data, mask, labels = data.to(DEVICE), mask.to(DEVICE), torch.tensor(labels).to(DEVICE)\n",
        "    model.zero_grad()\n",
        "    with torch.no_grad():\n",
        "      logits = torch.log_softmax(model((data, mask), token_ids), dim=1)\n",
        "      predict_label_l = torch.cat((predict_label_l, torch.argmax(logits, axis=1)))\n",
        "      true_label_l = torch.cat((true_label_l, labels))\n",
        "\n",
        "  true_label_l = true_label_l.cpu().numpy()\n",
        "  predict_label_l = predict_label_l.cpu().numpy()\n",
        "\n",
        "  cm = confusion_matrix(true_label_l, predict_label_l)\n",
        "\n",
        "  fig, ax = plt.subplots(1,1,figsize=(8,6))\n",
        "  sns.heatmap(cm, annot=True, fmt='d', cmap='Blues',\n",
        "        xticklabels=label2id, yticklabels=label2id)\n",
        "  plt.ylabel('Actual Category')\n",
        "  plt.xlabel('Predicted Category')\n",
        "\n",
        "  plt.title('Confusion matrix')\n",
        "\n",
        "  plt.show()\n",
        "\n",
        "\n",
        "  report = classification_report(true_label_l, predict_label_l, output_dict=True)\n",
        "  df = pd.DataFrame(report).transpose()\n",
        "\n",
        "  for k, v in id2label.items():\n",
        "    df.rename(index={str(float(k)): v},inplace=True)\n",
        "  print(tabulate(df, headers='keys', tablefmt='psql',floatfmt=\".4f\"))\n",
        "\n",
        "  return df\n",
        "\n"
      ],
      "execution_count": null,
      "outputs": []
    },
    {
      "cell_type": "code",
      "source": [
        "mtb_model = training_mtb(mtb_model, 40, mtb_train_dl, mtb_dev_dl)\n",
        "df_mtb = evaluate_mtb(mtb_model, mtb_test_dl, label2id=MTB_label2id, id2label=MTB_id2label)"
      ],
      "metadata": {
        "colab": {
          "base_uri": "https://localhost:8080/",
          "height": 1000
        },
        "id": "qazrq9ZxS43p",
        "outputId": "d321956e-36ab-447b-bc06-81f777499313"
      },
      "execution_count": null,
      "outputs": [
        {
          "output_type": "stream",
          "name": "stderr",
          "text": [
            "100%|██████████| 40/40 [1:25:17<00:00, 127.94s/it]\n"
          ]
        },
        {
          "output_type": "display_data",
          "data": {
            "text/plain": [
              "<Figure size 800x600 with 2 Axes>"
            ],
            "image/png": "[encoded data removed]"
          },
          "metadata": {}
        },
        {
          "output_type": "stream",
          "name": "stdout",
          "text": [
            "+---------------------------+-------------+----------+------------+-----------+\n",
            "|                           |   precision |   recall |   f1-score |   support |\n",
            "|---------------------------+-------------+----------+------------+-----------|\n",
            "| Other                     |      0.6595 |   0.4736 |     0.5513 |  454.0000 |\n",
            "| Component-Whole(e2,e1)    |      0.7632 |   0.7733 |     0.7682 |  150.0000 |\n",
            "| Cause-Effect(e1,e2)       |      0.9160 |   0.8955 |     0.9057 |  134.0000 |\n",
            "| Entity-Origin(e1,e2)      |      0.8056 |   0.8246 |     0.8150 |  211.0000 |\n",
            "| Member-Collection(e2,e1)  |      0.8341 |   0.9005 |     0.8660 |  201.0000 |\n",
            "| Message-Topic(e1,e2)      |      0.8272 |   0.9571 |     0.8874 |  210.0000 |\n",
            "| Instrument-Agency(e2,e1)  |      0.8374 |   0.7687 |     0.8016 |  134.0000 |\n",
            "| Component-Whole(e1,e2)    |      0.8035 |   0.8580 |     0.8299 |  162.0000 |\n",
            "| Content-Container(e2,e1)  |      0.7857 |   0.8462 |     0.8148 |   39.0000 |\n",
            "| Content-Container(e1,e2)  |      0.8487 |   0.8431 |     0.8459 |  153.0000 |\n",
            "| Cause-Effect(e2,e1)       |      0.8788 |   0.8969 |     0.8878 |  194.0000 |\n",
            "| Entity-Origin(e2,e1)      |      0.8444 |   0.8085 |     0.8261 |   47.0000 |\n",
            "| Product-Producer(e1,e2)   |      0.7623 |   0.8611 |     0.8087 |  108.0000 |\n",
            "| Entity-Destination(e1,e2) |      0.8545 |   0.9485 |     0.8990 |  291.0000 |\n",
            "| Product-Producer(e2,e1)   |      0.7260 |   0.8618 |     0.7881 |  123.0000 |\n",
            "| Message-Topic(e2,e1)      |      0.7833 |   0.9216 |     0.8468 |   51.0000 |\n",
            "| Member-Collection(e1,e2)  |      0.6786 |   0.5938 |     0.6333 |   32.0000 |\n",
            "| Instrument-Agency(e1,e2)  |      0.7000 |   0.6364 |     0.6667 |   22.0000 |\n",
            "| Entity-Destination(e2,e1) |      0.0000 |   0.0000 |     0.0000 |    1.0000 |\n",
            "| accuracy                  |      0.8016 |   0.8016 |     0.8016 |    0.8016 |\n",
            "| macro avg                 |      0.7531 |   0.7721 |     0.7601 | 2717.0000 |\n",
            "| weighted avg              |      0.7944 |   0.8016 |     0.7940 | 2717.0000 |\n",
            "+---------------------------+-------------+----------+------------+-----------+\n"
          ]
        }
      ]
    },
    {
      "cell_type": "code",
      "source": [
        "df_mtb.to_csv('319122610_206446221_part6.csv')"
      ],
      "metadata": {
        "id": "THcBsool-Tkg"
      },
      "execution_count": null,
      "outputs": []
    },
    {
      "cell_type": "markdown",
      "source": [
        "<br><br><br><br><br>"
      ],
      "metadata": {
        "id": "14ruZi9KvnmO"
      }
    },
    {
      "cell_type": "markdown",
      "source": [
        "## Task 7\n",
        "\n",
        "In  this final task we will classify similar sentences (1 - similar, 0 - not similar).\n",
        "We will use an `off the shelf model` and run inference.\n",
        "\n",
        "- Get the kaggle dataset and create a inference pipeline for the Sentence similarity. Use an off-the-shelf.\n",
        "\n",
        "Note: you may add change cells as you pleased.\n"
      ],
      "metadata": {
        "id": "MjLDyS9LqZe7"
      }
    },
    {
      "cell_type": "markdown",
      "source": [
        "Optional: Clear GPU space if needed"
      ],
      "metadata": {
        "id": "agUjL30_x6_h"
      }
    },
    {
      "cell_type": "code",
      "source": [
        "import gc\n",
        "\n",
        "gc.collect()\n",
        "\n",
        "device = cuda.get_current_device()\n",
        "device.reset()"
      ],
      "metadata": {
        "id": "BHjQ4FmFyAww"
      },
      "execution_count": null,
      "outputs": []
    },
    {
      "cell_type": "markdown",
      "source": [
        "Set all the relavant random seed to 111"
      ],
      "metadata": {
        "id": "_rw9QGCGxyfl"
      }
    },
    {
      "cell_type": "code",
      "source": [
        "SEED = 111\n",
        "\n",
        "# Set the random seed for Python to SEED\n",
        "random.seed(SEED)\n",
        "\n",
        "# Set the random seed for numpy to SEED\n",
        "np.random.seed(SEED)\n",
        "\n",
        "# Set the random seed for torch to SEED\n",
        "torch.manual_seed(SEED)"
      ],
      "metadata": {
        "id": "dEtOffLhxymL",
        "colab": {
          "base_uri": "https://localhost:8080/"
        },
        "outputId": "2db64ea9-5557-4ea4-b4aa-d1cb78b7b222"
      },
      "execution_count": null,
      "outputs": [
        {
          "output_type": "execute_result",
          "data": {
            "text/plain": [
              "<torch._C.Generator at 0x7fc32c399b90>"
            ]
          },
          "metadata": {},
          "execution_count": 29
        }
      ]
    },
    {
      "cell_type": "markdown",
      "source": [
        "Download the `train` dataset from [here](https://github.com/saharmilis/runi-nlp/tree/main/kaggle)."
      ],
      "metadata": {
        "id": "mesvVgBLwF54"
      }
    },
    {
      "cell_type": "code",
      "source": [
        "!git clone https://github.com/saharmilis/runi-nlp/"
      ],
      "metadata": {
        "id": "wzzXn4jwwGAj",
        "colab": {
          "base_uri": "https://localhost:8080/"
        },
        "outputId": "e45fddf4-16d7-4c7b-b598-6177bf621d7b"
      },
      "execution_count": null,
      "outputs": [
        {
          "output_type": "stream",
          "name": "stdout",
          "text": [
            "Cloning into 'runi-nlp'...\n",
            "remote: Enumerating objects: 23, done.\u001b[K\n",
            "remote: Counting objects:   4% (1/23)\u001b[K\rremote: Counting objects:   8% (2/23)\u001b[K\rremote: Counting objects:  13% (3/23)\u001b[K\rremote: Counting objects:  17% (4/23)\u001b[K\rremote: Counting objects:  21% (5/23)\u001b[K\rremote: Counting objects:  26% (6/23)\u001b[K\rremote: Counting objects:  30% (7/23)\u001b[K\rremote: Counting objects:  34% (8/23)\u001b[K\rremote: Counting objects:  39% (9/23)\u001b[K\rremote: Counting objects:  43% (10/23)\u001b[K\rremote: Counting objects:  47% (11/23)\u001b[K\rremote: Counting objects:  52% (12/23)\u001b[K\rremote: Counting objects:  56% (13/23)\u001b[K\rremote: Counting objects:  60% (14/23)\u001b[K\rremote: Counting objects:  65% (15/23)\u001b[K\rremote: Counting objects:  69% (16/23)\u001b[K\rremote: Counting objects:  73% (17/23)\u001b[K\rremote: Counting objects:  78% (18/23)\u001b[K\rremote: Counting objects:  82% (19/23)\u001b[K\rremote: Counting objects:  86% (20/23)\u001b[K\rremote: Counting objects:  91% (21/23)\u001b[K\rremote: Counting objects:  95% (22/23)\u001b[K\rremote: Counting objects: 100% (23/23)\u001b[K\rremote: Counting objects: 100% (23/23), done.\u001b[K\n",
            "remote: Compressing objects: 100% (18/18), done.\u001b[K\n",
            "remote: Total 23 (delta 2), reused 0 (delta 0), pack-reused 0\u001b[K\n",
            "Unpacking objects: 100% (23/23), 3.61 MiB | 3.20 MiB/s, done.\n"
          ]
        }
      ]
    },
    {
      "cell_type": "markdown",
      "source": [
        "Download the sentence similarty tokenizer & model `all-mpnet-base-v2`.\n",
        "Here the [link](https://huggingface.co/sentence-transformers/all-mpnet-base-v2) to the model.\n",
        "\n"
      ],
      "metadata": {
        "id": "Yrj_G9M-wiZz"
      }
    },
    {
      "cell_type": "code",
      "source": [
        "import torch.nn.functional as F\n",
        "\n",
        "def mean_pooling(model_output, attention_mask):\n",
        "    token_embeddings = model_output[0]\n",
        "    input_mask_expanded = attention_mask.unsqueeze(-1).expand(token_embeddings.size()).float()\n",
        "    return torch.sum(token_embeddings * input_mask_expanded, 1) / torch.clamp(input_mask_expanded.sum(1), min=1e-9)\n",
        "\n",
        "mpnet_tokenizer = AutoTokenizer.from_pretrained('sentence-transformers/all-mpnet-base-v2')\n",
        "mpnet_model = AutoModel.from_pretrained('sentence-transformers/all-mpnet-base-v2')\n",
        "cos = torch.nn.CosineSimilarity(dim=0)\n",
        "\n",
        "def get_similarity_score(s1, s2):\n",
        "  encoded_input = mpnet_tokenizer([s1, s2], padding=True, truncation=True, return_tensors='pt')\n",
        "\n",
        "  with torch.no_grad():\n",
        "      model_output = mpnet_model(**encoded_input)\n",
        "\n",
        "  # Perform pooling\n",
        "  sentence_embeddings = mean_pooling(model_output, encoded_input['attention_mask'])\n",
        "\n",
        "  return int(cos(sentence_embeddings[0], sentence_embeddings[1]).item() + 0.5)\n"
      ],
      "metadata": {
        "id": "G82x71HKwGit",
        "colab": {
          "base_uri": "https://localhost:8080/",
          "height": 209,
          "referenced_widgets": [
            "c27b1895ae2743829c612ada4f3b14de",
            "43f1258bb47945feba084337ac038efc",
            "3fc90ac74dcc4e5eb4a4e34947fcd01b",
            "5514a8a2edac41f2b6c4cb2b7e5dd4a2",
            "eea585d607274defa1a77ce7cbf5cfec",
            "5a23d9c5daae4b12a9f5975c9e0887ae",
            "275fdef6457d49df933a897f78a18c60",
            "c4eac8283d6c4cd39d6e989f5486be7d",
            "95fcadc8e7dd421a80b336a921da7cf4",
            "dfee98e98ec04f4aabb1d3a00e76d07b",
            "57534b7806f24cc0a6c9042ee62026a5",
            "35aa945f5a2e4ceab4bf59bdf66ea9c5",
            "6fe8d6dc2f61431b88fc31ecf4d70564",
            "e1d7aecdd5ca49a49f621415cd7c51c0",
            "afc212b5491e48039218532603d93889",
            "3190bc90dfbb4cf2a7fafde0442fbce8",
            "d5ba161594fa41ef8eff2cfe11e56895",
            "b285c07d383e4e2d9ebcb7628c884dc7",
            "fba208553a8e4327a0fdd9be0ad9e1e8",
            "6de3b2c769174c148d12ae826dd28142",
            "d38d983ab8bf41e0aad8a75c46ab0ccc",
            "6ec91f1887fa4cee9cf8edac92f3e0ef",
            "d0be5378f43c492da52d8cad8bd3b2ab",
            "e8e33e58e6d6495380ba06ecba95f150",
            "8d137c082b48423fb0bbb72f0f839705",
            "fa7bfe3aad3c4009aa1ab1d976818198",
            "628aca07c86144348b95eeb58102943d",
            "796506e2049e49d2a20745f90545d76e",
            "404dddd1116b44f4954535f0baaee676",
            "0bd0596ba0e144b69392fe082d84915c",
            "4754092b5fc14b6c90a8001780ebff77",
            "2495eee8f64b44b791cde8d83db090e3",
            "f52c36b31f4c4af1834128bf33fe827d",
            "d3cded00cfad49bca59ab2f96f944806",
            "c059070060044650bb1029297e8fd706",
            "a0bbafe23e774421b2f9797c9a35e392",
            "30997c1de19e4cb9968451b6e1576ff5",
            "0e666e854fe94141a0a4b84e2ef58e61",
            "0beeced6b88f459ebc213b0e49fb8697",
            "eed97862f5db4158a874e9e992ca0f88",
            "14d46e65eddd483ab78088e467bd961e",
            "c6176096a30640718451126c89581933",
            "0bb8608ce764417b9d20a339dfffa4ce",
            "2c0113805b6c4328aa303406985cada5",
            "f2d747e2f7de47368559547537360db8",
            "fb7d49631a774f81a765524a22751830",
            "faca100ad16e4a10bff375ad58b6ad49",
            "5c069a1083e64e8686067dbcdc2d10c9",
            "51968aac4e8443f0ac04761b32fc06d5",
            "34041fdfe2c245278daa3eac66c30205",
            "1db1b0487b0c49959bdeb882bb79071b",
            "c998c9871dcc4a08b8dfe9cf08b2bb84",
            "511c365646444195b7d9cd53a20e6660",
            "93a23256b09f4ff79d5c9448ee378aa1",
            "5edad1a06b864643ae75144e658ef242",
            "413bf98eea80480e984f190f8ada4c3b",
            "2c06f83a39f34a09867e35b4184e695a",
            "d3dd19d11e6c494186a334effbace8b7",
            "21a428fb8d3943c1996d3575d0a4d766",
            "60afb1f469544563882f1908c6400f02",
            "3577a55c9f404855ace0317621153e47",
            "21050efb8a28463a935b6dcf69768a34",
            "49c7e46a66a440ea88323a2c9f60b7b2",
            "5e8e7bd8a0c64bd18ff329c701b2a7aa",
            "d84a70c6c1bc4f58b1787a0df63d7dc6",
            "3d60443c20ab4cce978dfc376a0ea4c9"
          ]
        },
        "outputId": "31de45c0-cc5d-42d2-910f-de4915f1b26c"
      },
      "execution_count": null,
      "outputs": [
        {
          "output_type": "display_data",
          "data": {
            "text/plain": [
              "Downloading (…)okenizer_config.json:   0%|          | 0.00/363 [00:00<?, ?B/s]"
            ],
            "application/vnd.jupyter.widget-view+json": {
              "version_major": 2,
              "version_minor": 0,
              "model_id": "c27b1895ae2743829c612ada4f3b14de"
            }
          },
          "metadata": {}
        },
        {
          "output_type": "display_data",
          "data": {
            "text/plain": [
              "Downloading (…)solve/main/vocab.txt:   0%|          | 0.00/232k [00:00<?, ?B/s]"
            ],
            "application/vnd.jupyter.widget-view+json": {
              "version_major": 2,
              "version_minor": 0,
              "model_id": "35aa945f5a2e4ceab4bf59bdf66ea9c5"
            }
          },
          "metadata": {}
        },
        {
          "output_type": "display_data",
          "data": {
            "text/plain": [
              "Downloading (…)/main/tokenizer.json:   0%|          | 0.00/466k [00:00<?, ?B/s]"
            ],
            "application/vnd.jupyter.widget-view+json": {
              "version_major": 2,
              "version_minor": 0,
              "model_id": "d0be5378f43c492da52d8cad8bd3b2ab"
            }
          },
          "metadata": {}
        },
        {
          "output_type": "display_data",
          "data": {
            "text/plain": [
              "Downloading (…)cial_tokens_map.json:   0%|          | 0.00/239 [00:00<?, ?B/s]"
            ],
            "application/vnd.jupyter.widget-view+json": {
              "version_major": 2,
              "version_minor": 0,
              "model_id": "d3cded00cfad49bca59ab2f96f944806"
            }
          },
          "metadata": {}
        },
        {
          "output_type": "display_data",
          "data": {
            "text/plain": [
              "Downloading (…)lve/main/config.json:   0%|          | 0.00/571 [00:00<?, ?B/s]"
            ],
            "application/vnd.jupyter.widget-view+json": {
              "version_major": 2,
              "version_minor": 0,
              "model_id": "f2d747e2f7de47368559547537360db8"
            }
          },
          "metadata": {}
        },
        {
          "output_type": "display_data",
          "data": {
            "text/plain": [
              "Downloading pytorch_model.bin:   0%|          | 0.00/438M [00:00<?, ?B/s]"
            ],
            "application/vnd.jupyter.widget-view+json": {
              "version_major": 2,
              "version_minor": 0,
              "model_id": "413bf98eea80480e984f190f8ada4c3b"
            }
          },
          "metadata": {}
        }
      ]
    },
    {
      "cell_type": "markdown",
      "source": [
        "Run inference on the **first 5K lines** in the train dataset, and save it in a dataframe."
      ],
      "metadata": {
        "id": "qkg-_Dw8wbR3"
      }
    },
    {
      "cell_type": "code",
      "source": [
        "df_t7 = pd.DataFrame(columns=['ID','LABEL_TRUE','LABEL_PRED'])\n",
        "\n",
        "df_sim = pd.read_csv('runi-nlp/kaggle/nlp_2023_train.csv', header=0, names=['ID','text1','text2', 'Similarity']).head(5000)\n",
        "df_t7['LABEL_PRED'] = df_sim.apply(lambda x: get_similarity_score(s1=x['text1'], s2=x['text2']), axis=1)\n",
        "df_t7['ID'] = df_sim['ID']\n",
        "df_t7['LABEL_TRUE'] = df_sim['Similarity'].apply(lambda x: int(x + 0.5))"
      ],
      "metadata": {
        "id": "eDL729Q-wbZK"
      },
      "execution_count": null,
      "outputs": []
    },
    {
      "cell_type": "markdown",
      "source": [
        "Print a classification report (use a simple SK-learn classification report)"
      ],
      "metadata": {
        "id": "GAPbLyBjzbH4"
      }
    },
    {
      "cell_type": "markdown",
      "source": [
        "Save a CSV file as `{student_id_1}_{student_id_n}_part7.csv` with this format: `ID, LABEL_TRUE, LABEL_PRED`\n",
        "\n",
        "Notice:\n",
        "- Do not write the index number to the CSV file.\n",
        "- Make sure the CSV file will contain only integers.\n"
      ],
      "metadata": {
        "id": "Pb9WGCFLwGpl"
      }
    },
    {
      "cell_type": "code",
      "source": [
        "df_t7.to_csv('319122610_206446221_part7.csv', index=False)\n",
        "\n",
        "print(classification_report(df_t7['LABEL_TRUE'], df_t7['LABEL_PRED']))"
      ],
      "metadata": {
        "id": "LrzKd5oNwGv9",
        "colab": {
          "base_uri": "https://localhost:8080/"
        },
        "outputId": "e7806fc5-f7b5-420f-f31f-9ad520e5b310"
      },
      "execution_count": null,
      "outputs": [
        {
          "output_type": "stream",
          "name": "stdout",
          "text": [
            "              precision    recall  f1-score   support\n",
            "\n",
            "           0       1.00      0.40      0.57      3114\n",
            "           1       0.50      1.00      0.67      1886\n",
            "\n",
            "    accuracy                           0.62      5000\n",
            "   macro avg       0.75      0.70      0.62      5000\n",
            "weighted avg       0.81      0.62      0.61      5000\n",
            "\n"
          ]
        }
      ]
    },
    {
      "cell_type": "markdown",
      "metadata": {
        "id": "jxaESRoco6bV"
      },
      "source": [
        "<br><br><br><br><br><br>\n",
        "**Good luck!**"
      ]
    }
  ]
}